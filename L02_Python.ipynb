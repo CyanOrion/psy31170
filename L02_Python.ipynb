{
 "cells": [
  {
   "cell_type": "markdown",
   "metadata": {
    "slideshow": {
     "slide_type": "slide"
    }
   },
   "source": [
    "# Topics\n",
    "* Literals\n",
    "* Variables\n",
    "* Assignment\n",
    "* Expressions\n",
    "* Modules\n",
    "* Formatting"
   ]
  },
  {
   "cell_type": "markdown",
   "metadata": {
    "slideshow": {
     "slide_type": "slide"
    }
   },
   "source": [
    "\n",
    "# Information is packaged in all sorts of ways"
   ]
  },
  {
   "cell_type": "markdown",
   "metadata": {
    "slideshow": {
     "slide_type": "slide"
    }
   },
   "source": [
    "# Text\n",
    "\n",
    "```\n",
    "...it became instantly clear why inundation was a\n",
    "serious problem ... more than 80% of the data is\n",
    "missing as measured by 100*isNAN/datapoints...\n",
    "```"
   ]
  },
  {
   "cell_type": "markdown",
   "metadata": {
    "slideshow": {
     "slide_type": "slide"
    }
   },
   "source": [
    "# Numbers\n",
    "\n",
    "| River Delta | waves_mean  | fnmoc_waves_mean | discharge | inundation | prist_disch_06min |\n",
    "|-------------|------------------|-----------|------------|-------------------|--------| \n",
    "| Amazon      | %69.24           | %82.54    | %8.70      | %70.63            | %43.48 | \n",
    "| Amur        | %69.27           | %82.54    | %8.70      | %88.01            | %43.48 | \n",
    "| Ganges      | %69.24           | %82.54    | %8.70      | %70.63            | %43.48 | \n",
    "| Brahmani    | %69.24           | %82.54    | %8.70      | %70.63            | %43.48 | \n",
    "| Burdekin    | %69.24           | %82.54    | %8.70      | %70.63            | %43.48 | \n",
    "| Chao Phraya | %69.24           | %82.54    | %8.70      | %70.63            | %43.48 | \n",
    "| Congo       | %69.24           | %82.54    | %8.70      | %70.63            | %43.48 | \n",
    "| Colorado    | %69.24           | %82.54    | %8.70      | %70.63            | %43.48 | \n",
    "\n"
   ]
  },
  {
   "cell_type": "markdown",
   "metadata": {
    "slideshow": {
     "slide_type": "slide"
    }
   },
   "source": [
    "# Pictures\n",
    "![matrix heatmap colored from red to black indicating which variables are missing](figs/L02/missing.png)\n"
   ]
  },
  {
   "cell_type": "markdown",
   "metadata": {
    "slideshow": {
     "slide_type": "slide"
    }
   },
   "source": [
    "# ...so how do computers represent information?"
   ]
  },
  {
   "cell_type": "markdown",
   "metadata": {
    "slideshow": {
     "slide_type": "slide"
    }
   },
   "source": [
    "![Magritte's image of a pipe](figs/L02/MagrittePipe.jpg)"
   ]
  },
  {
   "cell_type": "markdown",
   "metadata": {
    "slideshow": {
     "slide_type": "slide"
    }
   },
   "source": [
    "# Literals:\n",
    "\n",
    "* __integer__:\n",
    "    ```python\n",
    "    ...-10, -9, ..., -1, 0, 1, ...9, 10....\n",
    "    ```\n",
    "* __double__:\n",
    "    ```python\n",
    "    ...-1.222...-.045244.....0.00001....4.5...\n",
    "    ```\n",
    "* __float__:\n",
    "    ```python\n",
    "    ...-23e12...-12e-2....-2e2...13e-2...45e15...\n",
    "    ```\n",
    "* __bool__:\n",
    "    ```python\n",
    "    True, False\n",
    "    ```\n",
    "* __string__:\n",
    "    ```python\n",
    "    \"hello world!\", \"good bye world\"....\n",
    "    ```"
   ]
  },
  {
   "cell_type": "markdown",
   "metadata": {
    "slideshow": {
     "slide_type": "slide"
    },
    "solution2": "hidden",
    "solution2_first": true
   },
   "source": [
    "# Exercise\n",
    "1. Enter the words hello world and press <shift + enter>\n",
    "2. Try using the `print` function with different literals: \n",
    "    ```python\n",
    "     print(\"Alice\", 123, False)\n",
    "    ```"
   ]
  },
  {
   "cell_type": "code",
   "execution_count": null,
   "metadata": {
    "slideshow": {
     "slide_type": "subslide"
    },
    "solution2": "hidden"
   },
   "outputs": [],
   "source": [
    "\"hello world\""
   ]
  },
  {
   "cell_type": "code",
   "execution_count": null,
   "metadata": {
    "slideshow": {
     "slide_type": "subslide"
    },
    "solution2": "hidden"
   },
   "outputs": [],
   "source": [
    "print(\"Mad Hatter\", 23.45, True)"
   ]
  },
  {
   "cell_type": "markdown",
   "metadata": {
    "slideshow": {
     "slide_type": "slide"
    }
   },
   "source": [
    "# Variables\n",
    "![spice market in istanbul with clearly labeled spices](figs/L02/labels.jpg)\n",
    "[Image taken by Ashwin Chandrasekaran\n",
    "](https://flic.kr/p/pJm4DG)"
   ]
  },
  {
   "cell_type": "markdown",
   "metadata": {
    "slideshow": {
     "slide_type": "slide"
    }
   },
   "source": [
    "# Variables\n",
    "* __name__ how the data is referred to throughout the code\n",
    "* __type__ what sort of data is being stored\n",
    "* __value__ the data being stored"
   ]
  },
  {
   "cell_type": "markdown",
   "metadata": {
    "slideshow": {
     "slide_type": "slide"
    }
   },
   "source": [
    "# Variable name\n",
    "There are a few rules for variable names \n",
    "+ First character has to be a letter or underscore\n",
    "    * __valid__  _hello, hello\n",
    "    * __invalid__  1hello, @hello\n",
    "+ Must be composed of letters, digits, and underscores\n",
    "    * __valid__  hello1, he1ll0, hello\n",
    "    * __invalid__ h*ello, he llo\n",
    "+ Can’t be part of the language\n",
    "    * __valid__ hello, goodbye, world\n",
    "    * __invalid__ bad  int, using, return"
   ]
  },
  {
   "cell_type": "markdown",
   "metadata": {
    "slideshow": {
     "slide_type": "slide"
    }
   },
   "source": [
    "# Variable Assignment\n",
    "\n",
    "```python\n",
    "    variable = value\n",
    "```\n",
    "\n",
    "## Examples:\n",
    "\n",
    "```python\n",
    "name = \"Hannah\"\n",
    "code = 31170\n",
    "classname = f\"PSY{code}\"\n",
    "early = True\n",
    "```"
   ]
  },
  {
   "cell_type": "markdown",
   "metadata": {
    "slideshow": {
     "slide_type": "slide"
    },
    "solution2": "hidden",
    "solution2_first": true
   },
   "source": [
    "# Exercise\n",
    "\n",
    "1. Create a variable called `name` and assign it a value of your full name.\n",
    "2. Create a variable called `credits` and assign it a value of how many credits you're taking or teaching this semester\n",
    "3. print both variables"
   ]
  },
  {
   "cell_type": "code",
   "execution_count": null,
   "metadata": {
    "slideshow": {
     "slide_type": "slide"
    },
    "solution2": "hidden"
   },
   "outputs": [],
   "source": [
    "name = \"Hannah Aizenman\"\n",
    "credits = 7\n",
    "print(name, credits)"
   ]
  },
  {
   "cell_type": "markdown",
   "metadata": {
    "slideshow": {
     "slide_type": "slide"
    }
   },
   "source": [
    "# Expressions\n",
    "\n",
    "__PEMDAS precedence__ (start at x=0)\n",
    "\n",
    " Operator | What it does |  Statement | Stored in x \n",
    ":--------:|:-------------|:----------:|:-----------:\n",
    " + | addition | x = x + 10 | 10 \n",
    " - | subtraction| x = x - 4 |6 \n",
    " * | multiplication |x = x* 3 | 18\n",
    "/ | division  | x = x/2 |9\n",
    "% | modulo (remainder) |x = x%2 | 1\n"
   ]
  },
  {
   "cell_type": "markdown",
   "metadata": {
    "slideshow": {
     "slide_type": "slide"
    }
   },
   "source": [
    "# Python as a calculator!"
   ]
  },
  {
   "cell_type": "code",
   "execution_count": null,
   "metadata": {},
   "outputs": [],
   "source": []
  },
  {
   "cell_type": "markdown",
   "metadata": {
    "slideshow": {
     "slide_type": "slide"
    }
   },
   "source": [
    "# Assignment with Expressions"
   ]
  },
  {
   "cell_type": "code",
   "execution_count": null,
   "metadata": {},
   "outputs": [],
   "source": [
    "x = 5\n",
    "y = 10\n",
    "x, y"
   ]
  },
  {
   "cell_type": "code",
   "execution_count": null,
   "metadata": {},
   "outputs": [],
   "source": [
    "z = x + y\n",
    "z"
   ]
  },
  {
   "cell_type": "code",
   "execution_count": null,
   "metadata": {},
   "outputs": [],
   "source": [
    "z = z + 10\n",
    "z"
   ]
  },
  {
   "cell_type": "markdown",
   "metadata": {
    "slideshow": {
     "slide_type": "slide"
    }
   },
   "source": [
    "# Accumulators\n",
    " \n",
    " ### Start at x = 0\n",
    "\n",
    " accumulator | What it does |  Statement | Stored in x \n",
    ":--------:|:-------------|:----------:|:-----------:\n",
    " += | adds | x+=10 | 10 \n",
    " -= | subtracts| x-=4 |6 \n",
    " *= | multiplies |x*=3 | 18\n",
    "/= | divides | x/=2 |9\n",
    "%= | mod  |x%=2 | 1"
   ]
  },
  {
   "cell_type": "markdown",
   "metadata": {
    "slideshow": {
     "slide_type": "slide"
    }
   },
   "source": [
    "# Exercise: Use the calculator!\n",
    "Compute the following:\n",
    "1. 1/2\n",
    "2. 1//2\n",
    "3. a = 5/4\n",
    "4. b = 5%4\n",
    "5. a*=b\n",
    "5. 18%5/2 - try putting parenthesis around different parts\n",
    "6. Whatever you want to compute\n"
   ]
  },
  {
   "cell_type": "markdown",
   "metadata": {
    "slideshow": {
     "slide_type": "slide"
    }
   },
   "source": [
    "# More math!\n"
   ]
  },
  {
   "cell_type": "markdown",
   "metadata": {
    "slideshow": {
     "slide_type": "slide"
    }
   },
   "source": [
    "# How do we compute the area of a circle? "
   ]
  },
  {
   "cell_type": "markdown",
   "metadata": {},
   "source": [
    "$$area = \\pi r^2$$"
   ]
  },
  {
   "cell_type": "markdown",
   "metadata": {
    "slideshow": {
     "slide_type": "slide"
    }
   },
   "source": [
    "# Let's compute for r = 2"
   ]
  },
  {
   "cell_type": "code",
   "execution_count": null,
   "metadata": {
    "slideshow": {
     "slide_type": "-"
    }
   },
   "outputs": [],
   "source": [
    "r = 2\n",
    "3.1416 * r * r"
   ]
  },
  {
   "cell_type": "markdown",
   "metadata": {
    "slideshow": {
     "slide_type": "slide"
    }
   },
   "source": [
    "# kinda imprecise...let's improve on that"
   ]
  },
  {
   "cell_type": "markdown",
   "metadata": {
    "slideshow": {
     "slide_type": "slide"
    }
   },
   "source": [
    "# Modules\n",
    "![gif o"
   ]
  },
  {
   "cell_type": "code",
   "execution_count": null,
   "metadata": {},
   "outputs": [],
   "source": [
    "import math\n",
    "\n",
    "math.pi"
   ]
  },
  {
   "cell_type": "code",
   "execution_count": null,
   "metadata": {},
   "outputs": [],
   "source": [
    "math.pi*(r**2)"
   ]
  },
  {
   "cell_type": "code",
   "execution_count": null,
   "metadata": {},
   "outputs": [],
   "source": [
    "math.pi*math.pow(r,2)"
   ]
  },
  {
   "cell_type": "markdown",
   "metadata": {
    "slideshow": {
     "slide_type": "slide"
    },
    "solution2": "hidden",
    "solution2_first": true
   },
   "source": [
    "# Exercise\n",
    "Using the math library (https://docs.python.org/3/library/math.html) compute:\n",
    "1. The volume of a sphere: $$\\frac{4}{3}\\pi r^2$$\n",
    "2. The hypotenuse c of a triangle with sides a=3 and b=4: $$a^2+b^2=c^2$$\n",
    "3. The number of digits in the number d=28933293. Number digits = $$\\lfloor\\log_{10}(d)\\rfloor + 1$$"
   ]
  },
  {
   "cell_type": "code",
   "execution_count": null,
   "metadata": {
    "solution2": "hidden"
   },
   "outputs": [],
   "source": [
    "volume = (4/3)*math.pi*math.pow(r,2)\n",
    "volume"
   ]
  },
  {
   "cell_type": "code",
   "execution_count": null,
   "metadata": {
    "solution2": "hidden"
   },
   "outputs": [],
   "source": [
    "hyp = math.sqrt(math.pow(3,2)+math.pow(4,2))\n",
    "hyp"
   ]
  },
  {
   "cell_type": "code",
   "execution_count": null,
   "metadata": {
    "solution2": "hidden"
   },
   "outputs": [],
   "source": [
    "nd = math.floor(math.log10(28933293)) + 1\n",
    "nd"
   ]
  },
  {
   "cell_type": "markdown",
   "metadata": {
    "slideshow": {
     "slide_type": "slide"
    }
   },
   "source": [
    "# Let's clean up printing with string formatting\n",
    "https://docs.python.org/3.4/library/string.html#format-string-syntax"
   ]
  },
  {
   "cell_type": "code",
   "execution_count": null,
   "metadata": {
    "slideshow": {
     "slide_type": "slide"
    }
   },
   "outputs": [],
   "source": [
    "math.pi*math.pow(r,2)"
   ]
  },
  {
   "cell_type": "code",
   "execution_count": null,
   "metadata": {},
   "outputs": [],
   "source": [
    "# truncate to 2 places in floating point notation\n",
    "f\"{math.pi*math.pow(r,2):.2f}\""
   ]
  },
  {
   "cell_type": "code",
   "execution_count": null,
   "metadata": {},
   "outputs": [],
   "source": [
    "# Add in explanatory text\n",
    "f\"Area of a circle with radius {r} is {math.pi*math.pow(r,2):.2f}\""
   ]
  },
  {
   "cell_type": "code",
   "execution_count": null,
   "metadata": {
    "slideshow": {
     "slide_type": "-"
    }
   },
   "outputs": [],
   "source": [
    "# mix and match and assign to a variable because the format string is a string\n",
    "sent = f\"Hello my name is {name} and I'm teaching {credits} credits\"\n",
    "sent"
   ]
  },
  {
   "cell_type": "markdown",
   "metadata": {
    "slideshow": {
     "slide_type": "slide"
    },
    "solution2": "hidden",
    "solution2_first": true
   },
   "source": [
    "# Exercises\n",
    "1. Print Pi to 5 decimal places\n",
    "2. Print your name and the number of credits you're taking\n",
    "3. Print something non-ASCII"
   ]
  },
  {
   "cell_type": "code",
   "execution_count": null,
   "metadata": {
    "solution2": "hidden"
   },
   "outputs": [],
   "source": [
    "f\"{math.pi:0.5f}\""
   ]
  },
  {
   "cell_type": "code",
   "execution_count": null,
   "metadata": {
    "solution2": "hidden"
   },
   "outputs": [],
   "source": [
    "hello = \"Привет\"\n",
    "f\"{hello} is hello\""
   ]
  },
  {
   "cell_type": "code",
   "execution_count": null,
   "metadata": {
    "slideshow": {
     "slide_type": "slide"
    }
   },
   "outputs": [],
   "source": []
  }
 ],
 "metadata": {
  "celltoolbar": "Slideshow",
  "kernelspec": {
   "display_name": "Python 3",
   "language": "python",
   "name": "python3"
  },
  "language_info": {
   "codemirror_mode": {
    "name": "ipython",
    "version": 3
   },
   "file_extension": ".py",
   "mimetype": "text/x-python",
   "name": "python",
   "nbconvert_exporter": "python",
   "pygments_lexer": "ipython3",
   "version": "3.7.2"
  }
 },
 "nbformat": 4,
 "nbformat_minor": 2
}
