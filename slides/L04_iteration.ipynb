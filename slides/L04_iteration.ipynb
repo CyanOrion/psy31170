{
 "cells": [
  {
   "cell_type": "markdown",
   "metadata": {
    "slideshow": {
     "slide_type": "slide"
    }
   },
   "source": [
    "# Iteration - Loops!"
   ]
  },
  {
   "cell_type": "markdown",
   "metadata": {
    "slideshow": {
     "slide_type": "slide"
    }
   },
   "source": [
    "![](figs/L04/nlmm.png)"
   ]
  },
  {
   "cell_type": "markdown",
   "metadata": {
    "slideshow": {
     "slide_type": "slide"
    }
   },
   "source": [
    "# Range Objects\n",
    "\n",
    "start & stop are optional, but no step without a start:\n",
    "```python\n",
    "range(stop)\n",
    "range(start, stop)\n",
    "range(start, stop, step)\n",
    "```"
   ]
  },
  {
   "cell_type": "code",
   "execution_count": null,
   "metadata": {
    "slideshow": {
     "slide_type": "slide"
    }
   },
   "outputs": [],
   "source": [
    "range(0, 10,1)"
   ]
  },
  {
   "cell_type": "code",
   "execution_count": null,
   "metadata": {
    "slideshow": {
     "slide_type": "fragment"
    }
   },
   "outputs": [],
   "source": [
    "list(range(0,10,1))"
   ]
  },
  {
   "cell_type": "code",
   "execution_count": null,
   "metadata": {
    "slideshow": {
     "slide_type": "fragment"
    }
   },
   "outputs": [],
   "source": [
    "list(range(10,0, -1)) "
   ]
  },
  {
   "cell_type": "markdown",
   "metadata": {
    "slideshow": {
     "slide_type": "slide"
    }
   },
   "source": [
    "# Exercise:\n",
    "1. Create a list of odd numbers between 0 and 20\n",
    "2. Display the multiples of 3 backward from 33 to 3, inclusive"
   ]
  },
  {
   "cell_type": "code",
   "execution_count": null,
   "metadata": {
    "slideshow": {
     "slide_type": "slide"
    }
   },
   "outputs": [],
   "source": [
    "list(range(1,20, 2))"
   ]
  },
  {
   "cell_type": "code",
   "execution_count": null,
   "metadata": {
    "slideshow": {
     "slide_type": "fragment"
    }
   },
   "outputs": [],
   "source": [
    "list(range(33,0, -3))"
   ]
  },
  {
   "cell_type": "markdown",
   "metadata": {
    "slideshow": {
     "slide_type": "slide"
    }
   },
   "source": [
    "# What's with range? - it's a generator!"
   ]
  },
  {
   "cell_type": "markdown",
   "metadata": {
    "slideshow": {
     "slide_type": "slide"
    }
   },
   "source": [
    "# Generator? - used in loops!\n",
    "```python\n",
    "for element in sequence:\n",
    "    # do stuff\n",
    "```\n"
   ]
  },
  {
   "cell_type": "code",
   "execution_count": 2,
   "metadata": {
    "slideshow": {
     "slide_type": "slide"
    }
   },
   "outputs": [
    {
     "name": "stdout",
     "output_type": "stream",
     "text": [
      "H |\n",
      "a |\n",
      "n |\n",
      "n |\n",
      "a |\n",
      "h |\n"
     ]
    }
   ],
   "source": [
    "#worksheet - draw stem for each letter\n",
    "for letter in \"Hannah\":\n",
    "    print(letter, \"|\")"
   ]
  },
  {
   "cell_type": "code",
   "execution_count": 4,
   "metadata": {
    "slideshow": {
     "slide_type": "slide"
    }
   },
   "outputs": [
    {
     "name": "stdout",
     "output_type": "stream",
     "text": [
      "I am iteration 0\n",
      "I am iteration 1\n",
      "I am iteration 2\n",
      "I am iteration 3\n",
      "I am iteration 4\n",
      "I am iteration 5\n",
      "I am iteration 6\n",
      "I am iteration 7\n",
      "I am iteration 8\n",
      "I am iteration 9\n"
     ]
    }
   ],
   "source": [
    "for i in range(0, 10):\n",
    "    print(f\"I am iteration {i}\")"
   ]
  },
  {
   "cell_type": "markdown",
   "metadata": {
    "slideshow": {
     "slide_type": "slide"
    }
   },
   "source": [
    "# Let's print a line of stars:\n",
    "```\n",
    "****************\n",
    "```"
   ]
  },
  {
   "cell_type": "code",
   "execution_count": 20,
   "metadata": {
    "slideshow": {
     "slide_type": "fragment"
    }
   },
   "outputs": [
    {
     "name": "stdout",
     "output_type": "stream",
     "text": [
      "***************"
     ]
    }
   ],
   "source": [
    "# by convention, if we don't use the variable we set it as _\n",
    "size = 15\n",
    "for _ in range(size):\n",
    "    print('*', end=\"\") \n",
    "    #end=\"\" makes the end of the printline \"\" instead of new line"
   ]
  },
  {
   "cell_type": "markdown",
   "metadata": {
    "slideshow": {
     "slide_type": "slide"
    }
   },
   "source": [
    "# Let's print multiple lines\n",
    "```\n",
    "****************\n",
    "****************\n",
    "```"
   ]
  },
  {
   "cell_type": "code",
   "execution_count": 22,
   "metadata": {
    "slideshow": {
     "slide_type": "slide"
    }
   },
   "outputs": [
    {
     "name": "stdout",
     "output_type": "stream",
     "text": [
      "iteration 0: **********\n",
      "iteration 1: **********\n",
      "iteration 2: **********\n",
      "iteration 3: **********\n",
      "iteration 4: **********\n"
     ]
    }
   ],
   "source": [
    "height = 5\n",
    "width = 10\n",
    "# height: how many rows of stars\n",
    "for h in range(height):\n",
    "    #width: horizontal line of stars\n",
    "    print(f\"iteration {h}: \", end=\"\")\n",
    "    for _ in range(width):\n",
    "        print('*', end=\"\")\n",
    "    print()"
   ]
  },
  {
   "cell_type": "markdown",
   "metadata": {
    "slideshow": {
     "slide_type": "slide"
    }
   },
   "source": [
    "# Let's make a triangle:\n",
    "2. Print a triangle and let the user set the height. \n",
    "\n",
    "        *\n",
    "        **\n",
    "        ***\n",
    "        ****\n",
    "  "
   ]
  },
  {
   "cell_type": "code",
   "execution_count": 33,
   "metadata": {
    "slideshow": {
     "slide_type": "slide"
    }
   },
   "outputs": [
    {
     "name": "stdout",
     "output_type": "stream",
     "text": [
      "*\n",
      "**\n",
      "***\n",
      "****\n"
     ]
    }
   ],
   "source": [
    "height = 4\n",
    "for i in range(height):\n",
    "    for _ in range(i+1):\n",
    "        print('*', end=\"\")\n",
    "    print()"
   ]
  },
  {
   "cell_type": "markdown",
   "metadata": {
    "slideshow": {
     "slide_type": "slide"
    }
   },
   "source": [
    "# Exercise\n",
    "1. Write a program to print out an n*n multiplication table\n",
    "```\n",
    "1, 2, 3, 4, 5, 6, \n",
    "2, 4, 6, ......\n",
    "```\n",
    "\n",
    "2. Print a triangle and let the user set the height\n",
    "    ```\n",
    "        *\n",
    "       ***\n",
    "      *****\n",
    "    ```\n",
    "\n",
    "  "
   ]
  },
  {
   "cell_type": "code",
   "execution_count": 36,
   "metadata": {
    "slideshow": {
     "slide_type": "slide"
    }
   },
   "outputs": [
    {
     "name": "stdout",
     "output_type": "stream",
     "text": [
      " *"
     ]
    }
   ],
   "source": [
    "# hint for 2\n",
    "print(\" \", end=\"\")\n",
    "print(\"*\", end=\"\")"
   ]
  },
  {
   "cell_type": "code",
   "execution_count": 43,
   "metadata": {},
   "outputs": [
    {
     "name": "stdout",
     "output_type": "stream",
     "text": [
      "  1   2   3   4   5   6   7   8   9  10  11  12 \n",
      "  2   4   6   8  10  12  14  16  18  20  22  24 \n",
      "  3   6   9  12  15  18  21  24  27  30  33  36 \n",
      "  4   8  12  16  20  24  28  32  36  40  44  48 \n",
      "  5  10  15  20  25  30  35  40  45  50  55  60 \n",
      "  6  12  18  24  30  36  42  48  54  60  66  72 \n",
      "  7  14  21  28  35  42  49  56  63  70  77  84 \n",
      "  8  16  24  32  40  48  56  64  72  80  88  96 \n",
      "  9  18  27  36  45  54  63  72  81  90  99 108 \n",
      " 10  20  30  40  50  60  70  80  90 100 110 120 \n",
      " 11  22  33  44  55  66  77  88  99 110 121 132 \n",
      " 12  24  36  48  60  72  84  96 108 120 132 144 \n"
     ]
    }
   ],
   "source": [
    "n = 12\n",
    "for i in range(1, n+1):\n",
    "    for j in range(1, n+1):\n",
    "        print(f'{i*j:3}', end=\" \")\n",
    "    print()\n",
    "    "
   ]
  },
  {
   "cell_type": "markdown",
   "metadata": {
    "slideshow": {
     "slide_type": "slide"
    }
   },
   "source": [
    "# What if we don't know what we're looping over? "
   ]
  },
  {
   "cell_type": "markdown",
   "metadata": {
    "slideshow": {
     "slide_type": "slide"
    }
   },
   "source": [
    "# While loop\n",
    "```Python\n",
    "while condition:\n",
    "    #do stuff\n",
    "```"
   ]
  },
  {
   "cell_type": "code",
   "execution_count": 44,
   "metadata": {
    "slideshow": {
     "slide_type": "slide"
    }
   },
   "outputs": [
    {
     "name": "stdout",
     "output_type": "stream",
     "text": [
      "play again? yes\n",
      "play again? jk\n",
      "play again? ajk\n",
      "play again? no\n"
     ]
    }
   ],
   "source": [
    "repeat = \"yes\"\n",
    "while repeat!=\"no\":\n",
    "    repeat = input(\"play again? \")"
   ]
  },
  {
   "cell_type": "markdown",
   "metadata": {
    "slideshow": {
     "slide_type": "slide"
    }
   },
   "source": [
    "## Excercise\n",
    "1. Write a program that asks the users for numbers until number is greater than 100\n",
    "2. Find the minimum of the numbers"
   ]
  },
  {
   "cell_type": "code",
   "execution_count": 49,
   "metadata": {},
   "outputs": [
    {
     "name": "stdout",
     "output_type": "stream",
     "text": [
      "Please Enter #: 1\n",
      "Please Enter #: 2\n",
      "Please Enter #: 3\n",
      "Please Enter #: 4\n",
      "Please Enter #: 5\n",
      "Please Enter #: -89\n",
      "Please Enter #: 10\n",
      "Please Enter #: 100\n",
      "-89\n"
     ]
    }
   ],
   "source": [
    "num = 0\n",
    "mymin = 100\n",
    "while num<100:\n",
    "    num = int(input(\"Please Enter #: \"))\n",
    "    if mymin > num:\n",
    "        mymin = num\n",
    "print(mymin)"
   ]
  },
  {
   "cell_type": "code",
   "execution_count": null,
   "metadata": {},
   "outputs": [],
   "source": []
  }
 ],
 "metadata": {
  "celltoolbar": "Slideshow",
  "kernelspec": {
   "display_name": "Python 3",
   "language": "python",
   "name": "python3"
  },
  "language_info": {
   "codemirror_mode": {
    "name": "ipython",
    "version": 3
   },
   "file_extension": ".py",
   "mimetype": "text/x-python",
   "name": "python",
   "nbconvert_exporter": "python",
   "pygments_lexer": "ipython3",
   "version": "3.6.8"
  },
  "latex_envs": {
   "LaTeX_envs_menu_present": true,
   "autoclose": false,
   "autocomplete": true,
   "bibliofile": "biblio.bib",
   "cite_by": "apalike",
   "current_citInitial": 1,
   "eqLabelWithNumbers": true,
   "eqNumInitial": 1,
   "hotkeys": {
    "equation": "Ctrl-E",
    "itemize": "Ctrl-I"
   },
   "labels_anchors": false,
   "latex_user_defs": false,
   "report_style_numbering": false,
   "user_envs_cfg": false
  },
  "varInspector": {
   "cols": {
    "lenName": 16,
    "lenType": 16,
    "lenVar": 40
   },
   "kernels_config": {
    "python": {
     "delete_cmd_postfix": "",
     "delete_cmd_prefix": "del ",
     "library": "var_list.py",
     "varRefreshCmd": "print(var_dic_list())"
    },
    "r": {
     "delete_cmd_postfix": ") ",
     "delete_cmd_prefix": "rm(",
     "library": "var_list.r",
     "varRefreshCmd": "cat(var_dic_list()) "
    }
   },
   "types_to_exclude": [
    "module",
    "function",
    "builtin_function_or_method",
    "instance",
    "_Feature"
   ],
   "window_display": false
  }
 },
 "nbformat": 4,
 "nbformat_minor": 2
}
