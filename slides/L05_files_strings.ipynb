{
 "cells": [
  {
   "cell_type": "markdown",
   "metadata": {
    "slideshow": {
     "slide_type": "slide"
    }
   },
   "source": [
    "# Strings & Files"
   ]
  },
  {
   "cell_type": "markdown",
   "metadata": {
    "slideshow": {
     "slide_type": "slide"
    }
   },
   "source": [
    "## Let's look at data:\n",
    "* Twelve-month prevalence and population estimates of DSM-IV alcohol abuse by age, sex, and race-ethnicity: United States, 2001–2002 (NESARC) [ txt format](https://pubs.niaaa.nih.gov/publications/aeds/aodprevalence/abusdep1.txt)\n",
    "\n",
    "* Twelve-month prevalence and population estimates of DSM-IV alcohol dependence by age, sex, and race-ethnicity: United States, 2001–2002 (NESARC) [ txt format](https://pubs.niaaa.nih.gov/publications/aeds/aodprevalence/abusdep2.txt)\n",
    "\n",
    "Source: [National Institute of Alcohol Abuse and Alcoholism](https://pubs.niaaa.nih.gov/publications/aeds/aodprevalence/aodprevalence.htm)"
   ]
  },
  {
   "cell_type": "markdown",
   "metadata": {
    "slideshow": {
     "slide_type": "notes"
    }
   },
   "source": [
    "* ! - run system command line command\n",
    "* '../data/abusedep1.txt is the path to the file"
   ]
  },
  {
   "cell_type": "code",
   "execution_count": 1,
   "metadata": {
    "slideshow": {
     "slide_type": "slide"
    }
   },
   "outputs": [
    {
     "name": "stdout",
     "output_type": "stream",
     "text": [
      "[abusdep1.txt, dated 01/05]\r",
      "\r\n",
      "\r",
      "\r\n",
      "Twelve-month prevalence and population estimates of DSM-IV alcohol abuse by\r",
      "\r\n",
      "age, sex, and race-ethnicity: United States, 2001�2002 (NESARC)*\r",
      "\r\n",
      "-------------------------------------------------------------------------------\r",
      "\r\n",
      "                 Male                 Female               Total\r",
      "\r\n",
      "                 --------------------------------------------------------------\r",
      "\r\n",
      "Sociodemographic         Population            Population            Population\r",
      "\r\n",
      "characteristic   %    S.E. estimate    %    S.E. estimate    %    S.E. estimate\r",
      "\r\n",
      "                                (a)                   (a)                   (a)\r",
      "\r\n"
     ]
    }
   ],
   "source": [
    "! head -n 10 ../data/abusdep1.txt"
   ]
  },
  {
   "cell_type": "markdown",
   "metadata": {
    "slideshow": {
     "slide_type": "slide"
    }
   },
   "source": [
    "# How do we turn that into something computer readable?"
   ]
  },
  {
   "cell_type": "markdown",
   "metadata": {
    "slideshow": {
     "slide_type": "skip"
    }
   },
   "source": [
    "with is a `context manager`. It makes sure that the file is closed when the program is done with it. \n",
    "r is the file mode. The most commonly used options are: \n",
    "* r - read\n",
    "* w - write\n",
    "* a - append\n",
    "* \\+ - read and write\n"
   ]
  },
  {
   "cell_type": "code",
   "execution_count": 2,
   "metadata": {
    "slideshow": {
     "slide_type": "slide"
    }
   },
   "outputs": [
    {
     "name": "stdout",
     "output_type": "stream",
     "text": [
      "<_io.TextIOWrapper name='../data/abusdep1.txt' mode='r' encoding='UTF-8'>\n"
     ]
    },
    {
     "ename": "UnicodeDecodeError",
     "evalue": "'utf-8' codec can't decode byte 0x96 in position 157: invalid start byte",
     "output_type": "error",
     "traceback": [
      "\u001b[0;31m---------------------------------------------------------------------------\u001b[0m",
      "\u001b[0;31mUnicodeDecodeError\u001b[0m                        Traceback (most recent call last)",
      "\u001b[0;32m<ipython-input-2-e094cc0fc27f>\u001b[0m in \u001b[0;36m<module>\u001b[0;34m\u001b[0m\n\u001b[1;32m      4\u001b[0m \u001b[0;32mwith\u001b[0m \u001b[0mopen\u001b[0m\u001b[0;34m(\u001b[0m\u001b[0mfilepath\u001b[0m\u001b[0;34m,\u001b[0m \u001b[0;34m'r'\u001b[0m\u001b[0;34m)\u001b[0m \u001b[0;32mas\u001b[0m \u001b[0mf\u001b[0m\u001b[0;34m:\u001b[0m\u001b[0;34m\u001b[0m\u001b[0;34m\u001b[0m\u001b[0m\n\u001b[1;32m      5\u001b[0m     \u001b[0mprint\u001b[0m\u001b[0;34m(\u001b[0m\u001b[0mf\u001b[0m\u001b[0;34m)\u001b[0m\u001b[0;34m\u001b[0m\u001b[0;34m\u001b[0m\u001b[0m\n\u001b[0;32m----> 6\u001b[0;31m     \u001b[0mcontent\u001b[0m \u001b[0;34m=\u001b[0m \u001b[0mf\u001b[0m\u001b[0;34m.\u001b[0m\u001b[0mread\u001b[0m\u001b[0;34m(\u001b[0m\u001b[0;34m)\u001b[0m\u001b[0;34m\u001b[0m\u001b[0;34m\u001b[0m\u001b[0m\n\u001b[0m",
      "\u001b[0;32m~/miniconda3/envs/psych/lib/python3.7/codecs.py\u001b[0m in \u001b[0;36mdecode\u001b[0;34m(self, input, final)\u001b[0m\n\u001b[1;32m    320\u001b[0m         \u001b[0;31m# decode input (taking the buffer into account)\u001b[0m\u001b[0;34m\u001b[0m\u001b[0;34m\u001b[0m\u001b[0;34m\u001b[0m\u001b[0m\n\u001b[1;32m    321\u001b[0m         \u001b[0mdata\u001b[0m \u001b[0;34m=\u001b[0m \u001b[0mself\u001b[0m\u001b[0;34m.\u001b[0m\u001b[0mbuffer\u001b[0m \u001b[0;34m+\u001b[0m \u001b[0minput\u001b[0m\u001b[0;34m\u001b[0m\u001b[0;34m\u001b[0m\u001b[0m\n\u001b[0;32m--> 322\u001b[0;31m         \u001b[0;34m(\u001b[0m\u001b[0mresult\u001b[0m\u001b[0;34m,\u001b[0m \u001b[0mconsumed\u001b[0m\u001b[0;34m)\u001b[0m \u001b[0;34m=\u001b[0m \u001b[0mself\u001b[0m\u001b[0;34m.\u001b[0m\u001b[0m_buffer_decode\u001b[0m\u001b[0;34m(\u001b[0m\u001b[0mdata\u001b[0m\u001b[0;34m,\u001b[0m \u001b[0mself\u001b[0m\u001b[0;34m.\u001b[0m\u001b[0merrors\u001b[0m\u001b[0;34m,\u001b[0m \u001b[0mfinal\u001b[0m\u001b[0;34m)\u001b[0m\u001b[0;34m\u001b[0m\u001b[0;34m\u001b[0m\u001b[0m\n\u001b[0m\u001b[1;32m    323\u001b[0m         \u001b[0;31m# keep undecoded input until the next call\u001b[0m\u001b[0;34m\u001b[0m\u001b[0;34m\u001b[0m\u001b[0;34m\u001b[0m\u001b[0m\n\u001b[1;32m    324\u001b[0m         \u001b[0mself\u001b[0m\u001b[0;34m.\u001b[0m\u001b[0mbuffer\u001b[0m \u001b[0;34m=\u001b[0m \u001b[0mdata\u001b[0m\u001b[0;34m[\u001b[0m\u001b[0mconsumed\u001b[0m\u001b[0;34m:\u001b[0m\u001b[0;34m]\u001b[0m\u001b[0;34m\u001b[0m\u001b[0;34m\u001b[0m\u001b[0m\n",
      "\u001b[0;31mUnicodeDecodeError\u001b[0m: 'utf-8' codec can't decode byte 0x96 in position 157: invalid start byte"
     ]
    }
   ],
   "source": [
    "filepath = \"../data/abusdep1.txt\"\n",
    "#filepath = \"abusedep1.txt\"\n",
    "# equivalent to f = open(filepath, 'r') //do styff //f.close()\n",
    "with open(filepath, 'r') as f:\n",
    "    print(f)\n",
    "    content = f.read()"
   ]
  },
  {
   "cell_type": "markdown",
   "metadata": {
    "slideshow": {
     "slide_type": "slide"
    }
   },
   "source": [
    "# How do we find encoding? right click->view page info\n",
    "![screenshot of page info window with text encoding=windows-1252 highlighted](figs/L05/textencoding.png)"
   ]
  },
  {
   "cell_type": "code",
   "execution_count": 3,
   "metadata": {
    "slideshow": {
     "slide_type": "slide"
    }
   },
   "outputs": [],
   "source": [
    "filepath = \"../data/abusdep1.txt\"\n",
    "with open(filepath, 'r', encoding=\"windows-1252\") as f:\n",
    "    content = f.read()"
   ]
  },
  {
   "cell_type": "code",
   "execution_count": 4,
   "metadata": {
    "slideshow": {
     "slide_type": "slide"
    }
   },
   "outputs": [
    {
     "data": {
      "text/plain": [
       "'[abusdep1.txt, dated 01/05]\\n\\nTwelve-month prevalence and population estimates of DSM-IV alcohol abuse by\\nage, sex, and race-ethnicity: United States, 2001–2002 (NESARC)*\\n-------------------------------------------------------------------------------\\n                 Male                 Female               Total\\n                 --------------------------------------------------------------\\nSociodemographic         Population            Population            Population\\ncharacteristic   %    S.E. estimate    %    S.E. estimate    %    S.E. estimate\\n                                (a)                   (a)                   (a)\\n-------------------------------------------------------------------------------\\nTotal\\n Total          6.93  0.28    6906    2.55  0.16    2762    4.65  0.18     9668\\n 18–29          9.35  0.61    2110    4.57  0.39    1041    6.95  0.39     3151\\n 30–44          8.69  0.49    2742    3.31  0.28    1080    5.95  0.31     3822\\n 45–64          5.50  0.43    1719    1.70  0.20     566    3.54  0.25     2286\\n 65+            2.36  0.32     335    0.38  0.11      75    1.21  0.15      410\\n\\nWhite\\n Total          7.45  0.33    5276    2.92  0.19    2236    5.10  0.21     7511\\n 18–29         10.19  0.81    1405    5.56  0.54     777    7.86  0.50     2182\\n 30–44         10.10  0.63    2166    4.13  0.38     902    7.09  0.40     3068\\n 45–64          5.97  0.51    1425    2.02  0.26     499    3.96  0.30     1925\\n 65+            2.38  0.35     279    0.36  0.10      58    1.21  0.16      336\\n\\nBlack\\n Total          5.71  0.58     574    1.41  0.19     182    3.29  0.30      756\\n 18–29          6.92  1.28     166    2.10  0.45      68    4.28  0.67      254\\n 30–44          7.04  0.95     238    1.51  0.30      65    3.95  0.46      302\\n 45–64          4.48  0.74     132    1.25  0.37      47    2.66  0.40      178\\n 65+            1.79  0.59      19    0.12  0.12       2    0.78  0.25       21\\n\\nNative American(b)\\n Total          7.47  1.65     157    4.18  1.25      97    5.75  1.02      253\\n 18–29         15.25  5.68      56    6.68  3.34      33   10.35  3.11       89\\n 30–44          7.67  3.00      54    6.52  3.01      49    7.07  2.13      102\\n 45–64          4.85  2.12      39    0.00  0.00       0    2.57  1.14       39\\n 65+            3.59  2.49       8    4.12  4.00      15    3.91  2.63       24\\n\\nAsian(c)\\n Total          3.20  0.79     140    1.13  0.41      53    2.13  0.46      193\\n 18–29          4.77  1.81      63    3.89  1.38      47    4.35  1.25      110\\n 30–44          4.22  1.54      64    0.23  0.22       4    2.18  0.79       68\\n 45–64          1.13  0.78      13    0.20  0.20       3    0.61  0.32       16\\n 65+            0.00  0.00       0    0.00  0.00       0    0.00  0.00        0\\n\\nHispanic/Latino\\n Total          6.21  0.50     759    1.65  0.23     195    3.97  0.30      953\\n 18–29          9.08  1.07     400    3.04  0.63     116    6.28  0.63      516\\n 30–44          4.88  0.59     219    1.46  0.33      61    3.23  0.37      281\\n 45–64          4.35  0.84     111    0.63  0.36      17    2.43  0.39      128\\n 65+            3.69  1.62      29    0.00  0.00       0    1.56  0.66       29\\n-------------------------------------------------------------------------------\\n(a) Population counts are in thousands.\\n\\n(b) Includes American Indians and Alaska Natives.\\n\\n(c) Includes Native Hawaiians and other Pacific Islanders.\\n\\n* Data are from the NIAAA 2001-2002 National Epidemiologic Survey on Alcohol\\nand Related Conditions (NESARC).\\n\\nSource: Grant, B.F.; Dawson, D.A.; Stinson, F.S.; Chou, S.P.; Dufour, M.C.; and\\nPickering, R.P. The 12-month prevalence and trends in DSM-IV alcohol abuse and\\ndependence: United States, 1991–1992 and 2001–2002. Drug and Alcohol Dependence,\\n74(3):223-34, 2004.\\n'"
      ]
     },
     "execution_count": 4,
     "metadata": {},
     "output_type": "execute_result"
    }
   ],
   "source": [
    "content"
   ]
  },
  {
   "cell_type": "markdown",
   "metadata": {
    "slideshow": {
     "slide_type": "slide"
    }
   },
   "source": [
    "# What is that?"
   ]
  },
  {
   "cell_type": "code",
   "execution_count": 5,
   "metadata": {
    "slideshow": {
     "slide_type": "slide"
    }
   },
   "outputs": [
    {
     "data": {
      "text/plain": [
       "str"
      ]
     },
     "execution_count": 5,
     "metadata": {},
     "output_type": "execute_result"
    }
   ],
   "source": [
    "type(content)"
   ]
  },
  {
   "cell_type": "markdown",
   "metadata": {
    "slideshow": {
     "slide_type": "slide"
    }
   },
   "source": [
    "#  String library: \n",
    "* https://docs.python.org/3/library/stdtypes.html#string-methods\n",
    "\n",
    "```python\n",
    " str.split(sep=None, maxsplit=-1)\n",
    "```\n",
    "```\n",
    "Return a list of the words in the string, using sep as the delimiter string. If maxsplit is given, at most maxsplit splits are done (thus, the list will have at most maxsplit+1 elements). If maxsplit is not specified or -1, then there is no limit on the number of splits (all possible splits are made).\n",
    "```"
   ]
  },
  {
   "cell_type": "code",
   "execution_count": 6,
   "metadata": {
    "slideshow": {
     "slide_type": "slide"
    }
   },
   "outputs": [
    {
     "data": {
      "text/plain": [
       "['[abusdep1.txt, dated 01/05]',\n",
       " '',\n",
       " 'Twelve-month prevalence and population estimates of DSM-IV alcohol abuse by',\n",
       " 'age, sex, and race-ethnicity: United States, 2001–2002 (NESARC)*',\n",
       " '-------------------------------------------------------------------------------',\n",
       " '                 Male                 Female               Total',\n",
       " '                 --------------------------------------------------------------',\n",
       " 'Sociodemographic         Population            Population            Population',\n",
       " 'characteristic   %    S.E. estimate    %    S.E. estimate    %    S.E. estimate',\n",
       " '                                (a)                   (a)                   (a)',\n",
       " '-------------------------------------------------------------------------------',\n",
       " 'Total',\n",
       " ' Total          6.93  0.28    6906    2.55  0.16    2762    4.65  0.18     9668',\n",
       " ' 18–29          9.35  0.61    2110    4.57  0.39    1041    6.95  0.39     3151',\n",
       " ' 30–44          8.69  0.49    2742    3.31  0.28    1080    5.95  0.31     3822',\n",
       " ' 45–64          5.50  0.43    1719    1.70  0.20     566    3.54  0.25     2286',\n",
       " ' 65+            2.36  0.32     335    0.38  0.11      75    1.21  0.15      410',\n",
       " '',\n",
       " 'White',\n",
       " ' Total          7.45  0.33    5276    2.92  0.19    2236    5.10  0.21     7511',\n",
       " ' 18–29         10.19  0.81    1405    5.56  0.54     777    7.86  0.50     2182',\n",
       " ' 30–44         10.10  0.63    2166    4.13  0.38     902    7.09  0.40     3068',\n",
       " ' 45–64          5.97  0.51    1425    2.02  0.26     499    3.96  0.30     1925',\n",
       " ' 65+            2.38  0.35     279    0.36  0.10      58    1.21  0.16      336',\n",
       " '',\n",
       " 'Black',\n",
       " ' Total          5.71  0.58     574    1.41  0.19     182    3.29  0.30      756',\n",
       " ' 18–29          6.92  1.28     166    2.10  0.45      68    4.28  0.67      254',\n",
       " ' 30–44          7.04  0.95     238    1.51  0.30      65    3.95  0.46      302',\n",
       " ' 45–64          4.48  0.74     132    1.25  0.37      47    2.66  0.40      178',\n",
       " ' 65+            1.79  0.59      19    0.12  0.12       2    0.78  0.25       21',\n",
       " '',\n",
       " 'Native American(b)',\n",
       " ' Total          7.47  1.65     157    4.18  1.25      97    5.75  1.02      253',\n",
       " ' 18–29         15.25  5.68      56    6.68  3.34      33   10.35  3.11       89',\n",
       " ' 30–44          7.67  3.00      54    6.52  3.01      49    7.07  2.13      102',\n",
       " ' 45–64          4.85  2.12      39    0.00  0.00       0    2.57  1.14       39',\n",
       " ' 65+            3.59  2.49       8    4.12  4.00      15    3.91  2.63       24',\n",
       " '',\n",
       " 'Asian(c)',\n",
       " ' Total          3.20  0.79     140    1.13  0.41      53    2.13  0.46      193',\n",
       " ' 18–29          4.77  1.81      63    3.89  1.38      47    4.35  1.25      110',\n",
       " ' 30–44          4.22  1.54      64    0.23  0.22       4    2.18  0.79       68',\n",
       " ' 45–64          1.13  0.78      13    0.20  0.20       3    0.61  0.32       16',\n",
       " ' 65+            0.00  0.00       0    0.00  0.00       0    0.00  0.00        0',\n",
       " '',\n",
       " 'Hispanic/Latino',\n",
       " ' Total          6.21  0.50     759    1.65  0.23     195    3.97  0.30      953',\n",
       " ' 18–29          9.08  1.07     400    3.04  0.63     116    6.28  0.63      516',\n",
       " ' 30–44          4.88  0.59     219    1.46  0.33      61    3.23  0.37      281',\n",
       " ' 45–64          4.35  0.84     111    0.63  0.36      17    2.43  0.39      128',\n",
       " ' 65+            3.69  1.62      29    0.00  0.00       0    1.56  0.66       29',\n",
       " '-------------------------------------------------------------------------------',\n",
       " '(a) Population counts are in thousands.',\n",
       " '',\n",
       " '(b) Includes American Indians and Alaska Natives.',\n",
       " '',\n",
       " '(c) Includes Native Hawaiians and other Pacific Islanders.',\n",
       " '',\n",
       " '* Data are from the NIAAA 2001-2002 National Epidemiologic Survey on Alcohol',\n",
       " 'and Related Conditions (NESARC).',\n",
       " '',\n",
       " 'Source: Grant, B.F.; Dawson, D.A.; Stinson, F.S.; Chou, S.P.; Dufour, M.C.; and',\n",
       " 'Pickering, R.P. The 12-month prevalence and trends in DSM-IV alcohol abuse and',\n",
       " 'dependence: United States, 1991–1992 and 2001–2002. Drug and Alcohol Dependence,',\n",
       " '74(3):223-34, 2004.',\n",
       " '']"
      ]
     },
     "execution_count": 6,
     "metadata": {},
     "output_type": "execute_result"
    }
   ],
   "source": [
    "content.split(\"\\n\")"
   ]
  },
  {
   "cell_type": "markdown",
   "metadata": {
    "slideshow": {
     "slide_type": "slide"
    }
   },
   "source": [
    "# Can alternatively do this directly on the read:"
   ]
  },
  {
   "cell_type": "code",
   "execution_count": 7,
   "metadata": {
    "slideshow": {
     "slide_type": "fragment"
    }
   },
   "outputs": [],
   "source": [
    "filepath = \"../data/abusdep1.txt\"\n",
    "with open(filepath, 'r', encoding=\"windows-1252\") as f:\n",
    "    content = f.readlines()"
   ]
  },
  {
   "cell_type": "code",
   "execution_count": 8,
   "metadata": {
    "slideshow": {
     "slide_type": "slide"
    }
   },
   "outputs": [
    {
     "data": {
      "text/plain": [
       "['[abusdep1.txt, dated 01/05]\\n',\n",
       " '\\n',\n",
       " 'Twelve-month prevalence and population estimates of DSM-IV alcohol abuse by\\n',\n",
       " 'age, sex, and race-ethnicity: United States, 2001–2002 (NESARC)*\\n',\n",
       " '-------------------------------------------------------------------------------\\n',\n",
       " '                 Male                 Female               Total\\n',\n",
       " '                 --------------------------------------------------------------\\n',\n",
       " 'Sociodemographic         Population            Population            Population\\n',\n",
       " 'characteristic   %    S.E. estimate    %    S.E. estimate    %    S.E. estimate\\n',\n",
       " '                                (a)                   (a)                   (a)\\n',\n",
       " '-------------------------------------------------------------------------------\\n',\n",
       " 'Total\\n',\n",
       " ' Total          6.93  0.28    6906    2.55  0.16    2762    4.65  0.18     9668\\n',\n",
       " ' 18–29          9.35  0.61    2110    4.57  0.39    1041    6.95  0.39     3151\\n',\n",
       " ' 30–44          8.69  0.49    2742    3.31  0.28    1080    5.95  0.31     3822\\n',\n",
       " ' 45–64          5.50  0.43    1719    1.70  0.20     566    3.54  0.25     2286\\n',\n",
       " ' 65+            2.36  0.32     335    0.38  0.11      75    1.21  0.15      410\\n',\n",
       " '\\n',\n",
       " 'White\\n',\n",
       " ' Total          7.45  0.33    5276    2.92  0.19    2236    5.10  0.21     7511\\n',\n",
       " ' 18–29         10.19  0.81    1405    5.56  0.54     777    7.86  0.50     2182\\n',\n",
       " ' 30–44         10.10  0.63    2166    4.13  0.38     902    7.09  0.40     3068\\n',\n",
       " ' 45–64          5.97  0.51    1425    2.02  0.26     499    3.96  0.30     1925\\n',\n",
       " ' 65+            2.38  0.35     279    0.36  0.10      58    1.21  0.16      336\\n',\n",
       " '\\n',\n",
       " 'Black\\n',\n",
       " ' Total          5.71  0.58     574    1.41  0.19     182    3.29  0.30      756\\n',\n",
       " ' 18–29          6.92  1.28     166    2.10  0.45      68    4.28  0.67      254\\n',\n",
       " ' 30–44          7.04  0.95     238    1.51  0.30      65    3.95  0.46      302\\n',\n",
       " ' 45–64          4.48  0.74     132    1.25  0.37      47    2.66  0.40      178\\n',\n",
       " ' 65+            1.79  0.59      19    0.12  0.12       2    0.78  0.25       21\\n',\n",
       " '\\n',\n",
       " 'Native American(b)\\n',\n",
       " ' Total          7.47  1.65     157    4.18  1.25      97    5.75  1.02      253\\n',\n",
       " ' 18–29         15.25  5.68      56    6.68  3.34      33   10.35  3.11       89\\n',\n",
       " ' 30–44          7.67  3.00      54    6.52  3.01      49    7.07  2.13      102\\n',\n",
       " ' 45–64          4.85  2.12      39    0.00  0.00       0    2.57  1.14       39\\n',\n",
       " ' 65+            3.59  2.49       8    4.12  4.00      15    3.91  2.63       24\\n',\n",
       " '\\n',\n",
       " 'Asian(c)\\n',\n",
       " ' Total          3.20  0.79     140    1.13  0.41      53    2.13  0.46      193\\n',\n",
       " ' 18–29          4.77  1.81      63    3.89  1.38      47    4.35  1.25      110\\n',\n",
       " ' 30–44          4.22  1.54      64    0.23  0.22       4    2.18  0.79       68\\n',\n",
       " ' 45–64          1.13  0.78      13    0.20  0.20       3    0.61  0.32       16\\n',\n",
       " ' 65+            0.00  0.00       0    0.00  0.00       0    0.00  0.00        0\\n',\n",
       " '\\n',\n",
       " 'Hispanic/Latino\\n',\n",
       " ' Total          6.21  0.50     759    1.65  0.23     195    3.97  0.30      953\\n',\n",
       " ' 18–29          9.08  1.07     400    3.04  0.63     116    6.28  0.63      516\\n',\n",
       " ' 30–44          4.88  0.59     219    1.46  0.33      61    3.23  0.37      281\\n',\n",
       " ' 45–64          4.35  0.84     111    0.63  0.36      17    2.43  0.39      128\\n',\n",
       " ' 65+            3.69  1.62      29    0.00  0.00       0    1.56  0.66       29\\n',\n",
       " '-------------------------------------------------------------------------------\\n',\n",
       " '(a) Population counts are in thousands.\\n',\n",
       " '\\n',\n",
       " '(b) Includes American Indians and Alaska Natives.\\n',\n",
       " '\\n',\n",
       " '(c) Includes Native Hawaiians and other Pacific Islanders.\\n',\n",
       " '\\n',\n",
       " '* Data are from the NIAAA 2001-2002 National Epidemiologic Survey on Alcohol\\n',\n",
       " 'and Related Conditions (NESARC).\\n',\n",
       " '\\n',\n",
       " 'Source: Grant, B.F.; Dawson, D.A.; Stinson, F.S.; Chou, S.P.; Dufour, M.C.; and\\n',\n",
       " 'Pickering, R.P. The 12-month prevalence and trends in DSM-IV alcohol abuse and\\n',\n",
       " 'dependence: United States, 1991–1992 and 2001–2002. Drug and Alcohol Dependence,\\n',\n",
       " '74(3):223-34, 2004.\\n']"
      ]
     },
     "execution_count": 8,
     "metadata": {},
     "output_type": "execute_result"
    }
   ],
   "source": [
    "content"
   ]
  },
  {
   "cell_type": "markdown",
   "metadata": {
    "slideshow": {
     "slide_type": "slide"
    }
   },
   "source": [
    "# What line does the total data start at?"
   ]
  },
  {
   "cell_type": "markdown",
   "metadata": {
    "slideshow": {
     "slide_type": "slide"
    }
   },
   "source": [
    "The `enumerate` function yields the index and the item in the list"
   ]
  },
  {
   "cell_type": "code",
   "execution_count": 9,
   "metadata": {
    "slideshow": {
     "slide_type": "subslide"
    }
   },
   "outputs": [
    {
     "name": "stdout",
     "output_type": "stream",
     "text": [
      "0 [abusdep1.txt, dated 01/05]\n",
      "\n",
      "1 \n",
      "\n",
      "2 Twelve-month prevalence and population estimates of DSM-IV alcohol abuse by\n",
      "\n",
      "3 age, sex, and race-ethnicity: United States, 2001–2002 (NESARC)*\n",
      "\n",
      "4 -------------------------------------------------------------------------------\n",
      "\n",
      "5                  Male                 Female               Total\n",
      "\n",
      "6                  --------------------------------------------------------------\n",
      "\n",
      "7 Sociodemographic         Population            Population            Population\n",
      "\n",
      "8 characteristic   %    S.E. estimate    %    S.E. estimate    %    S.E. estimate\n",
      "\n",
      "9                                 (a)                   (a)                   (a)\n",
      "\n",
      "10 -------------------------------------------------------------------------------\n",
      "\n",
      "11 Total\n",
      "\n",
      "12  Total          6.93  0.28    6906    2.55  0.16    2762    4.65  0.18     9668\n",
      "\n",
      "13  18–29          9.35  0.61    2110    4.57  0.39    1041    6.95  0.39     3151\n",
      "\n",
      "14  30–44          8.69  0.49    2742    3.31  0.28    1080    5.95  0.31     3822\n",
      "\n",
      "15  45–64          5.50  0.43    1719    1.70  0.20     566    3.54  0.25     2286\n",
      "\n",
      "16  65+            2.36  0.32     335    0.38  0.11      75    1.21  0.15      410\n",
      "\n",
      "17 \n",
      "\n",
      "18 White\n",
      "\n",
      "19  Total          7.45  0.33    5276    2.92  0.19    2236    5.10  0.21     7511\n",
      "\n",
      "20  18–29         10.19  0.81    1405    5.56  0.54     777    7.86  0.50     2182\n",
      "\n",
      "21  30–44         10.10  0.63    2166    4.13  0.38     902    7.09  0.40     3068\n",
      "\n",
      "22  45–64          5.97  0.51    1425    2.02  0.26     499    3.96  0.30     1925\n",
      "\n",
      "23  65+            2.38  0.35     279    0.36  0.10      58    1.21  0.16      336\n",
      "\n",
      "24 \n",
      "\n",
      "25 Black\n",
      "\n",
      "26  Total          5.71  0.58     574    1.41  0.19     182    3.29  0.30      756\n",
      "\n",
      "27  18–29          6.92  1.28     166    2.10  0.45      68    4.28  0.67      254\n",
      "\n",
      "28  30–44          7.04  0.95     238    1.51  0.30      65    3.95  0.46      302\n",
      "\n",
      "29  45–64          4.48  0.74     132    1.25  0.37      47    2.66  0.40      178\n",
      "\n",
      "30  65+            1.79  0.59      19    0.12  0.12       2    0.78  0.25       21\n",
      "\n",
      "31 \n",
      "\n",
      "32 Native American(b)\n",
      "\n",
      "33  Total          7.47  1.65     157    4.18  1.25      97    5.75  1.02      253\n",
      "\n",
      "34  18–29         15.25  5.68      56    6.68  3.34      33   10.35  3.11       89\n",
      "\n",
      "35  30–44          7.67  3.00      54    6.52  3.01      49    7.07  2.13      102\n",
      "\n",
      "36  45–64          4.85  2.12      39    0.00  0.00       0    2.57  1.14       39\n",
      "\n",
      "37  65+            3.59  2.49       8    4.12  4.00      15    3.91  2.63       24\n",
      "\n",
      "38 \n",
      "\n",
      "39 Asian(c)\n",
      "\n",
      "40  Total          3.20  0.79     140    1.13  0.41      53    2.13  0.46      193\n",
      "\n",
      "41  18–29          4.77  1.81      63    3.89  1.38      47    4.35  1.25      110\n",
      "\n",
      "42  30–44          4.22  1.54      64    0.23  0.22       4    2.18  0.79       68\n",
      "\n",
      "43  45–64          1.13  0.78      13    0.20  0.20       3    0.61  0.32       16\n",
      "\n",
      "44  65+            0.00  0.00       0    0.00  0.00       0    0.00  0.00        0\n",
      "\n",
      "45 \n",
      "\n",
      "46 Hispanic/Latino\n",
      "\n",
      "47  Total          6.21  0.50     759    1.65  0.23     195    3.97  0.30      953\n",
      "\n",
      "48  18–29          9.08  1.07     400    3.04  0.63     116    6.28  0.63      516\n",
      "\n",
      "49  30–44          4.88  0.59     219    1.46  0.33      61    3.23  0.37      281\n",
      "\n",
      "50  45–64          4.35  0.84     111    0.63  0.36      17    2.43  0.39      128\n",
      "\n",
      "51  65+            3.69  1.62      29    0.00  0.00       0    1.56  0.66       29\n",
      "\n",
      "52 -------------------------------------------------------------------------------\n",
      "\n",
      "53 (a) Population counts are in thousands.\n",
      "\n",
      "54 \n",
      "\n",
      "55 (b) Includes American Indians and Alaska Natives.\n",
      "\n",
      "56 \n",
      "\n",
      "57 (c) Includes Native Hawaiians and other Pacific Islanders.\n",
      "\n",
      "58 \n",
      "\n",
      "59 * Data are from the NIAAA 2001-2002 National Epidemiologic Survey on Alcohol\n",
      "\n",
      "60 and Related Conditions (NESARC).\n",
      "\n",
      "61 \n",
      "\n",
      "62 Source: Grant, B.F.; Dawson, D.A.; Stinson, F.S.; Chou, S.P.; Dufour, M.C.; and\n",
      "\n",
      "63 Pickering, R.P. The 12-month prevalence and trends in DSM-IV alcohol abuse and\n",
      "\n",
      "64 dependence: United States, 1991–1992 and 2001–2002. Drug and Alcohol Dependence,\n",
      "\n",
      "65 74(3):223-34, 2004.\n",
      "\n"
     ]
    }
   ],
   "source": [
    "\n",
    "for i, line in enumerate(content):\n",
    "    print(i, line)"
   ]
  },
  {
   "cell_type": "code",
   "execution_count": 10,
   "metadata": {
    "slideshow": {
     "slide_type": "slide"
    }
   },
   "outputs": [
    {
     "name": "stdout",
     "output_type": "stream",
     "text": [
      "5                  Male                 Female               Total\n",
      "\n",
      "11 Total\n",
      "\n",
      "12  Total          6.93  0.28    6906    2.55  0.16    2762    4.65  0.18     9668\n",
      "\n",
      "19  Total          7.45  0.33    5276    2.92  0.19    2236    5.10  0.21     7511\n",
      "\n",
      "26  Total          5.71  0.58     574    1.41  0.19     182    3.29  0.30      756\n",
      "\n",
      "33  Total          7.47  1.65     157    4.18  1.25      97    5.75  1.02      253\n",
      "\n",
      "40  Total          3.20  0.79     140    1.13  0.41      53    2.13  0.46      193\n",
      "\n",
      "47  Total          6.21  0.50     759    1.65  0.23     195    3.97  0.30      953\n",
      "\n"
     ]
    }
   ],
   "source": [
    "dbs = []\n",
    "for i, line in enumerate(content):\n",
    "    if 'Total' in line:\n",
    "        print(i, line)\n",
    "        dbs.append(i)"
   ]
  },
  {
   "cell_type": "code",
   "execution_count": 11,
   "metadata": {
    "slideshow": {
     "slide_type": "slide"
    }
   },
   "outputs": [
    {
     "data": {
      "text/plain": [
       "[5, 11, 12, 19, 26, 33, 40, 47]"
      ]
     },
     "execution_count": 11,
     "metadata": {},
     "output_type": "execute_result"
    }
   ],
   "source": [
    "dbs"
   ]
  },
  {
   "cell_type": "code",
   "execution_count": 12,
   "metadata": {
    "slideshow": {
     "slide_type": "slide"
    }
   },
   "outputs": [],
   "source": [
    "# Lets' grab the total that has to do with line 12, and we know each block is 5 lines\n",
    "block = 2\n",
    "total = content[dbs[block]:dbs[block]+5]"
   ]
  },
  {
   "cell_type": "code",
   "execution_count": 13,
   "metadata": {
    "slideshow": {
     "slide_type": "slide"
    }
   },
   "outputs": [
    {
     "data": {
      "text/plain": [
       "[' Total          6.93  0.28    6906    2.55  0.16    2762    4.65  0.18     9668\\n',\n",
       " ' 18–29          9.35  0.61    2110    4.57  0.39    1041    6.95  0.39     3151\\n',\n",
       " ' 30–44          8.69  0.49    2742    3.31  0.28    1080    5.95  0.31     3822\\n',\n",
       " ' 45–64          5.50  0.43    1719    1.70  0.20     566    3.54  0.25     2286\\n',\n",
       " ' 65+            2.36  0.32     335    0.38  0.11      75    1.21  0.15      410\\n']"
      ]
     },
     "execution_count": 13,
     "metadata": {},
     "output_type": "execute_result"
    }
   ],
   "source": [
    "total"
   ]
  },
  {
   "cell_type": "code",
   "execution_count": 14,
   "metadata": {
    "slideshow": {
     "slide_type": "slide"
    }
   },
   "outputs": [
    {
     "data": {
      "text/plain": [
       "' Total          6.93  0.28    6906    2.55  0.16    2762    4.65  0.18     9668\\n'"
      ]
     },
     "execution_count": 14,
     "metadata": {},
     "output_type": "execute_result"
    }
   ],
   "source": [
    "# how do we break up a line:\n",
    "total[0]"
   ]
  },
  {
   "cell_type": "code",
   "execution_count": 15,
   "metadata": {
    "slideshow": {
     "slide_type": "slide"
    }
   },
   "outputs": [
    {
     "data": {
      "text/plain": [
       "['Total',\n",
       " '6.93',\n",
       " '0.28',\n",
       " '6906',\n",
       " '2.55',\n",
       " '0.16',\n",
       " '2762',\n",
       " '4.65',\n",
       " '0.18',\n",
       " '9668']"
      ]
     },
     "execution_count": 15,
     "metadata": {},
     "output_type": "execute_result"
    }
   ],
   "source": [
    "# the default seperator on split is white space\n",
    "total[0].split()"
   ]
  },
  {
   "cell_type": "code",
   "execution_count": 16,
   "metadata": {
    "slideshow": {
     "slide_type": "slide"
    }
   },
   "outputs": [
    {
     "name": "stdout",
     "output_type": "stream",
     "text": [
      "                 Male                 Female               Total\n",
      "\n",
      "characteristic   %    S.E. estimate    %    S.E. estimate    %    S.E. estimate\n",
      "\n"
     ]
    }
   ],
   "source": [
    "# how do we store this? Lets go back up and see what the columns mean\n",
    "print(content[5])\n",
    "print(content[8])"
   ]
  },
  {
   "cell_type": "markdown",
   "metadata": {
    "slideshow": {
     "slide_type": "slide"
    }
   },
   "source": [
    "# how do we blend this properly?"
   ]
  },
  {
   "cell_type": "code",
   "execution_count": 17,
   "metadata": {
    "slideshow": {
     "slide_type": "slide"
    }
   },
   "outputs": [
    {
     "data": {
      "text/plain": [
       "['Male', 'Female', 'Total']"
      ]
     },
     "execution_count": 17,
     "metadata": {},
     "output_type": "execute_result"
    }
   ],
   "source": [
    "sex = content[5].split()\n",
    "sex"
   ]
  },
  {
   "cell_type": "code",
   "execution_count": 18,
   "metadata": {
    "slideshow": {
     "slide_type": "slide"
    }
   },
   "outputs": [
    {
     "data": {
      "text/plain": [
       "['characteristic',\n",
       " '%',\n",
       " 'S.E.',\n",
       " 'estimate',\n",
       " '%',\n",
       " 'S.E.',\n",
       " 'estimate',\n",
       " '%',\n",
       " 'S.E.',\n",
       " 'estimate']"
      ]
     },
     "execution_count": 18,
     "metadata": {},
     "output_type": "execute_result"
    }
   ],
   "source": [
    "msmt = content[8].split()\n",
    "msmt"
   ]
  },
  {
   "cell_type": "markdown",
   "metadata": {
    "slideshow": {
     "slide_type": "slide"
    },
    "solution2": "hidden",
    "solution2_first": true
   },
   "source": [
    "Exercise:\n",
    "Manipulate the sex and msmt lists to get the following column headings:\n",
    "```\n",
    "['characteristic', 'Male-%', 'Male-S.E.', 'Male-estimate', 'Female-%', 'Female-S.E.', 'Female-estimate',\n",
    " 'Total-%', 'Total-S.E.', 'Total-estimate']\n",
    "```"
   ]
  },
  {
   "cell_type": "code",
   "execution_count": 19,
   "metadata": {},
   "outputs": [],
   "source": [
    "columns = [msmt[0]]\n",
    "for s in sex: \n",
    "    for ms in msmt[1:4]:\n",
    "        columns.append(f'{s}-{ms}')"
   ]
  },
  {
   "cell_type": "code",
   "execution_count": 20,
   "metadata": {
    "slideshow": {
     "slide_type": "slide"
    }
   },
   "outputs": [],
   "source": [
    "columns = [msmt[0]]\n",
    "for s in sex: \n",
    "    for m in msmt[1:4]:\n",
    "        columns.append(s+'-'+m)"
   ]
  },
  {
   "cell_type": "code",
   "execution_count": 21,
   "metadata": {},
   "outputs": [
    {
     "data": {
      "text/plain": [
       "['characteristic',\n",
       " 'Male-%',\n",
       " 'Male-S.E.',\n",
       " 'Male-estimate',\n",
       " 'Female-%',\n",
       " 'Female-S.E.',\n",
       " 'Female-estimate',\n",
       " 'Total-%',\n",
       " 'Total-S.E.',\n",
       " 'Total-estimate']"
      ]
     },
     "execution_count": 21,
     "metadata": {},
     "output_type": "execute_result"
    }
   ],
   "source": [
    "columns"
   ]
  },
  {
   "cell_type": "code",
   "execution_count": 22,
   "metadata": {
    "slideshow": {
     "slide_type": "slide"
    }
   },
   "outputs": [
    {
     "data": {
      "text/plain": [
       "['characteristic',\n",
       " ('Male', '%'),\n",
       " ('Male', 'S.E.'),\n",
       " ('Male', 'estimate'),\n",
       " ('Female', '%'),\n",
       " ('Female', 'S.E.'),\n",
       " ('Female', 'estimate'),\n",
       " ('Total', '%'),\n",
       " ('Total', 'S.E.'),\n",
       " ('Total', 'estimate')]"
      ]
     },
     "execution_count": 22,
     "metadata": {},
     "output_type": "execute_result"
    }
   ],
   "source": [
    "import itertools\n",
    "cols = [msmt[0]]\n",
    "cols.extend(list(itertools.product(sex, msmt[1:4])))\n",
    "cols"
   ]
  },
  {
   "cell_type": "code",
   "execution_count": 23,
   "metadata": {
    "solution2": "hidden"
   },
   "outputs": [],
   "source": [
    "columns = [msmt[0]]\n",
    "for s in sex:\n",
    "    for ms in msmt[1:4]:\n",
    "        columns.append(f'{s}-{ms}')"
   ]
  },
  {
   "cell_type": "code",
   "execution_count": 24,
   "metadata": {
    "slideshow": {
     "slide_type": "slide"
    }
   },
   "outputs": [
    {
     "data": {
      "text/plain": [
       "['Total',\n",
       " '6.93',\n",
       " '0.28',\n",
       " '6906',\n",
       " '2.55',\n",
       " '0.16',\n",
       " '2762',\n",
       " '4.65',\n",
       " '0.18',\n",
       " '9668']"
      ]
     },
     "execution_count": 24,
     "metadata": {},
     "output_type": "execute_result"
    }
   ],
   "source": [
    "# Now let's store the total records using our columns\n",
    "measurements = total[0].split()\n",
    "measurements"
   ]
  },
  {
   "cell_type": "code",
   "execution_count": 25,
   "metadata": {
    "slideshow": {
     "slide_type": "slide"
    }
   },
   "outputs": [],
   "source": [
    "# How to combine the two? \n",
    "rec = zip(columns, measurements)"
   ]
  },
  {
   "cell_type": "code",
   "execution_count": 26,
   "metadata": {
    "slideshow": {
     "slide_type": "slide"
    }
   },
   "outputs": [
    {
     "data": {
      "text/plain": [
       "<zip at 0x7f37081acb88>"
      ]
     },
     "execution_count": 26,
     "metadata": {},
     "output_type": "execute_result"
    }
   ],
   "source": [
    "rec"
   ]
  },
  {
   "cell_type": "code",
   "execution_count": 27,
   "metadata": {
    "slideshow": {
     "slide_type": "slide"
    }
   },
   "outputs": [
    {
     "data": {
      "text/plain": [
       "{'characteristic': 'Total',\n",
       " 'Male-%': '6.93',\n",
       " 'Male-S.E.': '0.28',\n",
       " 'Male-estimate': '6906',\n",
       " 'Female-%': '2.55',\n",
       " 'Female-S.E.': '0.16',\n",
       " 'Female-estimate': '2762',\n",
       " 'Total-%': '4.65',\n",
       " 'Total-S.E.': '0.18',\n",
       " 'Total-estimate': '9668'}"
      ]
     },
     "execution_count": 27,
     "metadata": {},
     "output_type": "execute_result"
    }
   ],
   "source": [
    "#how to store\n",
    "record = dict(rec)\n",
    "record"
   ]
  },
  {
   "cell_type": "code",
   "execution_count": 28,
   "metadata": {
    "slideshow": {
     "slide_type": "slide"
    }
   },
   "outputs": [
    {
     "data": {
      "text/plain": [
       "[]"
      ]
     },
     "execution_count": 28,
     "metadata": {},
     "output_type": "execute_result"
    }
   ],
   "source": [
    "list(rec) # Why is it empty? Zip is a generator, which means use once!"
   ]
  },
  {
   "cell_type": "code",
   "execution_count": 29,
   "metadata": {
    "slideshow": {
     "slide_type": "slide"
    }
   },
   "outputs": [
    {
     "data": {
      "text/plain": [
       "[{'characteristic': 'Total',\n",
       "  'Male-%': '6.93',\n",
       "  'Male-S.E.': '0.28',\n",
       "  'Male-estimate': '6906',\n",
       "  'Female-%': '2.55',\n",
       "  'Female-S.E.': '0.16',\n",
       "  'Female-estimate': '2762',\n",
       "  'Total-%': '4.65',\n",
       "  'Total-S.E.': '0.18',\n",
       "  'Total-estimate': '9668'}]"
      ]
     },
     "execution_count": 29,
     "metadata": {},
     "output_type": "execute_result"
    }
   ],
   "source": [
    "records = [record]\n",
    "records"
   ]
  },
  {
   "cell_type": "code",
   "execution_count": 30,
   "metadata": {
    "slideshow": {
     "slide_type": "slide"
    }
   },
   "outputs": [
    {
     "data": {
      "text/plain": [
       "[' Total          6.93  0.28    6906    2.55  0.16    2762    4.65  0.18     9668\\n',\n",
       " ' 18–29          9.35  0.61    2110    4.57  0.39    1041    6.95  0.39     3151\\n',\n",
       " ' 30–44          8.69  0.49    2742    3.31  0.28    1080    5.95  0.31     3822\\n',\n",
       " ' 45–64          5.50  0.43    1719    1.70  0.20     566    3.54  0.25     2286\\n',\n",
       " ' 65+            2.36  0.32     335    0.38  0.11      75    1.21  0.15      410\\n']"
      ]
     },
     "execution_count": 30,
     "metadata": {},
     "output_type": "execute_result"
    }
   ],
   "source": [
    "# lets store everything else in total in records:\n",
    "total"
   ]
  },
  {
   "cell_type": "code",
   "execution_count": 31,
   "metadata": {},
   "outputs": [],
   "source": [
    "#find the race ethnicity for the block\n",
    "reth = content[dbs[block]-1].strip(\"\\n\")"
   ]
  },
  {
   "cell_type": "code",
   "execution_count": 32,
   "metadata": {
    "slideshow": {
     "slide_type": "slide"
    }
   },
   "outputs": [],
   "source": [
    "records = []\n",
    "for row in total:\n",
    "    record = dict(zip(columns, row.split()))\n",
    "    record['race-ethnicty'] = reth\n",
    "    records.append(record)"
   ]
  },
  {
   "cell_type": "code",
   "execution_count": 33,
   "metadata": {
    "slideshow": {
     "slide_type": "slide"
    }
   },
   "outputs": [
    {
     "data": {
      "text/plain": [
       "[{'characteristic': 'Total',\n",
       "  'Male-%': '6.93',\n",
       "  'Male-S.E.': '0.28',\n",
       "  'Male-estimate': '6906',\n",
       "  'Female-%': '2.55',\n",
       "  'Female-S.E.': '0.16',\n",
       "  'Female-estimate': '2762',\n",
       "  'Total-%': '4.65',\n",
       "  'Total-S.E.': '0.18',\n",
       "  'Total-estimate': '9668',\n",
       "  'race-ethnicty': 'Total'},\n",
       " {'characteristic': '18–29',\n",
       "  'Male-%': '9.35',\n",
       "  'Male-S.E.': '0.61',\n",
       "  'Male-estimate': '2110',\n",
       "  'Female-%': '4.57',\n",
       "  'Female-S.E.': '0.39',\n",
       "  'Female-estimate': '1041',\n",
       "  'Total-%': '6.95',\n",
       "  'Total-S.E.': '0.39',\n",
       "  'Total-estimate': '3151',\n",
       "  'race-ethnicty': 'Total'},\n",
       " {'characteristic': '30–44',\n",
       "  'Male-%': '8.69',\n",
       "  'Male-S.E.': '0.49',\n",
       "  'Male-estimate': '2742',\n",
       "  'Female-%': '3.31',\n",
       "  'Female-S.E.': '0.28',\n",
       "  'Female-estimate': '1080',\n",
       "  'Total-%': '5.95',\n",
       "  'Total-S.E.': '0.31',\n",
       "  'Total-estimate': '3822',\n",
       "  'race-ethnicty': 'Total'},\n",
       " {'characteristic': '45–64',\n",
       "  'Male-%': '5.50',\n",
       "  'Male-S.E.': '0.43',\n",
       "  'Male-estimate': '1719',\n",
       "  'Female-%': '1.70',\n",
       "  'Female-S.E.': '0.20',\n",
       "  'Female-estimate': '566',\n",
       "  'Total-%': '3.54',\n",
       "  'Total-S.E.': '0.25',\n",
       "  'Total-estimate': '2286',\n",
       "  'race-ethnicty': 'Total'},\n",
       " {'characteristic': '65+',\n",
       "  'Male-%': '2.36',\n",
       "  'Male-S.E.': '0.32',\n",
       "  'Male-estimate': '335',\n",
       "  'Female-%': '0.38',\n",
       "  'Female-S.E.': '0.11',\n",
       "  'Female-estimate': '75',\n",
       "  'Total-%': '1.21',\n",
       "  'Total-S.E.': '0.15',\n",
       "  'Total-estimate': '410',\n",
       "  'race-ethnicty': 'Total'}]"
      ]
     },
     "execution_count": 33,
     "metadata": {},
     "output_type": "execute_result"
    }
   ],
   "source": [
    "records"
   ]
  },
  {
   "cell_type": "code",
   "execution_count": 34,
   "metadata": {},
   "outputs": [],
   "source": [
    "def process_block(content, line_number, columns, block_size=5):\n",
    "    block = content[line_number:line_number+block_size]\n",
    "    race_ethnicity = content[line_number-1].strip(\"\\n\")\n",
    "    records = []\n",
    "    for row in block:\n",
    "        record = dict(zip(columns, row.split()))\n",
    "        record['race-ethnicity'] = race_ethnicity\n",
    "        records.append(record)\n",
    "    return records"
   ]
  },
  {
   "cell_type": "code",
   "execution_count": 35,
   "metadata": {},
   "outputs": [],
   "source": [
    "records = process_block(content, dbs[2], columns)"
   ]
  },
  {
   "cell_type": "code",
   "execution_count": 36,
   "metadata": {},
   "outputs": [
    {
     "data": {
      "text/plain": [
       "[{'characteristic': 'Total',\n",
       "  'Male-%': '6.93',\n",
       "  'Male-S.E.': '0.28',\n",
       "  'Male-estimate': '6906',\n",
       "  'Female-%': '2.55',\n",
       "  'Female-S.E.': '0.16',\n",
       "  'Female-estimate': '2762',\n",
       "  'Total-%': '4.65',\n",
       "  'Total-S.E.': '0.18',\n",
       "  'Total-estimate': '9668',\n",
       "  'race-ethnicity': 'Total'},\n",
       " {'characteristic': '18–29',\n",
       "  'Male-%': '9.35',\n",
       "  'Male-S.E.': '0.61',\n",
       "  'Male-estimate': '2110',\n",
       "  'Female-%': '4.57',\n",
       "  'Female-S.E.': '0.39',\n",
       "  'Female-estimate': '1041',\n",
       "  'Total-%': '6.95',\n",
       "  'Total-S.E.': '0.39',\n",
       "  'Total-estimate': '3151',\n",
       "  'race-ethnicity': 'Total'},\n",
       " {'characteristic': '30–44',\n",
       "  'Male-%': '8.69',\n",
       "  'Male-S.E.': '0.49',\n",
       "  'Male-estimate': '2742',\n",
       "  'Female-%': '3.31',\n",
       "  'Female-S.E.': '0.28',\n",
       "  'Female-estimate': '1080',\n",
       "  'Total-%': '5.95',\n",
       "  'Total-S.E.': '0.31',\n",
       "  'Total-estimate': '3822',\n",
       "  'race-ethnicity': 'Total'},\n",
       " {'characteristic': '45–64',\n",
       "  'Male-%': '5.50',\n",
       "  'Male-S.E.': '0.43',\n",
       "  'Male-estimate': '1719',\n",
       "  'Female-%': '1.70',\n",
       "  'Female-S.E.': '0.20',\n",
       "  'Female-estimate': '566',\n",
       "  'Total-%': '3.54',\n",
       "  'Total-S.E.': '0.25',\n",
       "  'Total-estimate': '2286',\n",
       "  'race-ethnicity': 'Total'},\n",
       " {'characteristic': '65+',\n",
       "  'Male-%': '2.36',\n",
       "  'Male-S.E.': '0.32',\n",
       "  'Male-estimate': '335',\n",
       "  'Female-%': '0.38',\n",
       "  'Female-S.E.': '0.11',\n",
       "  'Female-estimate': '75',\n",
       "  'Total-%': '1.21',\n",
       "  'Total-S.E.': '0.15',\n",
       "  'Total-estimate': '410',\n",
       "  'race-ethnicity': 'Total'}]"
      ]
     },
     "execution_count": 36,
     "metadata": {},
     "output_type": "execute_result"
    }
   ],
   "source": [
    "records"
   ]
  },
  {
   "cell_type": "markdown",
   "metadata": {
    "slideshow": {
     "slide_type": "slide"
    }
   },
   "source": [
    "## Exercise\n",
    "Parse the other demographics & store the results as record dicts in the records list. \n",
    "Hint: Instead of copy and pasting, what should be done with the operations that are consistent across records?"
   ]
  },
  {
   "cell_type": "markdown",
   "metadata": {
    "slideshow": {
     "slide_type": "slide"
    }
   },
   "source": [
    "# Let's now work with our records"
   ]
  },
  {
   "cell_type": "code",
   "execution_count": 37,
   "metadata": {},
   "outputs": [
    {
     "data": {
      "text/plain": [
       "[{'characteristic': 'Total',\n",
       "  'Male-%': '6.93',\n",
       "  'Male-S.E.': '0.28',\n",
       "  'Male-estimate': '6906',\n",
       "  'Female-%': '2.55',\n",
       "  'Female-S.E.': '0.16',\n",
       "  'Female-estimate': '2762',\n",
       "  'Total-%': '4.65',\n",
       "  'Total-S.E.': '0.18',\n",
       "  'Total-estimate': '9668',\n",
       "  'race-ethnicity': 'Total'},\n",
       " {'characteristic': '18–29',\n",
       "  'Male-%': '9.35',\n",
       "  'Male-S.E.': '0.61',\n",
       "  'Male-estimate': '2110',\n",
       "  'Female-%': '4.57',\n",
       "  'Female-S.E.': '0.39',\n",
       "  'Female-estimate': '1041',\n",
       "  'Total-%': '6.95',\n",
       "  'Total-S.E.': '0.39',\n",
       "  'Total-estimate': '3151',\n",
       "  'race-ethnicity': 'Total'},\n",
       " {'characteristic': '30–44',\n",
       "  'Male-%': '8.69',\n",
       "  'Male-S.E.': '0.49',\n",
       "  'Male-estimate': '2742',\n",
       "  'Female-%': '3.31',\n",
       "  'Female-S.E.': '0.28',\n",
       "  'Female-estimate': '1080',\n",
       "  'Total-%': '5.95',\n",
       "  'Total-S.E.': '0.31',\n",
       "  'Total-estimate': '3822',\n",
       "  'race-ethnicity': 'Total'},\n",
       " {'characteristic': '45–64',\n",
       "  'Male-%': '5.50',\n",
       "  'Male-S.E.': '0.43',\n",
       "  'Male-estimate': '1719',\n",
       "  'Female-%': '1.70',\n",
       "  'Female-S.E.': '0.20',\n",
       "  'Female-estimate': '566',\n",
       "  'Total-%': '3.54',\n",
       "  'Total-S.E.': '0.25',\n",
       "  'Total-estimate': '2286',\n",
       "  'race-ethnicity': 'Total'},\n",
       " {'characteristic': '65+',\n",
       "  'Male-%': '2.36',\n",
       "  'Male-S.E.': '0.32',\n",
       "  'Male-estimate': '335',\n",
       "  'Female-%': '0.38',\n",
       "  'Female-S.E.': '0.11',\n",
       "  'Female-estimate': '75',\n",
       "  'Total-%': '1.21',\n",
       "  'Total-S.E.': '0.15',\n",
       "  'Total-estimate': '410',\n",
       "  'race-ethnicity': 'Total'}]"
      ]
     },
     "execution_count": 37,
     "metadata": {},
     "output_type": "execute_result"
    }
   ],
   "source": [
    "records"
   ]
  },
  {
   "cell_type": "markdown",
   "metadata": {
    "slideshow": {
     "slide_type": "slide"
    }
   },
   "source": [
    "## Exercise\n",
    "### Try with a different grouping"
   ]
  },
  {
   "cell_type": "markdown",
   "metadata": {
    "slideshow": {
     "slide_type": "slide"
    }
   },
   "source": [
    "# Partner up & come up with 3 questions you want to ask of the data"
   ]
  },
  {
   "cell_type": "markdown",
   "metadata": {
    "slideshow": {
     "slide_type": "slide"
    }
   },
   "source": [
    "# Lets save out the cleaned up data as a spreadsheet\n"
   ]
  },
  {
   "cell_type": "code",
   "execution_count": 38,
   "metadata": {
    "slideshow": {
     "slide_type": "slide"
    }
   },
   "outputs": [],
   "source": [
    "import csv\n",
    "\n",
    "with open('abuse1.csv', 'w', newline='') as csvfile:\n",
    "    writer = csv.DictWriter(csvfile, fieldnames=columns+['race-ethnicity'])\n",
    "    writer.writeheader()\n",
    "    for row in process_block(content, dbs[1], columns):\n",
    "        writer.writerow(row)"
   ]
  },
  {
   "cell_type": "code",
   "execution_count": 39,
   "metadata": {
    "slideshow": {
     "slide_type": "slide"
    }
   },
   "outputs": [
    {
     "name": "stdout",
     "output_type": "stream",
     "text": [
      "characteristic,Male-%,Male-S.E.,Male-estimate,Female-%,Female-S.E.,Female-estimate,Total-%,Total-S.E.,Total-estimate,race-ethnicity\r",
      "\r\n",
      "Total,,,,,,,,,,-------------------------------------------------------------------------------\r",
      "\r\n",
      "Total,6.93,0.28,6906,2.55,0.16,2762,4.65,0.18,9668,-------------------------------------------------------------------------------\r",
      "\r\n",
      "18–29,9.35,0.61,2110,4.57,0.39,1041,6.95,0.39,3151,-------------------------------------------------------------------------------\r",
      "\r\n",
      "30–44,8.69,0.49,2742,3.31,0.28,1080,5.95,0.31,3822,-------------------------------------------------------------------------------\r",
      "\r\n",
      "45–64,5.50,0.43,1719,1.70,0.20,566,3.54,0.25,2286,-------------------------------------------------------------------------------\r",
      "\r\n"
     ]
    }
   ],
   "source": [
    "!head abuse1.csv"
   ]
  }
 ],
 "metadata": {
  "celltoolbar": "Slideshow",
  "kernelspec": {
   "display_name": "Python 3",
   "language": "python",
   "name": "python3"
  },
  "language_info": {
   "codemirror_mode": {
    "name": "ipython",
    "version": 3
   },
   "file_extension": ".py",
   "mimetype": "text/x-python",
   "name": "python",
   "nbconvert_exporter": "python",
   "pygments_lexer": "ipython3",
   "version": "3.7.2"
  },
  "latex_envs": {
   "LaTeX_envs_menu_present": true,
   "autoclose": false,
   "autocomplete": true,
   "bibliofile": "biblio.bib",
   "cite_by": "apalike",
   "current_citInitial": 1,
   "eqLabelWithNumbers": true,
   "eqNumInitial": 1,
   "hotkeys": {
    "equation": "Ctrl-E",
    "itemize": "Ctrl-I"
   },
   "labels_anchors": false,
   "latex_user_defs": false,
   "report_style_numbering": false,
   "user_envs_cfg": false
  },
  "varInspector": {
   "cols": {
    "lenName": 16,
    "lenType": 16,
    "lenVar": 40
   },
   "kernels_config": {
    "python": {
     "delete_cmd_postfix": "",
     "delete_cmd_prefix": "del ",
     "library": "var_list.py",
     "varRefreshCmd": "print(var_dic_list())"
    },
    "r": {
     "delete_cmd_postfix": ") ",
     "delete_cmd_prefix": "rm(",
     "library": "var_list.r",
     "varRefreshCmd": "cat(var_dic_list()) "
    }
   },
   "position": {
    "height": "221.85px",
    "left": "855px",
    "right": "128.5px",
    "top": "112px",
    "width": "456.5px"
   },
   "types_to_exclude": [
    "module",
    "function",
    "builtin_function_or_method",
    "instance",
    "_Feature"
   ],
   "window_display": false
  }
 },
 "nbformat": 4,
 "nbformat_minor": 2
}
