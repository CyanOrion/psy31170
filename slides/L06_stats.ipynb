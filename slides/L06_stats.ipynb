{
 "cells": [
  {
   "cell_type": "markdown",
   "metadata": {
    "slideshow": {
     "slide_type": "slide"
    }
   },
   "source": [
    "# Data Exploration"
   ]
  },
  {
   "cell_type": "markdown",
   "metadata": {
    "slideshow": {
     "slide_type": "slide"
    }
   },
   "source": [
    "### Use cases for About Excel/SPSS/Google Sheets\n",
    "* experimental psych - report\n",
    "* planning for grad school - organize timelines & stuff\n",
    "\n",
    "### Like \n",
    "* ease of calculations\n",
    "* it's organized - generates organized summaries/reports\n",
    "* functions built in that can do a lot of things\n",
    "* can do calculation on entire row/multiple columns\n",
    "\n",
    "### Dislike\n",
    "* data input is manual/often cell by cell\n",
    "* hard to navigate - confusing UI\n",
    "* not great with large data files\n",
    "\n",
    "### Things we'd like to do\n",
    "*  "
   ]
  },
  {
   "cell_type": "markdown",
   "metadata": {
    "slideshow": {
     "slide_type": "slide"
    }
   },
   "source": [
    "## Objectives\n",
    "1. loading data from tables (excel files, csvs)\n",
    "\n",
    "1. cleaning misformed data and missing values\n",
    "\n",
    "1. filtering data using keywords and logical constraints\n",
    "\n",
    "1. computing summary statistics\n",
    "\n",
    "1. aggregating data via pivot tables\n"
   ]
  },
  {
   "cell_type": "markdown",
   "metadata": {
    "slideshow": {
     "slide_type": "slide"
    }
   },
   "source": [
    "# Load Data Using Pandas\n",
    "\n",
    "Pandas is a Python library (set of functions somebody else wrote) for doing data analysis. \n",
    "\n",
    "https://pandas.pydata.org/Pandas_Cheat_Sheet.pdf"
   ]
  },
  {
   "cell_type": "code",
   "execution_count": 2,
   "metadata": {
    "slideshow": {
     "slide_type": "slide"
    }
   },
   "outputs": [
    {
     "data": {
      "text/plain": [
       "'0.24.1'"
      ]
     },
     "execution_count": 2,
     "metadata": {},
     "output_type": "execute_result"
    }
   ],
   "source": [
    "import pandas as pd #import is how we load libraries\n",
    "pd.__version__"
   ]
  },
  {
   "cell_type": "code",
   "execution_count": 3,
   "metadata": {
    "slideshow": {
     "slide_type": "slide"
    }
   },
   "outputs": [],
   "source": [
    "# ../data/abuse.csv is where I store the file - change to your location\n",
    "# file is stored in df variable\n",
    "df = pd.read_csv(\"../data/abuse.csv\")\n",
    "df = pd.read_csv(\"https://raw.githubusercontent.com/ccnypsych/psy31170/master/data/abuse.csv\")"
   ]
  },
  {
   "cell_type": "code",
   "execution_count": 4,
   "metadata": {
    "slideshow": {
     "slide_type": "skip"
    }
   },
   "outputs": [
    {
     "data": {
      "text/html": [
       "<div>\n",
       "<style scoped>\n",
       "    .dataframe tbody tr th:only-of-type {\n",
       "        vertical-align: middle;\n",
       "    }\n",
       "\n",
       "    .dataframe tbody tr th {\n",
       "        vertical-align: top;\n",
       "    }\n",
       "\n",
       "    .dataframe thead th {\n",
       "        text-align: right;\n",
       "    }\n",
       "</style>\n",
       "<table border=\"1\" class=\"dataframe\">\n",
       "  <thead>\n",
       "    <tr style=\"text-align: right;\">\n",
       "      <th></th>\n",
       "      <th>characteristic</th>\n",
       "      <th>Male-%</th>\n",
       "      <th>Male-S.E.</th>\n",
       "      <th>Male-estimate</th>\n",
       "      <th>Female-%</th>\n",
       "      <th>Female-S.E.</th>\n",
       "      <th>Female-estimate</th>\n",
       "      <th>Total-%</th>\n",
       "      <th>Total-S.E.</th>\n",
       "      <th>Total-estimate</th>\n",
       "      <th>race-ethnicity</th>\n",
       "    </tr>\n",
       "  </thead>\n",
       "  <tbody>\n",
       "    <tr>\n",
       "      <th>0</th>\n",
       "      <td>Total</td>\n",
       "      <td>6.93</td>\n",
       "      <td>0.28</td>\n",
       "      <td>6906</td>\n",
       "      <td>2.55</td>\n",
       "      <td>0.16</td>\n",
       "      <td>2762</td>\n",
       "      <td>4.65</td>\n",
       "      <td>0.18</td>\n",
       "      <td>9668</td>\n",
       "      <td>Total</td>\n",
       "    </tr>\n",
       "    <tr>\n",
       "      <th>1</th>\n",
       "      <td>18–29</td>\n",
       "      <td>9.35</td>\n",
       "      <td>0.61</td>\n",
       "      <td>2110</td>\n",
       "      <td>4.57</td>\n",
       "      <td>0.39</td>\n",
       "      <td>1041</td>\n",
       "      <td>6.95</td>\n",
       "      <td>0.39</td>\n",
       "      <td>3151</td>\n",
       "      <td>Total</td>\n",
       "    </tr>\n",
       "    <tr>\n",
       "      <th>2</th>\n",
       "      <td>30–44</td>\n",
       "      <td>8.69</td>\n",
       "      <td>0.49</td>\n",
       "      <td>2742</td>\n",
       "      <td>3.31</td>\n",
       "      <td>0.28</td>\n",
       "      <td>1080</td>\n",
       "      <td>5.95</td>\n",
       "      <td>0.31</td>\n",
       "      <td>3822</td>\n",
       "      <td>Total</td>\n",
       "    </tr>\n",
       "    <tr>\n",
       "      <th>3</th>\n",
       "      <td>45–64</td>\n",
       "      <td>5.50</td>\n",
       "      <td>0.43</td>\n",
       "      <td>1719</td>\n",
       "      <td>1.70</td>\n",
       "      <td>0.20</td>\n",
       "      <td>566</td>\n",
       "      <td>3.54</td>\n",
       "      <td>0.25</td>\n",
       "      <td>2286</td>\n",
       "      <td>Total</td>\n",
       "    </tr>\n",
       "    <tr>\n",
       "      <th>4</th>\n",
       "      <td>65+</td>\n",
       "      <td>2.36</td>\n",
       "      <td>0.32</td>\n",
       "      <td>335</td>\n",
       "      <td>0.38</td>\n",
       "      <td>0.11</td>\n",
       "      <td>75</td>\n",
       "      <td>1.21</td>\n",
       "      <td>0.15</td>\n",
       "      <td>410</td>\n",
       "      <td>Total</td>\n",
       "    </tr>\n",
       "    <tr>\n",
       "      <th>5</th>\n",
       "      <td>Total</td>\n",
       "      <td>7.45</td>\n",
       "      <td>0.33</td>\n",
       "      <td>5276</td>\n",
       "      <td>2.92</td>\n",
       "      <td>0.19</td>\n",
       "      <td>2236</td>\n",
       "      <td>5.10</td>\n",
       "      <td>0.21</td>\n",
       "      <td>7511</td>\n",
       "      <td>White</td>\n",
       "    </tr>\n",
       "    <tr>\n",
       "      <th>6</th>\n",
       "      <td>18–29</td>\n",
       "      <td>10.19</td>\n",
       "      <td>0.81</td>\n",
       "      <td>1405</td>\n",
       "      <td>5.56</td>\n",
       "      <td>0.54</td>\n",
       "      <td>777</td>\n",
       "      <td>7.86</td>\n",
       "      <td>0.50</td>\n",
       "      <td>2182</td>\n",
       "      <td>White</td>\n",
       "    </tr>\n",
       "    <tr>\n",
       "      <th>7</th>\n",
       "      <td>30–44</td>\n",
       "      <td>10.10</td>\n",
       "      <td>0.63</td>\n",
       "      <td>2166</td>\n",
       "      <td>4.13</td>\n",
       "      <td>0.38</td>\n",
       "      <td>902</td>\n",
       "      <td>7.09</td>\n",
       "      <td>0.40</td>\n",
       "      <td>3068</td>\n",
       "      <td>White</td>\n",
       "    </tr>\n",
       "    <tr>\n",
       "      <th>8</th>\n",
       "      <td>45–64</td>\n",
       "      <td>5.97</td>\n",
       "      <td>0.51</td>\n",
       "      <td>1425</td>\n",
       "      <td>2.02</td>\n",
       "      <td>0.26</td>\n",
       "      <td>499</td>\n",
       "      <td>3.96</td>\n",
       "      <td>0.30</td>\n",
       "      <td>1925</td>\n",
       "      <td>White</td>\n",
       "    </tr>\n",
       "    <tr>\n",
       "      <th>9</th>\n",
       "      <td>65+</td>\n",
       "      <td>2.38</td>\n",
       "      <td>0.35</td>\n",
       "      <td>279</td>\n",
       "      <td>0.36</td>\n",
       "      <td>0.10</td>\n",
       "      <td>58</td>\n",
       "      <td>1.21</td>\n",
       "      <td>0.16</td>\n",
       "      <td>336</td>\n",
       "      <td>White</td>\n",
       "    </tr>\n",
       "    <tr>\n",
       "      <th>10</th>\n",
       "      <td>Total</td>\n",
       "      <td>5.71</td>\n",
       "      <td>0.58</td>\n",
       "      <td>574</td>\n",
       "      <td>1.41</td>\n",
       "      <td>0.19</td>\n",
       "      <td>182</td>\n",
       "      <td>3.29</td>\n",
       "      <td>0.30</td>\n",
       "      <td>756</td>\n",
       "      <td>Black</td>\n",
       "    </tr>\n",
       "    <tr>\n",
       "      <th>11</th>\n",
       "      <td>18–29</td>\n",
       "      <td>6.92</td>\n",
       "      <td>1.28</td>\n",
       "      <td>166</td>\n",
       "      <td>2.10</td>\n",
       "      <td>0.45</td>\n",
       "      <td>68</td>\n",
       "      <td>4.28</td>\n",
       "      <td>0.67</td>\n",
       "      <td>254</td>\n",
       "      <td>Black</td>\n",
       "    </tr>\n",
       "    <tr>\n",
       "      <th>12</th>\n",
       "      <td>30–44</td>\n",
       "      <td>7.04</td>\n",
       "      <td>0.95</td>\n",
       "      <td>238</td>\n",
       "      <td>1.51</td>\n",
       "      <td>0.30</td>\n",
       "      <td>65</td>\n",
       "      <td>3.95</td>\n",
       "      <td>0.46</td>\n",
       "      <td>302</td>\n",
       "      <td>Black</td>\n",
       "    </tr>\n",
       "    <tr>\n",
       "      <th>13</th>\n",
       "      <td>45–64</td>\n",
       "      <td>4.48</td>\n",
       "      <td>0.74</td>\n",
       "      <td>132</td>\n",
       "      <td>1.25</td>\n",
       "      <td>0.37</td>\n",
       "      <td>47</td>\n",
       "      <td>2.66</td>\n",
       "      <td>0.40</td>\n",
       "      <td>178</td>\n",
       "      <td>Black</td>\n",
       "    </tr>\n",
       "    <tr>\n",
       "      <th>14</th>\n",
       "      <td>65+</td>\n",
       "      <td>1.79</td>\n",
       "      <td>0.59</td>\n",
       "      <td>19</td>\n",
       "      <td>0.12</td>\n",
       "      <td>0.12</td>\n",
       "      <td>2</td>\n",
       "      <td>0.78</td>\n",
       "      <td>0.25</td>\n",
       "      <td>21</td>\n",
       "      <td>Black</td>\n",
       "    </tr>\n",
       "    <tr>\n",
       "      <th>15</th>\n",
       "      <td>Total</td>\n",
       "      <td>7.47</td>\n",
       "      <td>1.65</td>\n",
       "      <td>157</td>\n",
       "      <td>4.18</td>\n",
       "      <td>1.25</td>\n",
       "      <td>97</td>\n",
       "      <td>5.75</td>\n",
       "      <td>1.02</td>\n",
       "      <td>253</td>\n",
       "      <td>Native American(b)</td>\n",
       "    </tr>\n",
       "    <tr>\n",
       "      <th>16</th>\n",
       "      <td>18–29</td>\n",
       "      <td>15.25</td>\n",
       "      <td>5.68</td>\n",
       "      <td>56</td>\n",
       "      <td>6.68</td>\n",
       "      <td>3.34</td>\n",
       "      <td>33</td>\n",
       "      <td>10.35</td>\n",
       "      <td>3.11</td>\n",
       "      <td>89</td>\n",
       "      <td>Native American(b)</td>\n",
       "    </tr>\n",
       "    <tr>\n",
       "      <th>17</th>\n",
       "      <td>30–44</td>\n",
       "      <td>7.67</td>\n",
       "      <td>3.00</td>\n",
       "      <td>54</td>\n",
       "      <td>6.52</td>\n",
       "      <td>3.01</td>\n",
       "      <td>49</td>\n",
       "      <td>7.07</td>\n",
       "      <td>2.13</td>\n",
       "      <td>102</td>\n",
       "      <td>Native American(b)</td>\n",
       "    </tr>\n",
       "    <tr>\n",
       "      <th>18</th>\n",
       "      <td>45–64</td>\n",
       "      <td>4.85</td>\n",
       "      <td>2.12</td>\n",
       "      <td>39</td>\n",
       "      <td>0.00</td>\n",
       "      <td>0.00</td>\n",
       "      <td>0</td>\n",
       "      <td>2.57</td>\n",
       "      <td>1.14</td>\n",
       "      <td>39</td>\n",
       "      <td>Native American(b)</td>\n",
       "    </tr>\n",
       "    <tr>\n",
       "      <th>19</th>\n",
       "      <td>65+</td>\n",
       "      <td>3.59</td>\n",
       "      <td>2.49</td>\n",
       "      <td>8</td>\n",
       "      <td>4.12</td>\n",
       "      <td>4.00</td>\n",
       "      <td>15</td>\n",
       "      <td>3.91</td>\n",
       "      <td>2.63</td>\n",
       "      <td>24</td>\n",
       "      <td>Native American(b)</td>\n",
       "    </tr>\n",
       "    <tr>\n",
       "      <th>20</th>\n",
       "      <td>Total</td>\n",
       "      <td>3.20</td>\n",
       "      <td>0.79</td>\n",
       "      <td>140</td>\n",
       "      <td>1.13</td>\n",
       "      <td>0.41</td>\n",
       "      <td>53</td>\n",
       "      <td>2.13</td>\n",
       "      <td>0.46</td>\n",
       "      <td>193</td>\n",
       "      <td>Asian(c)</td>\n",
       "    </tr>\n",
       "    <tr>\n",
       "      <th>21</th>\n",
       "      <td>18–29</td>\n",
       "      <td>4.77</td>\n",
       "      <td>1.81</td>\n",
       "      <td>63</td>\n",
       "      <td>3.89</td>\n",
       "      <td>1.38</td>\n",
       "      <td>47</td>\n",
       "      <td>4.35</td>\n",
       "      <td>1.25</td>\n",
       "      <td>110</td>\n",
       "      <td>Asian(c)</td>\n",
       "    </tr>\n",
       "    <tr>\n",
       "      <th>22</th>\n",
       "      <td>30–44</td>\n",
       "      <td>4.22</td>\n",
       "      <td>1.54</td>\n",
       "      <td>64</td>\n",
       "      <td>0.23</td>\n",
       "      <td>0.22</td>\n",
       "      <td>4</td>\n",
       "      <td>2.18</td>\n",
       "      <td>0.79</td>\n",
       "      <td>68</td>\n",
       "      <td>Asian(c)</td>\n",
       "    </tr>\n",
       "    <tr>\n",
       "      <th>23</th>\n",
       "      <td>45–64</td>\n",
       "      <td>1.13</td>\n",
       "      <td>0.78</td>\n",
       "      <td>13</td>\n",
       "      <td>0.20</td>\n",
       "      <td>0.20</td>\n",
       "      <td>3</td>\n",
       "      <td>0.61</td>\n",
       "      <td>0.32</td>\n",
       "      <td>16</td>\n",
       "      <td>Asian(c)</td>\n",
       "    </tr>\n",
       "    <tr>\n",
       "      <th>24</th>\n",
       "      <td>65+</td>\n",
       "      <td>0.00</td>\n",
       "      <td>0.00</td>\n",
       "      <td>0</td>\n",
       "      <td>0.00</td>\n",
       "      <td>0.00</td>\n",
       "      <td>0</td>\n",
       "      <td>0.00</td>\n",
       "      <td>0.00</td>\n",
       "      <td>0</td>\n",
       "      <td>Asian(c)</td>\n",
       "    </tr>\n",
       "    <tr>\n",
       "      <th>25</th>\n",
       "      <td>Total</td>\n",
       "      <td>6.21</td>\n",
       "      <td>0.50</td>\n",
       "      <td>759</td>\n",
       "      <td>1.65</td>\n",
       "      <td>0.23</td>\n",
       "      <td>195</td>\n",
       "      <td>3.97</td>\n",
       "      <td>0.30</td>\n",
       "      <td>953</td>\n",
       "      <td>Hispanic/Latino</td>\n",
       "    </tr>\n",
       "    <tr>\n",
       "      <th>26</th>\n",
       "      <td>18–29</td>\n",
       "      <td>9.08</td>\n",
       "      <td>1.07</td>\n",
       "      <td>400</td>\n",
       "      <td>3.04</td>\n",
       "      <td>0.63</td>\n",
       "      <td>116</td>\n",
       "      <td>6.28</td>\n",
       "      <td>0.63</td>\n",
       "      <td>516</td>\n",
       "      <td>Hispanic/Latino</td>\n",
       "    </tr>\n",
       "    <tr>\n",
       "      <th>27</th>\n",
       "      <td>30–44</td>\n",
       "      <td>4.88</td>\n",
       "      <td>0.59</td>\n",
       "      <td>219</td>\n",
       "      <td>1.46</td>\n",
       "      <td>0.33</td>\n",
       "      <td>61</td>\n",
       "      <td>3.23</td>\n",
       "      <td>0.37</td>\n",
       "      <td>281</td>\n",
       "      <td>Hispanic/Latino</td>\n",
       "    </tr>\n",
       "    <tr>\n",
       "      <th>28</th>\n",
       "      <td>45–64</td>\n",
       "      <td>4.35</td>\n",
       "      <td>0.84</td>\n",
       "      <td>111</td>\n",
       "      <td>0.63</td>\n",
       "      <td>0.36</td>\n",
       "      <td>17</td>\n",
       "      <td>2.43</td>\n",
       "      <td>0.39</td>\n",
       "      <td>128</td>\n",
       "      <td>Hispanic/Latino</td>\n",
       "    </tr>\n",
       "    <tr>\n",
       "      <th>29</th>\n",
       "      <td>65+</td>\n",
       "      <td>3.69</td>\n",
       "      <td>1.62</td>\n",
       "      <td>29</td>\n",
       "      <td>0.00</td>\n",
       "      <td>0.00</td>\n",
       "      <td>0</td>\n",
       "      <td>1.56</td>\n",
       "      <td>0.66</td>\n",
       "      <td>29</td>\n",
       "      <td>Hispanic/Latino</td>\n",
       "    </tr>\n",
       "  </tbody>\n",
       "</table>\n",
       "</div>"
      ],
      "text/plain": [
       "   characteristic  Male-%  Male-S.E.  Male-estimate  Female-%  Female-S.E.  \\\n",
       "0           Total    6.93       0.28           6906      2.55         0.16   \n",
       "1           18–29    9.35       0.61           2110      4.57         0.39   \n",
       "2           30–44    8.69       0.49           2742      3.31         0.28   \n",
       "3           45–64    5.50       0.43           1719      1.70         0.20   \n",
       "4             65+    2.36       0.32            335      0.38         0.11   \n",
       "5           Total    7.45       0.33           5276      2.92         0.19   \n",
       "6           18–29   10.19       0.81           1405      5.56         0.54   \n",
       "7           30–44   10.10       0.63           2166      4.13         0.38   \n",
       "8           45–64    5.97       0.51           1425      2.02         0.26   \n",
       "9             65+    2.38       0.35            279      0.36         0.10   \n",
       "10          Total    5.71       0.58            574      1.41         0.19   \n",
       "11          18–29    6.92       1.28            166      2.10         0.45   \n",
       "12          30–44    7.04       0.95            238      1.51         0.30   \n",
       "13          45–64    4.48       0.74            132      1.25         0.37   \n",
       "14            65+    1.79       0.59             19      0.12         0.12   \n",
       "15          Total    7.47       1.65            157      4.18         1.25   \n",
       "16          18–29   15.25       5.68             56      6.68         3.34   \n",
       "17          30–44    7.67       3.00             54      6.52         3.01   \n",
       "18          45–64    4.85       2.12             39      0.00         0.00   \n",
       "19            65+    3.59       2.49              8      4.12         4.00   \n",
       "20          Total    3.20       0.79            140      1.13         0.41   \n",
       "21          18–29    4.77       1.81             63      3.89         1.38   \n",
       "22          30–44    4.22       1.54             64      0.23         0.22   \n",
       "23          45–64    1.13       0.78             13      0.20         0.20   \n",
       "24            65+    0.00       0.00              0      0.00         0.00   \n",
       "25          Total    6.21       0.50            759      1.65         0.23   \n",
       "26          18–29    9.08       1.07            400      3.04         0.63   \n",
       "27          30–44    4.88       0.59            219      1.46         0.33   \n",
       "28          45–64    4.35       0.84            111      0.63         0.36   \n",
       "29            65+    3.69       1.62             29      0.00         0.00   \n",
       "\n",
       "    Female-estimate  Total-%  Total-S.E.  Total-estimate      race-ethnicity  \n",
       "0              2762     4.65        0.18            9668               Total  \n",
       "1              1041     6.95        0.39            3151               Total  \n",
       "2              1080     5.95        0.31            3822               Total  \n",
       "3               566     3.54        0.25            2286               Total  \n",
       "4                75     1.21        0.15             410               Total  \n",
       "5              2236     5.10        0.21            7511               White  \n",
       "6               777     7.86        0.50            2182               White  \n",
       "7               902     7.09        0.40            3068               White  \n",
       "8               499     3.96        0.30            1925               White  \n",
       "9                58     1.21        0.16             336               White  \n",
       "10              182     3.29        0.30             756               Black  \n",
       "11               68     4.28        0.67             254               Black  \n",
       "12               65     3.95        0.46             302               Black  \n",
       "13               47     2.66        0.40             178               Black  \n",
       "14                2     0.78        0.25              21               Black  \n",
       "15               97     5.75        1.02             253  Native American(b)  \n",
       "16               33    10.35        3.11              89  Native American(b)  \n",
       "17               49     7.07        2.13             102  Native American(b)  \n",
       "18                0     2.57        1.14              39  Native American(b)  \n",
       "19               15     3.91        2.63              24  Native American(b)  \n",
       "20               53     2.13        0.46             193            Asian(c)  \n",
       "21               47     4.35        1.25             110            Asian(c)  \n",
       "22                4     2.18        0.79              68            Asian(c)  \n",
       "23                3     0.61        0.32              16            Asian(c)  \n",
       "24                0     0.00        0.00               0            Asian(c)  \n",
       "25              195     3.97        0.30             953     Hispanic/Latino  \n",
       "26              116     6.28        0.63             516     Hispanic/Latino  \n",
       "27               61     3.23        0.37             281     Hispanic/Latino  \n",
       "28               17     2.43        0.39             128     Hispanic/Latino  \n",
       "29                0     1.56        0.66              29     Hispanic/Latino  "
      ]
     },
     "execution_count": 4,
     "metadata": {},
     "output_type": "execute_result"
    }
   ],
   "source": [
    "df"
   ]
  },
  {
   "cell_type": "markdown",
   "metadata": {
    "slideshow": {
     "slide_type": "slide"
    }
   },
   "source": [
    "# Quick peek at the data:\n",
    "* __head__: first 5 rows\n",
    "* __tail__: last 5 rows"
   ]
  },
  {
   "cell_type": "code",
   "execution_count": 6,
   "metadata": {
    "slideshow": {
     "slide_type": "slide"
    }
   },
   "outputs": [
    {
     "data": {
      "text/html": [
       "<div>\n",
       "<style scoped>\n",
       "    .dataframe tbody tr th:only-of-type {\n",
       "        vertical-align: middle;\n",
       "    }\n",
       "\n",
       "    .dataframe tbody tr th {\n",
       "        vertical-align: top;\n",
       "    }\n",
       "\n",
       "    .dataframe thead th {\n",
       "        text-align: right;\n",
       "    }\n",
       "</style>\n",
       "<table border=\"1\" class=\"dataframe\">\n",
       "  <thead>\n",
       "    <tr style=\"text-align: right;\">\n",
       "      <th></th>\n",
       "      <th>characteristic</th>\n",
       "      <th>Male-%</th>\n",
       "      <th>Male-S.E.</th>\n",
       "      <th>Male-estimate</th>\n",
       "      <th>Female-%</th>\n",
       "      <th>Female-S.E.</th>\n",
       "      <th>Female-estimate</th>\n",
       "      <th>Total-%</th>\n",
       "      <th>Total-S.E.</th>\n",
       "      <th>Total-estimate</th>\n",
       "      <th>race-ethnicity</th>\n",
       "    </tr>\n",
       "  </thead>\n",
       "  <tbody>\n",
       "    <tr>\n",
       "      <th>0</th>\n",
       "      <td>Total</td>\n",
       "      <td>6.93</td>\n",
       "      <td>0.28</td>\n",
       "      <td>6906</td>\n",
       "      <td>2.55</td>\n",
       "      <td>0.16</td>\n",
       "      <td>2762</td>\n",
       "      <td>4.65</td>\n",
       "      <td>0.18</td>\n",
       "      <td>9668</td>\n",
       "      <td>Total</td>\n",
       "    </tr>\n",
       "    <tr>\n",
       "      <th>1</th>\n",
       "      <td>18–29</td>\n",
       "      <td>9.35</td>\n",
       "      <td>0.61</td>\n",
       "      <td>2110</td>\n",
       "      <td>4.57</td>\n",
       "      <td>0.39</td>\n",
       "      <td>1041</td>\n",
       "      <td>6.95</td>\n",
       "      <td>0.39</td>\n",
       "      <td>3151</td>\n",
       "      <td>Total</td>\n",
       "    </tr>\n",
       "    <tr>\n",
       "      <th>2</th>\n",
       "      <td>30–44</td>\n",
       "      <td>8.69</td>\n",
       "      <td>0.49</td>\n",
       "      <td>2742</td>\n",
       "      <td>3.31</td>\n",
       "      <td>0.28</td>\n",
       "      <td>1080</td>\n",
       "      <td>5.95</td>\n",
       "      <td>0.31</td>\n",
       "      <td>3822</td>\n",
       "      <td>Total</td>\n",
       "    </tr>\n",
       "    <tr>\n",
       "      <th>3</th>\n",
       "      <td>45–64</td>\n",
       "      <td>5.50</td>\n",
       "      <td>0.43</td>\n",
       "      <td>1719</td>\n",
       "      <td>1.70</td>\n",
       "      <td>0.20</td>\n",
       "      <td>566</td>\n",
       "      <td>3.54</td>\n",
       "      <td>0.25</td>\n",
       "      <td>2286</td>\n",
       "      <td>Total</td>\n",
       "    </tr>\n",
       "    <tr>\n",
       "      <th>4</th>\n",
       "      <td>65+</td>\n",
       "      <td>2.36</td>\n",
       "      <td>0.32</td>\n",
       "      <td>335</td>\n",
       "      <td>0.38</td>\n",
       "      <td>0.11</td>\n",
       "      <td>75</td>\n",
       "      <td>1.21</td>\n",
       "      <td>0.15</td>\n",
       "      <td>410</td>\n",
       "      <td>Total</td>\n",
       "    </tr>\n",
       "  </tbody>\n",
       "</table>\n",
       "</div>"
      ],
      "text/plain": [
       "  characteristic  Male-%  Male-S.E.  Male-estimate  Female-%  Female-S.E.  \\\n",
       "0          Total    6.93       0.28           6906      2.55         0.16   \n",
       "1          18–29    9.35       0.61           2110      4.57         0.39   \n",
       "2          30–44    8.69       0.49           2742      3.31         0.28   \n",
       "3          45–64    5.50       0.43           1719      1.70         0.20   \n",
       "4            65+    2.36       0.32            335      0.38         0.11   \n",
       "\n",
       "   Female-estimate  Total-%  Total-S.E.  Total-estimate race-ethnicity  \n",
       "0             2762     4.65        0.18            9668          Total  \n",
       "1             1041     6.95        0.39            3151          Total  \n",
       "2             1080     5.95        0.31            3822          Total  \n",
       "3              566     3.54        0.25            2286          Total  \n",
       "4               75     1.21        0.15             410          Total  "
      ]
     },
     "execution_count": 6,
     "metadata": {},
     "output_type": "execute_result"
    }
   ],
   "source": [
    "df.head()"
   ]
  },
  {
   "cell_type": "code",
   "execution_count": 7,
   "metadata": {
    "slideshow": {
     "slide_type": "slide"
    }
   },
   "outputs": [
    {
     "data": {
      "text/html": [
       "<div>\n",
       "<style scoped>\n",
       "    .dataframe tbody tr th:only-of-type {\n",
       "        vertical-align: middle;\n",
       "    }\n",
       "\n",
       "    .dataframe tbody tr th {\n",
       "        vertical-align: top;\n",
       "    }\n",
       "\n",
       "    .dataframe thead th {\n",
       "        text-align: right;\n",
       "    }\n",
       "</style>\n",
       "<table border=\"1\" class=\"dataframe\">\n",
       "  <thead>\n",
       "    <tr style=\"text-align: right;\">\n",
       "      <th></th>\n",
       "      <th>characteristic</th>\n",
       "      <th>Male-%</th>\n",
       "      <th>Male-S.E.</th>\n",
       "      <th>Male-estimate</th>\n",
       "      <th>Female-%</th>\n",
       "      <th>Female-S.E.</th>\n",
       "      <th>Female-estimate</th>\n",
       "      <th>Total-%</th>\n",
       "      <th>Total-S.E.</th>\n",
       "      <th>Total-estimate</th>\n",
       "      <th>race-ethnicity</th>\n",
       "    </tr>\n",
       "  </thead>\n",
       "  <tbody>\n",
       "    <tr>\n",
       "      <th>25</th>\n",
       "      <td>Total</td>\n",
       "      <td>6.21</td>\n",
       "      <td>0.50</td>\n",
       "      <td>759</td>\n",
       "      <td>1.65</td>\n",
       "      <td>0.23</td>\n",
       "      <td>195</td>\n",
       "      <td>3.97</td>\n",
       "      <td>0.30</td>\n",
       "      <td>953</td>\n",
       "      <td>Hispanic/Latino</td>\n",
       "    </tr>\n",
       "    <tr>\n",
       "      <th>26</th>\n",
       "      <td>18–29</td>\n",
       "      <td>9.08</td>\n",
       "      <td>1.07</td>\n",
       "      <td>400</td>\n",
       "      <td>3.04</td>\n",
       "      <td>0.63</td>\n",
       "      <td>116</td>\n",
       "      <td>6.28</td>\n",
       "      <td>0.63</td>\n",
       "      <td>516</td>\n",
       "      <td>Hispanic/Latino</td>\n",
       "    </tr>\n",
       "    <tr>\n",
       "      <th>27</th>\n",
       "      <td>30–44</td>\n",
       "      <td>4.88</td>\n",
       "      <td>0.59</td>\n",
       "      <td>219</td>\n",
       "      <td>1.46</td>\n",
       "      <td>0.33</td>\n",
       "      <td>61</td>\n",
       "      <td>3.23</td>\n",
       "      <td>0.37</td>\n",
       "      <td>281</td>\n",
       "      <td>Hispanic/Latino</td>\n",
       "    </tr>\n",
       "    <tr>\n",
       "      <th>28</th>\n",
       "      <td>45–64</td>\n",
       "      <td>4.35</td>\n",
       "      <td>0.84</td>\n",
       "      <td>111</td>\n",
       "      <td>0.63</td>\n",
       "      <td>0.36</td>\n",
       "      <td>17</td>\n",
       "      <td>2.43</td>\n",
       "      <td>0.39</td>\n",
       "      <td>128</td>\n",
       "      <td>Hispanic/Latino</td>\n",
       "    </tr>\n",
       "    <tr>\n",
       "      <th>29</th>\n",
       "      <td>65+</td>\n",
       "      <td>3.69</td>\n",
       "      <td>1.62</td>\n",
       "      <td>29</td>\n",
       "      <td>0.00</td>\n",
       "      <td>0.00</td>\n",
       "      <td>0</td>\n",
       "      <td>1.56</td>\n",
       "      <td>0.66</td>\n",
       "      <td>29</td>\n",
       "      <td>Hispanic/Latino</td>\n",
       "    </tr>\n",
       "  </tbody>\n",
       "</table>\n",
       "</div>"
      ],
      "text/plain": [
       "   characteristic  Male-%  Male-S.E.  Male-estimate  Female-%  Female-S.E.  \\\n",
       "25          Total    6.21       0.50            759      1.65         0.23   \n",
       "26          18–29    9.08       1.07            400      3.04         0.63   \n",
       "27          30–44    4.88       0.59            219      1.46         0.33   \n",
       "28          45–64    4.35       0.84            111      0.63         0.36   \n",
       "29            65+    3.69       1.62             29      0.00         0.00   \n",
       "\n",
       "    Female-estimate  Total-%  Total-S.E.  Total-estimate   race-ethnicity  \n",
       "25              195     3.97        0.30             953  Hispanic/Latino  \n",
       "26              116     6.28        0.63             516  Hispanic/Latino  \n",
       "27               61     3.23        0.37             281  Hispanic/Latino  \n",
       "28               17     2.43        0.39             128  Hispanic/Latino  \n",
       "29                0     1.56        0.66              29  Hispanic/Latino  "
      ]
     },
     "execution_count": 7,
     "metadata": {},
     "output_type": "execute_result"
    }
   ],
   "source": [
    "df.tail()"
   ]
  },
  {
   "cell_type": "markdown",
   "metadata": {
    "slideshow": {
     "slide_type": "slide"
    }
   },
   "source": [
    "# Snapshots of the spreadsheet\n",
    "* info - column datatypes\n",
    "* describe - statistics"
   ]
  },
  {
   "cell_type": "code",
   "execution_count": 8,
   "metadata": {
    "slideshow": {
     "slide_type": "slide"
    }
   },
   "outputs": [
    {
     "name": "stdout",
     "output_type": "stream",
     "text": [
      "<class 'pandas.core.frame.DataFrame'>\n",
      "RangeIndex: 30 entries, 0 to 29\n",
      "Data columns (total 11 columns):\n",
      "characteristic     30 non-null object\n",
      "Male-%             30 non-null float64\n",
      "Male-S.E.          30 non-null float64\n",
      "Male-estimate      30 non-null int64\n",
      "Female-%           30 non-null float64\n",
      "Female-S.E.        30 non-null float64\n",
      "Female-estimate    30 non-null int64\n",
      "Total-%            30 non-null float64\n",
      "Total-S.E.         30 non-null float64\n",
      "Total-estimate     30 non-null int64\n",
      "race-ethnicity     30 non-null object\n",
      "dtypes: float64(6), int64(3), object(2)\n",
      "memory usage: 2.7+ KB\n"
     ]
    }
   ],
   "source": [
    "df.info()"
   ]
  },
  {
   "cell_type": "code",
   "execution_count": 9,
   "metadata": {
    "slideshow": {
     "slide_type": "slide"
    }
   },
   "outputs": [
    {
     "data": {
      "text/html": [
       "<div>\n",
       "<style scoped>\n",
       "    .dataframe tbody tr th:only-of-type {\n",
       "        vertical-align: middle;\n",
       "    }\n",
       "\n",
       "    .dataframe tbody tr th {\n",
       "        vertical-align: top;\n",
       "    }\n",
       "\n",
       "    .dataframe thead th {\n",
       "        text-align: right;\n",
       "    }\n",
       "</style>\n",
       "<table border=\"1\" class=\"dataframe\">\n",
       "  <thead>\n",
       "    <tr style=\"text-align: right;\">\n",
       "      <th></th>\n",
       "      <th>Male-%</th>\n",
       "      <th>Male-S.E.</th>\n",
       "      <th>Male-estimate</th>\n",
       "      <th>Female-%</th>\n",
       "      <th>Female-S.E.</th>\n",
       "      <th>Female-estimate</th>\n",
       "      <th>Total-%</th>\n",
       "      <th>Total-S.E.</th>\n",
       "      <th>Total-estimate</th>\n",
       "    </tr>\n",
       "  </thead>\n",
       "  <tbody>\n",
       "    <tr>\n",
       "      <th>count</th>\n",
       "      <td>30.000000</td>\n",
       "      <td>30.000000</td>\n",
       "      <td>30.000000</td>\n",
       "      <td>30.000000</td>\n",
       "      <td>30.000000</td>\n",
       "      <td>30.000000</td>\n",
       "      <td>30.000000</td>\n",
       "      <td>30.000000</td>\n",
       "      <td>30.000000</td>\n",
       "    </tr>\n",
       "    <tr>\n",
       "      <th>mean</th>\n",
       "      <td>5.840667</td>\n",
       "      <td>1.112667</td>\n",
       "      <td>920.133333</td>\n",
       "      <td>2.254000</td>\n",
       "      <td>0.646667</td>\n",
       "      <td>368.333333</td>\n",
       "      <td>3.962333</td>\n",
       "      <td>0.671000</td>\n",
       "      <td>1289.033333</td>\n",
       "    </tr>\n",
       "    <tr>\n",
       "      <th>std</th>\n",
       "      <td>3.175372</td>\n",
       "      <td>1.110874</td>\n",
       "      <td>1610.636343</td>\n",
       "      <td>1.969584</td>\n",
       "      <td>1.007213</td>\n",
       "      <td>667.518840</td>\n",
       "      <td>2.425230</td>\n",
       "      <td>0.732946</td>\n",
       "      <td>2275.267919</td>\n",
       "    </tr>\n",
       "    <tr>\n",
       "      <th>min</th>\n",
       "      <td>0.000000</td>\n",
       "      <td>0.000000</td>\n",
       "      <td>0.000000</td>\n",
       "      <td>0.000000</td>\n",
       "      <td>0.000000</td>\n",
       "      <td>0.000000</td>\n",
       "      <td>0.000000</td>\n",
       "      <td>0.000000</td>\n",
       "      <td>0.000000</td>\n",
       "    </tr>\n",
       "    <tr>\n",
       "      <th>25%</th>\n",
       "      <td>3.822500</td>\n",
       "      <td>0.502500</td>\n",
       "      <td>57.750000</td>\n",
       "      <td>0.442500</td>\n",
       "      <td>0.190000</td>\n",
       "      <td>21.000000</td>\n",
       "      <td>2.242500</td>\n",
       "      <td>0.300000</td>\n",
       "      <td>92.250000</td>\n",
       "    </tr>\n",
       "    <tr>\n",
       "      <th>50%</th>\n",
       "      <td>5.605000</td>\n",
       "      <td>0.760000</td>\n",
       "      <td>192.500000</td>\n",
       "      <td>1.675000</td>\n",
       "      <td>0.290000</td>\n",
       "      <td>63.000000</td>\n",
       "      <td>3.930000</td>\n",
       "      <td>0.395000</td>\n",
       "      <td>267.500000</td>\n",
       "    </tr>\n",
       "    <tr>\n",
       "      <th>75%</th>\n",
       "      <td>7.465000</td>\n",
       "      <td>1.475000</td>\n",
       "      <td>1243.500000</td>\n",
       "      <td>3.745000</td>\n",
       "      <td>0.440000</td>\n",
       "      <td>423.000000</td>\n",
       "      <td>5.587500</td>\n",
       "      <td>0.667500</td>\n",
       "      <td>1682.000000</td>\n",
       "    </tr>\n",
       "    <tr>\n",
       "      <th>max</th>\n",
       "      <td>15.250000</td>\n",
       "      <td>5.680000</td>\n",
       "      <td>6906.000000</td>\n",
       "      <td>6.680000</td>\n",
       "      <td>4.000000</td>\n",
       "      <td>2762.000000</td>\n",
       "      <td>10.350000</td>\n",
       "      <td>3.110000</td>\n",
       "      <td>9668.000000</td>\n",
       "    </tr>\n",
       "  </tbody>\n",
       "</table>\n",
       "</div>"
      ],
      "text/plain": [
       "          Male-%  Male-S.E.  Male-estimate   Female-%  Female-S.E.  \\\n",
       "count  30.000000  30.000000      30.000000  30.000000    30.000000   \n",
       "mean    5.840667   1.112667     920.133333   2.254000     0.646667   \n",
       "std     3.175372   1.110874    1610.636343   1.969584     1.007213   \n",
       "min     0.000000   0.000000       0.000000   0.000000     0.000000   \n",
       "25%     3.822500   0.502500      57.750000   0.442500     0.190000   \n",
       "50%     5.605000   0.760000     192.500000   1.675000     0.290000   \n",
       "75%     7.465000   1.475000    1243.500000   3.745000     0.440000   \n",
       "max    15.250000   5.680000    6906.000000   6.680000     4.000000   \n",
       "\n",
       "       Female-estimate    Total-%  Total-S.E.  Total-estimate  \n",
       "count        30.000000  30.000000   30.000000       30.000000  \n",
       "mean        368.333333   3.962333    0.671000     1289.033333  \n",
       "std         667.518840   2.425230    0.732946     2275.267919  \n",
       "min           0.000000   0.000000    0.000000        0.000000  \n",
       "25%          21.000000   2.242500    0.300000       92.250000  \n",
       "50%          63.000000   3.930000    0.395000      267.500000  \n",
       "75%         423.000000   5.587500    0.667500     1682.000000  \n",
       "max        2762.000000  10.350000    3.110000     9668.000000  "
      ]
     },
     "execution_count": 9,
     "metadata": {},
     "output_type": "execute_result"
    }
   ],
   "source": [
    "df.describe()"
   ]
  },
  {
   "cell_type": "markdown",
   "metadata": {
    "slideshow": {
     "slide_type": "slide"
    }
   },
   "source": [
    "# Let's look at columns\n",
    "* Remember dictionaries? Same thing:\n",
    "    * df['column name']\n",
    "    * df[['list of columns']]"
   ]
  },
  {
   "cell_type": "code",
   "execution_count": 10,
   "metadata": {
    "slideshow": {
     "slide_type": "slide"
    }
   },
   "outputs": [
    {
     "data": {
      "text/plain": [
       "Index(['characteristic', 'Male-%', 'Male-S.E.', 'Male-estimate', 'Female-%',\n",
       "       'Female-S.E.', 'Female-estimate', 'Total-%', 'Total-S.E.',\n",
       "       'Total-estimate', 'race-ethnicity'],\n",
       "      dtype='object')"
      ]
     },
     "execution_count": 10,
     "metadata": {},
     "output_type": "execute_result"
    }
   ],
   "source": [
    "df.columns"
   ]
  },
  {
   "cell_type": "code",
   "execution_count": 11,
   "metadata": {
    "slideshow": {
     "slide_type": "slide"
    }
   },
   "outputs": [
    {
     "data": {
      "text/plain": [
       "0    6.93\n",
       "1    9.35\n",
       "2    8.69\n",
       "3    5.50\n",
       "4    2.36\n",
       "Name: Male-%, dtype: float64"
      ]
     },
     "execution_count": 11,
     "metadata": {},
     "output_type": "execute_result"
    }
   ],
   "source": [
    "df['Male-%'].head()"
   ]
  },
  {
   "cell_type": "markdown",
   "metadata": {
    "slideshow": {
     "slide_type": "slide"
    }
   },
   "source": [
    "Let's get characteristics too..."
   ]
  },
  {
   "cell_type": "code",
   "execution_count": 12,
   "metadata": {
    "slideshow": {
     "slide_type": "slide"
    }
   },
   "outputs": [
    {
     "data": {
      "text/html": [
       "<div>\n",
       "<style scoped>\n",
       "    .dataframe tbody tr th:only-of-type {\n",
       "        vertical-align: middle;\n",
       "    }\n",
       "\n",
       "    .dataframe tbody tr th {\n",
       "        vertical-align: top;\n",
       "    }\n",
       "\n",
       "    .dataframe thead th {\n",
       "        text-align: right;\n",
       "    }\n",
       "</style>\n",
       "<table border=\"1\" class=\"dataframe\">\n",
       "  <thead>\n",
       "    <tr style=\"text-align: right;\">\n",
       "      <th></th>\n",
       "      <th>characteristic</th>\n",
       "      <th>race-ethnicity</th>\n",
       "      <th>Male-%</th>\n",
       "    </tr>\n",
       "  </thead>\n",
       "  <tbody>\n",
       "    <tr>\n",
       "      <th>0</th>\n",
       "      <td>Total</td>\n",
       "      <td>Total</td>\n",
       "      <td>6.93</td>\n",
       "    </tr>\n",
       "    <tr>\n",
       "      <th>1</th>\n",
       "      <td>18–29</td>\n",
       "      <td>Total</td>\n",
       "      <td>9.35</td>\n",
       "    </tr>\n",
       "    <tr>\n",
       "      <th>2</th>\n",
       "      <td>30–44</td>\n",
       "      <td>Total</td>\n",
       "      <td>8.69</td>\n",
       "    </tr>\n",
       "    <tr>\n",
       "      <th>3</th>\n",
       "      <td>45–64</td>\n",
       "      <td>Total</td>\n",
       "      <td>5.50</td>\n",
       "    </tr>\n",
       "    <tr>\n",
       "      <th>4</th>\n",
       "      <td>65+</td>\n",
       "      <td>Total</td>\n",
       "      <td>2.36</td>\n",
       "    </tr>\n",
       "  </tbody>\n",
       "</table>\n",
       "</div>"
      ],
      "text/plain": [
       "  characteristic race-ethnicity  Male-%\n",
       "0          Total          Total    6.93\n",
       "1          18–29          Total    9.35\n",
       "2          30–44          Total    8.69\n",
       "3          45–64          Total    5.50\n",
       "4            65+          Total    2.36"
      ]
     },
     "execution_count": 12,
     "metadata": {},
     "output_type": "execute_result"
    }
   ],
   "source": [
    "df[['characteristic', 'race-ethnicity', 'Male-%']].head() #remember head is only top 5"
   ]
  },
  {
   "cell_type": "markdown",
   "metadata": {
    "slideshow": {
     "slide_type": "slide"
    }
   },
   "source": [
    "# How is the data organized? "
   ]
  },
  {
   "cell_type": "markdown",
   "metadata": {
    "slideshow": {
     "slide_type": "slide"
    }
   },
   "source": [
    "![tidy data organization - rows = observations, columns=variables, measurments=cells](figs/L06/data_formatting.png)\n",
    "Munzner and E. Maguire, Visualization analysis & design. Boca Raton, FL: CRC Press, 2015."
   ]
  },
  {
   "cell_type": "markdown",
   "metadata": {
    "slideshow": {
     "slide_type": "slide"
    }
   },
   "source": [
    " ![image of axis, where rows=axis 0, columns = axis 1](figs/L06/axis.jpg)\n",
    "[stackoverflow](https://stackoverflow.com/questions/25773245/ambiguity-in-pandas-dataframe-numpy-array-axis-definition)"
   ]
  },
  {
   "cell_type": "markdown",
   "metadata": {
    "slideshow": {
     "slide_type": "slide"
    }
   },
   "source": [
    "# Let's see that column"
   ]
  },
  {
   "cell_type": "code",
   "execution_count": 13,
   "metadata": {
    "slideshow": {
     "slide_type": "slide"
    }
   },
   "outputs": [],
   "source": [
    "# matplotlib is one of the Python visualization libraries\n",
    "import matplotlib\n",
    "%matplotlib inline"
   ]
  },
  {
   "cell_type": "code",
   "execution_count": 25,
   "metadata": {
    "slideshow": {
     "slide_type": "slide"
    }
   },
   "outputs": [
    {
     "data": {
      "image/png": "[encoded data removed]",
      "text/plain": [
       "<Figure size 1440x360 with 1 Axes>"
      ]
     },
     "metadata": {
      "needs_background": "light"
     },
     "output_type": "display_data"
    }
   ],
   "source": [
    "import matplotlib.pyplot as plt\n",
    "fig, ax = plt.subplots(figsize=(20,5))\n",
    "_ = df[['characteristic', 'Male-%']].plot.bar(ax=ax)\n",
    "labels = [f'{c}\\n{re}' for c,re in zip(df['characteristic'],df['race-ethnicity'])]\n",
    "_ = ax.set_xticklabels(labels, rotation=90)"
   ]
  },
  {
   "cell_type": "markdown",
   "metadata": {
    "slideshow": {
     "slide_type": "slide"
    }
   },
   "source": [
    "# Practice:\n",
    "* Select and plot a different column"
   ]
  },
  {
   "cell_type": "markdown",
   "metadata": {
    "slideshow": {
     "slide_type": "slide"
    }
   },
   "source": [
    "# How do we select rows?"
   ]
  },
  {
   "cell_type": "markdown",
   "metadata": {
    "slideshow": {
     "slide_type": "slide"
    }
   },
   "source": [
    "![diagram of boolean indexing. Shows first row of numbers, second row of true first values, rows in third column are blank where rows in second are false, remaining values in third form 4th column](figs/L06/masking.png)\n",
    "Modified from [Software Carpentry](https://v4.software-carpentry.org/matrix/indexing.html)"
   ]
  },
  {
   "cell_type": "code",
   "execution_count": 31,
   "metadata": {
    "slideshow": {
     "slide_type": "slide"
    }
   },
   "outputs": [
    {
     "data": {
      "text/html": [
       "<div>\n",
       "<style scoped>\n",
       "    .dataframe tbody tr th:only-of-type {\n",
       "        vertical-align: middle;\n",
       "    }\n",
       "\n",
       "    .dataframe tbody tr th {\n",
       "        vertical-align: top;\n",
       "    }\n",
       "\n",
       "    .dataframe thead th {\n",
       "        text-align: right;\n",
       "    }\n",
       "</style>\n",
       "<table border=\"1\" class=\"dataframe\">\n",
       "  <thead>\n",
       "    <tr style=\"text-align: right;\">\n",
       "      <th></th>\n",
       "      <th>characteristic</th>\n",
       "      <th>Male-%</th>\n",
       "      <th>Male-S.E.</th>\n",
       "      <th>Male-estimate</th>\n",
       "      <th>Female-%</th>\n",
       "      <th>Female-S.E.</th>\n",
       "      <th>Female-estimate</th>\n",
       "      <th>Total-%</th>\n",
       "      <th>Total-S.E.</th>\n",
       "      <th>Total-estimate</th>\n",
       "      <th>race-ethnicity</th>\n",
       "    </tr>\n",
       "  </thead>\n",
       "  <tbody>\n",
       "    <tr>\n",
       "      <th>0</th>\n",
       "      <td>Total</td>\n",
       "      <td>6.93</td>\n",
       "      <td>0.28</td>\n",
       "      <td>6906</td>\n",
       "      <td>2.55</td>\n",
       "      <td>0.16</td>\n",
       "      <td>2762</td>\n",
       "      <td>4.65</td>\n",
       "      <td>0.18</td>\n",
       "      <td>9668</td>\n",
       "      <td>Total</td>\n",
       "    </tr>\n",
       "    <tr>\n",
       "      <th>1</th>\n",
       "      <td>18–29</td>\n",
       "      <td>9.35</td>\n",
       "      <td>0.61</td>\n",
       "      <td>2110</td>\n",
       "      <td>4.57</td>\n",
       "      <td>0.39</td>\n",
       "      <td>1041</td>\n",
       "      <td>6.95</td>\n",
       "      <td>0.39</td>\n",
       "      <td>3151</td>\n",
       "      <td>Total</td>\n",
       "    </tr>\n",
       "    <tr>\n",
       "      <th>2</th>\n",
       "      <td>30–44</td>\n",
       "      <td>8.69</td>\n",
       "      <td>0.49</td>\n",
       "      <td>2742</td>\n",
       "      <td>3.31</td>\n",
       "      <td>0.28</td>\n",
       "      <td>1080</td>\n",
       "      <td>5.95</td>\n",
       "      <td>0.31</td>\n",
       "      <td>3822</td>\n",
       "      <td>Total</td>\n",
       "    </tr>\n",
       "    <tr>\n",
       "      <th>3</th>\n",
       "      <td>45–64</td>\n",
       "      <td>5.50</td>\n",
       "      <td>0.43</td>\n",
       "      <td>1719</td>\n",
       "      <td>1.70</td>\n",
       "      <td>0.20</td>\n",
       "      <td>566</td>\n",
       "      <td>3.54</td>\n",
       "      <td>0.25</td>\n",
       "      <td>2286</td>\n",
       "      <td>Total</td>\n",
       "    </tr>\n",
       "    <tr>\n",
       "      <th>4</th>\n",
       "      <td>65+</td>\n",
       "      <td>2.36</td>\n",
       "      <td>0.32</td>\n",
       "      <td>335</td>\n",
       "      <td>0.38</td>\n",
       "      <td>0.11</td>\n",
       "      <td>75</td>\n",
       "      <td>1.21</td>\n",
       "      <td>0.15</td>\n",
       "      <td>410</td>\n",
       "      <td>Total</td>\n",
       "    </tr>\n",
       "  </tbody>\n",
       "</table>\n",
       "</div>"
      ],
      "text/plain": [
       "  characteristic  Male-%  Male-S.E.  Male-estimate  Female-%  Female-S.E.  \\\n",
       "0          Total    6.93       0.28           6906      2.55         0.16   \n",
       "1          18–29    9.35       0.61           2110      4.57         0.39   \n",
       "2          30–44    8.69       0.49           2742      3.31         0.28   \n",
       "3          45–64    5.50       0.43           1719      1.70         0.20   \n",
       "4            65+    2.36       0.32            335      0.38         0.11   \n",
       "\n",
       "   Female-estimate  Total-%  Total-S.E.  Total-estimate race-ethnicity  \n",
       "0             2762     4.65        0.18            9668          Total  \n",
       "1             1041     6.95        0.39            3151          Total  \n",
       "2             1080     5.95        0.31            3822          Total  \n",
       "3              566     3.54        0.25            2286          Total  \n",
       "4               75     1.21        0.15             410          Total  "
      ]
     },
     "execution_count": 31,
     "metadata": {},
     "output_type": "execute_result"
    }
   ],
   "source": [
    "df.head()"
   ]
  },
  {
   "cell_type": "markdown",
   "metadata": {
    "slideshow": {
     "slide_type": "slide"
    }
   },
   "source": [
    "Where characteristic = total is a double count, so let's remove that!"
   ]
  },
  {
   "cell_type": "code",
   "execution_count": 32,
   "metadata": {
    "slideshow": {
     "slide_type": "slide"
    }
   },
   "outputs": [
    {
     "data": {
      "text/plain": [
       "0     True\n",
       "1    False\n",
       "2    False\n",
       "3    False\n",
       "4    False\n",
       "Name: characteristic, dtype: bool"
      ]
     },
     "execution_count": 32,
     "metadata": {},
     "output_type": "execute_result"
    }
   ],
   "source": [
    "df['characteristic'].str.match(\"Total\").head()"
   ]
  },
  {
   "cell_type": "code",
   "execution_count": 33,
   "metadata": {},
   "outputs": [
    {
     "data": {
      "text/html": [
       "<div>\n",
       "<style scoped>\n",
       "    .dataframe tbody tr th:only-of-type {\n",
       "        vertical-align: middle;\n",
       "    }\n",
       "\n",
       "    .dataframe tbody tr th {\n",
       "        vertical-align: top;\n",
       "    }\n",
       "\n",
       "    .dataframe thead th {\n",
       "        text-align: right;\n",
       "    }\n",
       "</style>\n",
       "<table border=\"1\" class=\"dataframe\">\n",
       "  <thead>\n",
       "    <tr style=\"text-align: right;\">\n",
       "      <th></th>\n",
       "      <th>characteristic</th>\n",
       "      <th>Male-%</th>\n",
       "      <th>Male-S.E.</th>\n",
       "      <th>Male-estimate</th>\n",
       "      <th>Female-%</th>\n",
       "      <th>Female-S.E.</th>\n",
       "      <th>Female-estimate</th>\n",
       "      <th>Total-%</th>\n",
       "      <th>Total-S.E.</th>\n",
       "      <th>Total-estimate</th>\n",
       "      <th>race-ethnicity</th>\n",
       "    </tr>\n",
       "  </thead>\n",
       "  <tbody>\n",
       "    <tr>\n",
       "      <th>0</th>\n",
       "      <td>Total</td>\n",
       "      <td>6.93</td>\n",
       "      <td>0.28</td>\n",
       "      <td>6906</td>\n",
       "      <td>2.55</td>\n",
       "      <td>0.16</td>\n",
       "      <td>2762</td>\n",
       "      <td>4.65</td>\n",
       "      <td>0.18</td>\n",
       "      <td>9668</td>\n",
       "      <td>Total</td>\n",
       "    </tr>\n",
       "    <tr>\n",
       "      <th>5</th>\n",
       "      <td>Total</td>\n",
       "      <td>7.45</td>\n",
       "      <td>0.33</td>\n",
       "      <td>5276</td>\n",
       "      <td>2.92</td>\n",
       "      <td>0.19</td>\n",
       "      <td>2236</td>\n",
       "      <td>5.10</td>\n",
       "      <td>0.21</td>\n",
       "      <td>7511</td>\n",
       "      <td>White</td>\n",
       "    </tr>\n",
       "    <tr>\n",
       "      <th>10</th>\n",
       "      <td>Total</td>\n",
       "      <td>5.71</td>\n",
       "      <td>0.58</td>\n",
       "      <td>574</td>\n",
       "      <td>1.41</td>\n",
       "      <td>0.19</td>\n",
       "      <td>182</td>\n",
       "      <td>3.29</td>\n",
       "      <td>0.30</td>\n",
       "      <td>756</td>\n",
       "      <td>Black</td>\n",
       "    </tr>\n",
       "    <tr>\n",
       "      <th>15</th>\n",
       "      <td>Total</td>\n",
       "      <td>7.47</td>\n",
       "      <td>1.65</td>\n",
       "      <td>157</td>\n",
       "      <td>4.18</td>\n",
       "      <td>1.25</td>\n",
       "      <td>97</td>\n",
       "      <td>5.75</td>\n",
       "      <td>1.02</td>\n",
       "      <td>253</td>\n",
       "      <td>Native American(b)</td>\n",
       "    </tr>\n",
       "    <tr>\n",
       "      <th>20</th>\n",
       "      <td>Total</td>\n",
       "      <td>3.20</td>\n",
       "      <td>0.79</td>\n",
       "      <td>140</td>\n",
       "      <td>1.13</td>\n",
       "      <td>0.41</td>\n",
       "      <td>53</td>\n",
       "      <td>2.13</td>\n",
       "      <td>0.46</td>\n",
       "      <td>193</td>\n",
       "      <td>Asian(c)</td>\n",
       "    </tr>\n",
       "    <tr>\n",
       "      <th>25</th>\n",
       "      <td>Total</td>\n",
       "      <td>6.21</td>\n",
       "      <td>0.50</td>\n",
       "      <td>759</td>\n",
       "      <td>1.65</td>\n",
       "      <td>0.23</td>\n",
       "      <td>195</td>\n",
       "      <td>3.97</td>\n",
       "      <td>0.30</td>\n",
       "      <td>953</td>\n",
       "      <td>Hispanic/Latino</td>\n",
       "    </tr>\n",
       "  </tbody>\n",
       "</table>\n",
       "</div>"
      ],
      "text/plain": [
       "   characteristic  Male-%  Male-S.E.  Male-estimate  Female-%  Female-S.E.  \\\n",
       "0           Total    6.93       0.28           6906      2.55         0.16   \n",
       "5           Total    7.45       0.33           5276      2.92         0.19   \n",
       "10          Total    5.71       0.58            574      1.41         0.19   \n",
       "15          Total    7.47       1.65            157      4.18         1.25   \n",
       "20          Total    3.20       0.79            140      1.13         0.41   \n",
       "25          Total    6.21       0.50            759      1.65         0.23   \n",
       "\n",
       "    Female-estimate  Total-%  Total-S.E.  Total-estimate      race-ethnicity  \n",
       "0              2762     4.65        0.18            9668               Total  \n",
       "5              2236     5.10        0.21            7511               White  \n",
       "10              182     3.29        0.30             756               Black  \n",
       "15               97     5.75        1.02             253  Native American(b)  \n",
       "20               53     2.13        0.46             193            Asian(c)  \n",
       "25              195     3.97        0.30             953     Hispanic/Latino  "
      ]
     },
     "execution_count": 33,
     "metadata": {},
     "output_type": "execute_result"
    }
   ],
   "source": [
    "total_rows = df['characteristic'].str.match(\"Total\")\n",
    "df[total_rows]"
   ]
  },
  {
   "cell_type": "markdown",
   "metadata": {
    "slideshow": {
     "slide_type": "slide"
    }
   },
   "source": [
    "Negation of a condition (not) is `~`"
   ]
  },
  {
   "cell_type": "code",
   "execution_count": 35,
   "metadata": {
    "slideshow": {
     "slide_type": "slide"
    }
   },
   "outputs": [
    {
     "data": {
      "text/html": [
       "<div>\n",
       "<style scoped>\n",
       "    .dataframe tbody tr th:only-of-type {\n",
       "        vertical-align: middle;\n",
       "    }\n",
       "\n",
       "    .dataframe tbody tr th {\n",
       "        vertical-align: top;\n",
       "    }\n",
       "\n",
       "    .dataframe thead th {\n",
       "        text-align: right;\n",
       "    }\n",
       "</style>\n",
       "<table border=\"1\" class=\"dataframe\">\n",
       "  <thead>\n",
       "    <tr style=\"text-align: right;\">\n",
       "      <th></th>\n",
       "      <th>characteristic</th>\n",
       "      <th>Male-%</th>\n",
       "      <th>Male-S.E.</th>\n",
       "      <th>Male-estimate</th>\n",
       "      <th>Female-%</th>\n",
       "      <th>Female-S.E.</th>\n",
       "      <th>Female-estimate</th>\n",
       "      <th>Total-%</th>\n",
       "      <th>Total-S.E.</th>\n",
       "      <th>Total-estimate</th>\n",
       "      <th>race-ethnicity</th>\n",
       "    </tr>\n",
       "  </thead>\n",
       "  <tbody>\n",
       "    <tr>\n",
       "      <th>1</th>\n",
       "      <td>18–29</td>\n",
       "      <td>9.35</td>\n",
       "      <td>0.61</td>\n",
       "      <td>2110</td>\n",
       "      <td>4.57</td>\n",
       "      <td>0.39</td>\n",
       "      <td>1041</td>\n",
       "      <td>6.95</td>\n",
       "      <td>0.39</td>\n",
       "      <td>3151</td>\n",
       "      <td>Total</td>\n",
       "    </tr>\n",
       "    <tr>\n",
       "      <th>2</th>\n",
       "      <td>30–44</td>\n",
       "      <td>8.69</td>\n",
       "      <td>0.49</td>\n",
       "      <td>2742</td>\n",
       "      <td>3.31</td>\n",
       "      <td>0.28</td>\n",
       "      <td>1080</td>\n",
       "      <td>5.95</td>\n",
       "      <td>0.31</td>\n",
       "      <td>3822</td>\n",
       "      <td>Total</td>\n",
       "    </tr>\n",
       "    <tr>\n",
       "      <th>3</th>\n",
       "      <td>45–64</td>\n",
       "      <td>5.50</td>\n",
       "      <td>0.43</td>\n",
       "      <td>1719</td>\n",
       "      <td>1.70</td>\n",
       "      <td>0.20</td>\n",
       "      <td>566</td>\n",
       "      <td>3.54</td>\n",
       "      <td>0.25</td>\n",
       "      <td>2286</td>\n",
       "      <td>Total</td>\n",
       "    </tr>\n",
       "    <tr>\n",
       "      <th>4</th>\n",
       "      <td>65+</td>\n",
       "      <td>2.36</td>\n",
       "      <td>0.32</td>\n",
       "      <td>335</td>\n",
       "      <td>0.38</td>\n",
       "      <td>0.11</td>\n",
       "      <td>75</td>\n",
       "      <td>1.21</td>\n",
       "      <td>0.15</td>\n",
       "      <td>410</td>\n",
       "      <td>Total</td>\n",
       "    </tr>\n",
       "    <tr>\n",
       "      <th>6</th>\n",
       "      <td>18–29</td>\n",
       "      <td>10.19</td>\n",
       "      <td>0.81</td>\n",
       "      <td>1405</td>\n",
       "      <td>5.56</td>\n",
       "      <td>0.54</td>\n",
       "      <td>777</td>\n",
       "      <td>7.86</td>\n",
       "      <td>0.50</td>\n",
       "      <td>2182</td>\n",
       "      <td>White</td>\n",
       "    </tr>\n",
       "  </tbody>\n",
       "</table>\n",
       "</div>"
      ],
      "text/plain": [
       "  characteristic  Male-%  Male-S.E.  Male-estimate  Female-%  Female-S.E.  \\\n",
       "1          18–29    9.35       0.61           2110      4.57         0.39   \n",
       "2          30–44    8.69       0.49           2742      3.31         0.28   \n",
       "3          45–64    5.50       0.43           1719      1.70         0.20   \n",
       "4            65+    2.36       0.32            335      0.38         0.11   \n",
       "6          18–29   10.19       0.81           1405      5.56         0.54   \n",
       "\n",
       "   Female-estimate  Total-%  Total-S.E.  Total-estimate race-ethnicity  \n",
       "1             1041     6.95        0.39            3151          Total  \n",
       "2             1080     5.95        0.31            3822          Total  \n",
       "3              566     3.54        0.25            2286          Total  \n",
       "4               75     1.21        0.15             410          Total  \n",
       "6              777     7.86        0.50            2182          White  "
      ]
     },
     "execution_count": 35,
     "metadata": {},
     "output_type": "execute_result"
    }
   ],
   "source": [
    "df[~total_rows].head()"
   ]
  },
  {
   "cell_type": "markdown",
   "metadata": {
    "slideshow": {
     "slide_type": "slide"
    }
   },
   "source": [
    "# Still double counting 'cause of total race ethnicity, let's use compound logic"
   ]
  },
  {
   "cell_type": "code",
   "execution_count": 40,
   "metadata": {
    "slideshow": {
     "slide_type": "slide"
    }
   },
   "outputs": [
    {
     "data": {
      "text/html": [
       "<div>\n",
       "<style scoped>\n",
       "    .dataframe tbody tr th:only-of-type {\n",
       "        vertical-align: middle;\n",
       "    }\n",
       "\n",
       "    .dataframe tbody tr th {\n",
       "        vertical-align: top;\n",
       "    }\n",
       "\n",
       "    .dataframe thead th {\n",
       "        text-align: right;\n",
       "    }\n",
       "</style>\n",
       "<table border=\"1\" class=\"dataframe\">\n",
       "  <thead>\n",
       "    <tr style=\"text-align: right;\">\n",
       "      <th></th>\n",
       "      <th>characteristic</th>\n",
       "      <th>Male-%</th>\n",
       "      <th>Male-S.E.</th>\n",
       "      <th>Male-estimate</th>\n",
       "      <th>Female-%</th>\n",
       "      <th>Female-S.E.</th>\n",
       "      <th>Female-estimate</th>\n",
       "      <th>Total-%</th>\n",
       "      <th>Total-S.E.</th>\n",
       "      <th>Total-estimate</th>\n",
       "      <th>race-ethnicity</th>\n",
       "    </tr>\n",
       "  </thead>\n",
       "  <tbody>\n",
       "    <tr>\n",
       "      <th>0</th>\n",
       "      <td>Total</td>\n",
       "      <td>6.93</td>\n",
       "      <td>0.28</td>\n",
       "      <td>6906</td>\n",
       "      <td>2.55</td>\n",
       "      <td>0.16</td>\n",
       "      <td>2762</td>\n",
       "      <td>4.65</td>\n",
       "      <td>0.18</td>\n",
       "      <td>9668</td>\n",
       "      <td>Total</td>\n",
       "    </tr>\n",
       "    <tr>\n",
       "      <th>1</th>\n",
       "      <td>18–29</td>\n",
       "      <td>9.35</td>\n",
       "      <td>0.61</td>\n",
       "      <td>2110</td>\n",
       "      <td>4.57</td>\n",
       "      <td>0.39</td>\n",
       "      <td>1041</td>\n",
       "      <td>6.95</td>\n",
       "      <td>0.39</td>\n",
       "      <td>3151</td>\n",
       "      <td>Total</td>\n",
       "    </tr>\n",
       "    <tr>\n",
       "      <th>2</th>\n",
       "      <td>30–44</td>\n",
       "      <td>8.69</td>\n",
       "      <td>0.49</td>\n",
       "      <td>2742</td>\n",
       "      <td>3.31</td>\n",
       "      <td>0.28</td>\n",
       "      <td>1080</td>\n",
       "      <td>5.95</td>\n",
       "      <td>0.31</td>\n",
       "      <td>3822</td>\n",
       "      <td>Total</td>\n",
       "    </tr>\n",
       "    <tr>\n",
       "      <th>3</th>\n",
       "      <td>45–64</td>\n",
       "      <td>5.50</td>\n",
       "      <td>0.43</td>\n",
       "      <td>1719</td>\n",
       "      <td>1.70</td>\n",
       "      <td>0.20</td>\n",
       "      <td>566</td>\n",
       "      <td>3.54</td>\n",
       "      <td>0.25</td>\n",
       "      <td>2286</td>\n",
       "      <td>Total</td>\n",
       "    </tr>\n",
       "    <tr>\n",
       "      <th>4</th>\n",
       "      <td>65+</td>\n",
       "      <td>2.36</td>\n",
       "      <td>0.32</td>\n",
       "      <td>335</td>\n",
       "      <td>0.38</td>\n",
       "      <td>0.11</td>\n",
       "      <td>75</td>\n",
       "      <td>1.21</td>\n",
       "      <td>0.15</td>\n",
       "      <td>410</td>\n",
       "      <td>Total</td>\n",
       "    </tr>\n",
       "    <tr>\n",
       "      <th>5</th>\n",
       "      <td>Total</td>\n",
       "      <td>7.45</td>\n",
       "      <td>0.33</td>\n",
       "      <td>5276</td>\n",
       "      <td>2.92</td>\n",
       "      <td>0.19</td>\n",
       "      <td>2236</td>\n",
       "      <td>5.10</td>\n",
       "      <td>0.21</td>\n",
       "      <td>7511</td>\n",
       "      <td>White</td>\n",
       "    </tr>\n",
       "    <tr>\n",
       "      <th>10</th>\n",
       "      <td>Total</td>\n",
       "      <td>5.71</td>\n",
       "      <td>0.58</td>\n",
       "      <td>574</td>\n",
       "      <td>1.41</td>\n",
       "      <td>0.19</td>\n",
       "      <td>182</td>\n",
       "      <td>3.29</td>\n",
       "      <td>0.30</td>\n",
       "      <td>756</td>\n",
       "      <td>Black</td>\n",
       "    </tr>\n",
       "    <tr>\n",
       "      <th>15</th>\n",
       "      <td>Total</td>\n",
       "      <td>7.47</td>\n",
       "      <td>1.65</td>\n",
       "      <td>157</td>\n",
       "      <td>4.18</td>\n",
       "      <td>1.25</td>\n",
       "      <td>97</td>\n",
       "      <td>5.75</td>\n",
       "      <td>1.02</td>\n",
       "      <td>253</td>\n",
       "      <td>Native American(b)</td>\n",
       "    </tr>\n",
       "    <tr>\n",
       "      <th>20</th>\n",
       "      <td>Total</td>\n",
       "      <td>3.20</td>\n",
       "      <td>0.79</td>\n",
       "      <td>140</td>\n",
       "      <td>1.13</td>\n",
       "      <td>0.41</td>\n",
       "      <td>53</td>\n",
       "      <td>2.13</td>\n",
       "      <td>0.46</td>\n",
       "      <td>193</td>\n",
       "      <td>Asian(c)</td>\n",
       "    </tr>\n",
       "    <tr>\n",
       "      <th>25</th>\n",
       "      <td>Total</td>\n",
       "      <td>6.21</td>\n",
       "      <td>0.50</td>\n",
       "      <td>759</td>\n",
       "      <td>1.65</td>\n",
       "      <td>0.23</td>\n",
       "      <td>195</td>\n",
       "      <td>3.97</td>\n",
       "      <td>0.30</td>\n",
       "      <td>953</td>\n",
       "      <td>Hispanic/Latino</td>\n",
       "    </tr>\n",
       "  </tbody>\n",
       "</table>\n",
       "</div>"
      ],
      "text/plain": [
       "   characteristic  Male-%  Male-S.E.  Male-estimate  Female-%  Female-S.E.  \\\n",
       "0           Total    6.93       0.28           6906      2.55         0.16   \n",
       "1           18–29    9.35       0.61           2110      4.57         0.39   \n",
       "2           30–44    8.69       0.49           2742      3.31         0.28   \n",
       "3           45–64    5.50       0.43           1719      1.70         0.20   \n",
       "4             65+    2.36       0.32            335      0.38         0.11   \n",
       "5           Total    7.45       0.33           5276      2.92         0.19   \n",
       "10          Total    5.71       0.58            574      1.41         0.19   \n",
       "15          Total    7.47       1.65            157      4.18         1.25   \n",
       "20          Total    3.20       0.79            140      1.13         0.41   \n",
       "25          Total    6.21       0.50            759      1.65         0.23   \n",
       "\n",
       "    Female-estimate  Total-%  Total-S.E.  Total-estimate      race-ethnicity  \n",
       "0              2762     4.65        0.18            9668               Total  \n",
       "1              1041     6.95        0.39            3151               Total  \n",
       "2              1080     5.95        0.31            3822               Total  \n",
       "3               566     3.54        0.25            2286               Total  \n",
       "4                75     1.21        0.15             410               Total  \n",
       "5              2236     5.10        0.21            7511               White  \n",
       "10              182     3.29        0.30             756               Black  \n",
       "15               97     5.75        1.02             253  Native American(b)  \n",
       "20               53     2.13        0.46             193            Asian(c)  \n",
       "25              195     3.97        0.30             953     Hispanic/Latino  "
      ]
     },
     "execution_count": 40,
     "metadata": {},
     "output_type": "execute_result"
    }
   ],
   "source": [
    "# or: |, and: &\n",
    "total_rows = (df['characteristic'].str.match(\"Total\") |\n",
    "              df['race-ethnicity'].str.match(\"Total\"))\n",
    "df[total_rows]"
   ]
  },
  {
   "cell_type": "code",
   "execution_count": 37,
   "metadata": {},
   "outputs": [
    {
     "data": {
      "text/html": [
       "<div>\n",
       "<style scoped>\n",
       "    .dataframe tbody tr th:only-of-type {\n",
       "        vertical-align: middle;\n",
       "    }\n",
       "\n",
       "    .dataframe tbody tr th {\n",
       "        vertical-align: top;\n",
       "    }\n",
       "\n",
       "    .dataframe thead th {\n",
       "        text-align: right;\n",
       "    }\n",
       "</style>\n",
       "<table border=\"1\" class=\"dataframe\">\n",
       "  <thead>\n",
       "    <tr style=\"text-align: right;\">\n",
       "      <th></th>\n",
       "      <th>characteristic</th>\n",
       "      <th>Male-%</th>\n",
       "      <th>Male-S.E.</th>\n",
       "      <th>Male-estimate</th>\n",
       "      <th>Female-%</th>\n",
       "      <th>Female-S.E.</th>\n",
       "      <th>Female-estimate</th>\n",
       "      <th>Total-%</th>\n",
       "      <th>Total-S.E.</th>\n",
       "      <th>Total-estimate</th>\n",
       "      <th>race-ethnicity</th>\n",
       "    </tr>\n",
       "  </thead>\n",
       "  <tbody>\n",
       "    <tr>\n",
       "      <th>6</th>\n",
       "      <td>18–29</td>\n",
       "      <td>10.19</td>\n",
       "      <td>0.81</td>\n",
       "      <td>1405</td>\n",
       "      <td>5.56</td>\n",
       "      <td>0.54</td>\n",
       "      <td>777</td>\n",
       "      <td>7.86</td>\n",
       "      <td>0.50</td>\n",
       "      <td>2182</td>\n",
       "      <td>White</td>\n",
       "    </tr>\n",
       "    <tr>\n",
       "      <th>7</th>\n",
       "      <td>30–44</td>\n",
       "      <td>10.10</td>\n",
       "      <td>0.63</td>\n",
       "      <td>2166</td>\n",
       "      <td>4.13</td>\n",
       "      <td>0.38</td>\n",
       "      <td>902</td>\n",
       "      <td>7.09</td>\n",
       "      <td>0.40</td>\n",
       "      <td>3068</td>\n",
       "      <td>White</td>\n",
       "    </tr>\n",
       "    <tr>\n",
       "      <th>8</th>\n",
       "      <td>45–64</td>\n",
       "      <td>5.97</td>\n",
       "      <td>0.51</td>\n",
       "      <td>1425</td>\n",
       "      <td>2.02</td>\n",
       "      <td>0.26</td>\n",
       "      <td>499</td>\n",
       "      <td>3.96</td>\n",
       "      <td>0.30</td>\n",
       "      <td>1925</td>\n",
       "      <td>White</td>\n",
       "    </tr>\n",
       "    <tr>\n",
       "      <th>9</th>\n",
       "      <td>65+</td>\n",
       "      <td>2.38</td>\n",
       "      <td>0.35</td>\n",
       "      <td>279</td>\n",
       "      <td>0.36</td>\n",
       "      <td>0.10</td>\n",
       "      <td>58</td>\n",
       "      <td>1.21</td>\n",
       "      <td>0.16</td>\n",
       "      <td>336</td>\n",
       "      <td>White</td>\n",
       "    </tr>\n",
       "    <tr>\n",
       "      <th>11</th>\n",
       "      <td>18–29</td>\n",
       "      <td>6.92</td>\n",
       "      <td>1.28</td>\n",
       "      <td>166</td>\n",
       "      <td>2.10</td>\n",
       "      <td>0.45</td>\n",
       "      <td>68</td>\n",
       "      <td>4.28</td>\n",
       "      <td>0.67</td>\n",
       "      <td>254</td>\n",
       "      <td>Black</td>\n",
       "    </tr>\n",
       "  </tbody>\n",
       "</table>\n",
       "</div>"
      ],
      "text/plain": [
       "   characteristic  Male-%  Male-S.E.  Male-estimate  Female-%  Female-S.E.  \\\n",
       "6           18–29   10.19       0.81           1405      5.56         0.54   \n",
       "7           30–44   10.10       0.63           2166      4.13         0.38   \n",
       "8           45–64    5.97       0.51           1425      2.02         0.26   \n",
       "9             65+    2.38       0.35            279      0.36         0.10   \n",
       "11          18–29    6.92       1.28            166      2.10         0.45   \n",
       "\n",
       "    Female-estimate  Total-%  Total-S.E.  Total-estimate race-ethnicity  \n",
       "6               777     7.86        0.50            2182          White  \n",
       "7               902     7.09        0.40            3068          White  \n",
       "8               499     3.96        0.30            1925          White  \n",
       "9                58     1.21        0.16             336          White  \n",
       "11               68     4.28        0.67             254          Black  "
      ]
     },
     "execution_count": 37,
     "metadata": {},
     "output_type": "execute_result"
    }
   ],
   "source": [
    "# negation to pull out new rows\n",
    "dfc = df[~total_rows]\n",
    "dfc.head()"
   ]
  },
  {
   "cell_type": "code",
   "execution_count": 38,
   "metadata": {
    "slideshow": {
     "slide_type": "slide"
    }
   },
   "outputs": [
    {
     "data": {
      "text/html": [
       "<div>\n",
       "<style scoped>\n",
       "    .dataframe tbody tr th:only-of-type {\n",
       "        vertical-align: middle;\n",
       "    }\n",
       "\n",
       "    .dataframe tbody tr th {\n",
       "        vertical-align: top;\n",
       "    }\n",
       "\n",
       "    .dataframe thead th {\n",
       "        text-align: right;\n",
       "    }\n",
       "</style>\n",
       "<table border=\"1\" class=\"dataframe\">\n",
       "  <thead>\n",
       "    <tr style=\"text-align: right;\">\n",
       "      <th></th>\n",
       "      <th>Male-%</th>\n",
       "      <th>Male-S.E.</th>\n",
       "      <th>Male-estimate</th>\n",
       "      <th>Female-%</th>\n",
       "      <th>Female-S.E.</th>\n",
       "      <th>Female-estimate</th>\n",
       "      <th>Total-%</th>\n",
       "      <th>Total-S.E.</th>\n",
       "      <th>Total-estimate</th>\n",
       "    </tr>\n",
       "  </thead>\n",
       "  <tbody>\n",
       "    <tr>\n",
       "      <th>count</th>\n",
       "      <td>20.000000</td>\n",
       "      <td>20.000000</td>\n",
       "      <td>20.000000</td>\n",
       "      <td>20.000000</td>\n",
       "      <td>20.000000</td>\n",
       "      <td>20.000000</td>\n",
       "      <td>20.000000</td>\n",
       "      <td>20.000000</td>\n",
       "      <td>20.00000</td>\n",
       "    </tr>\n",
       "    <tr>\n",
       "      <th>mean</th>\n",
       "      <td>5.617500</td>\n",
       "      <td>1.370000</td>\n",
       "      <td>344.300000</td>\n",
       "      <td>2.191000</td>\n",
       "      <td>0.799500</td>\n",
       "      <td>138.150000</td>\n",
       "      <td>3.816500</td>\n",
       "      <td>0.828000</td>\n",
       "      <td>483.40000</td>\n",
       "    </tr>\n",
       "    <tr>\n",
       "      <th>std</th>\n",
       "      <td>3.592297</td>\n",
       "      <td>1.264291</td>\n",
       "      <td>595.694031</td>\n",
       "      <td>2.242416</td>\n",
       "      <td>1.192461</td>\n",
       "      <td>263.824757</td>\n",
       "      <td>2.721668</td>\n",
       "      <td>0.843954</td>\n",
       "      <td>855.52221</td>\n",
       "    </tr>\n",
       "    <tr>\n",
       "      <th>min</th>\n",
       "      <td>0.000000</td>\n",
       "      <td>0.000000</td>\n",
       "      <td>0.000000</td>\n",
       "      <td>0.000000</td>\n",
       "      <td>0.000000</td>\n",
       "      <td>0.000000</td>\n",
       "      <td>0.000000</td>\n",
       "      <td>0.000000</td>\n",
       "      <td>0.00000</td>\n",
       "    </tr>\n",
       "    <tr>\n",
       "      <th>25%</th>\n",
       "      <td>3.665000</td>\n",
       "      <td>0.620000</td>\n",
       "      <td>36.500000</td>\n",
       "      <td>0.222500</td>\n",
       "      <td>0.180000</td>\n",
       "      <td>3.750000</td>\n",
       "      <td>2.025000</td>\n",
       "      <td>0.357500</td>\n",
       "      <td>36.50000</td>\n",
       "    </tr>\n",
       "    <tr>\n",
       "      <th>50%</th>\n",
       "      <td>4.810000</td>\n",
       "      <td>0.895000</td>\n",
       "      <td>87.500000</td>\n",
       "      <td>1.485000</td>\n",
       "      <td>0.345000</td>\n",
       "      <td>47.000000</td>\n",
       "      <td>3.570000</td>\n",
       "      <td>0.480000</td>\n",
       "      <td>119.00000</td>\n",
       "    </tr>\n",
       "    <tr>\n",
       "      <th>75%</th>\n",
       "      <td>7.197500</td>\n",
       "      <td>1.667500</td>\n",
       "      <td>248.250000</td>\n",
       "      <td>3.947500</td>\n",
       "      <td>0.562500</td>\n",
       "      <td>65.750000</td>\n",
       "      <td>4.832500</td>\n",
       "      <td>0.877500</td>\n",
       "      <td>310.50000</td>\n",
       "    </tr>\n",
       "    <tr>\n",
       "      <th>max</th>\n",
       "      <td>15.250000</td>\n",
       "      <td>5.680000</td>\n",
       "      <td>2166.000000</td>\n",
       "      <td>6.680000</td>\n",
       "      <td>4.000000</td>\n",
       "      <td>902.000000</td>\n",
       "      <td>10.350000</td>\n",
       "      <td>3.110000</td>\n",
       "      <td>3068.00000</td>\n",
       "    </tr>\n",
       "  </tbody>\n",
       "</table>\n",
       "</div>"
      ],
      "text/plain": [
       "          Male-%  Male-S.E.  Male-estimate   Female-%  Female-S.E.  \\\n",
       "count  20.000000  20.000000      20.000000  20.000000    20.000000   \n",
       "mean    5.617500   1.370000     344.300000   2.191000     0.799500   \n",
       "std     3.592297   1.264291     595.694031   2.242416     1.192461   \n",
       "min     0.000000   0.000000       0.000000   0.000000     0.000000   \n",
       "25%     3.665000   0.620000      36.500000   0.222500     0.180000   \n",
       "50%     4.810000   0.895000      87.500000   1.485000     0.345000   \n",
       "75%     7.197500   1.667500     248.250000   3.947500     0.562500   \n",
       "max    15.250000   5.680000    2166.000000   6.680000     4.000000   \n",
       "\n",
       "       Female-estimate    Total-%  Total-S.E.  Total-estimate  \n",
       "count        20.000000  20.000000   20.000000        20.00000  \n",
       "mean        138.150000   3.816500    0.828000       483.40000  \n",
       "std         263.824757   2.721668    0.843954       855.52221  \n",
       "min           0.000000   0.000000    0.000000         0.00000  \n",
       "25%           3.750000   2.025000    0.357500        36.50000  \n",
       "50%          47.000000   3.570000    0.480000       119.00000  \n",
       "75%          65.750000   4.832500    0.877500       310.50000  \n",
       "max         902.000000  10.350000    3.110000      3068.00000  "
      ]
     },
     "execution_count": 38,
     "metadata": {},
     "output_type": "execute_result"
    }
   ],
   "source": [
    "dfc.describe() # hos is this different from the one that includes total?"
   ]
  },
  {
   "cell_type": "code",
   "execution_count": 41,
   "metadata": {},
   "outputs": [
    {
     "data": {
      "text/html": [
       "<div>\n",
       "<style scoped>\n",
       "    .dataframe tbody tr th:only-of-type {\n",
       "        vertical-align: middle;\n",
       "    }\n",
       "\n",
       "    .dataframe tbody tr th {\n",
       "        vertical-align: top;\n",
       "    }\n",
       "\n",
       "    .dataframe thead th {\n",
       "        text-align: right;\n",
       "    }\n",
       "</style>\n",
       "<table border=\"1\" class=\"dataframe\">\n",
       "  <thead>\n",
       "    <tr style=\"text-align: right;\">\n",
       "      <th></th>\n",
       "      <th>Male-%</th>\n",
       "      <th>Male-S.E.</th>\n",
       "      <th>Male-estimate</th>\n",
       "      <th>Female-%</th>\n",
       "      <th>Female-S.E.</th>\n",
       "      <th>Female-estimate</th>\n",
       "      <th>Total-%</th>\n",
       "      <th>Total-S.E.</th>\n",
       "      <th>Total-estimate</th>\n",
       "    </tr>\n",
       "  </thead>\n",
       "  <tbody>\n",
       "    <tr>\n",
       "      <th>count</th>\n",
       "      <td>30.000000</td>\n",
       "      <td>30.000000</td>\n",
       "      <td>30.000000</td>\n",
       "      <td>30.000000</td>\n",
       "      <td>30.000000</td>\n",
       "      <td>30.000000</td>\n",
       "      <td>30.000000</td>\n",
       "      <td>30.000000</td>\n",
       "      <td>30.000000</td>\n",
       "    </tr>\n",
       "    <tr>\n",
       "      <th>mean</th>\n",
       "      <td>5.840667</td>\n",
       "      <td>1.112667</td>\n",
       "      <td>920.133333</td>\n",
       "      <td>2.254000</td>\n",
       "      <td>0.646667</td>\n",
       "      <td>368.333333</td>\n",
       "      <td>3.962333</td>\n",
       "      <td>0.671000</td>\n",
       "      <td>1289.033333</td>\n",
       "    </tr>\n",
       "    <tr>\n",
       "      <th>std</th>\n",
       "      <td>3.175372</td>\n",
       "      <td>1.110874</td>\n",
       "      <td>1610.636343</td>\n",
       "      <td>1.969584</td>\n",
       "      <td>1.007213</td>\n",
       "      <td>667.518840</td>\n",
       "      <td>2.425230</td>\n",
       "      <td>0.732946</td>\n",
       "      <td>2275.267919</td>\n",
       "    </tr>\n",
       "    <tr>\n",
       "      <th>min</th>\n",
       "      <td>0.000000</td>\n",
       "      <td>0.000000</td>\n",
       "      <td>0.000000</td>\n",
       "      <td>0.000000</td>\n",
       "      <td>0.000000</td>\n",
       "      <td>0.000000</td>\n",
       "      <td>0.000000</td>\n",
       "      <td>0.000000</td>\n",
       "      <td>0.000000</td>\n",
       "    </tr>\n",
       "    <tr>\n",
       "      <th>25%</th>\n",
       "      <td>3.822500</td>\n",
       "      <td>0.502500</td>\n",
       "      <td>57.750000</td>\n",
       "      <td>0.442500</td>\n",
       "      <td>0.190000</td>\n",
       "      <td>21.000000</td>\n",
       "      <td>2.242500</td>\n",
       "      <td>0.300000</td>\n",
       "      <td>92.250000</td>\n",
       "    </tr>\n",
       "    <tr>\n",
       "      <th>50%</th>\n",
       "      <td>5.605000</td>\n",
       "      <td>0.760000</td>\n",
       "      <td>192.500000</td>\n",
       "      <td>1.675000</td>\n",
       "      <td>0.290000</td>\n",
       "      <td>63.000000</td>\n",
       "      <td>3.930000</td>\n",
       "      <td>0.395000</td>\n",
       "      <td>267.500000</td>\n",
       "    </tr>\n",
       "    <tr>\n",
       "      <th>75%</th>\n",
       "      <td>7.465000</td>\n",
       "      <td>1.475000</td>\n",
       "      <td>1243.500000</td>\n",
       "      <td>3.745000</td>\n",
       "      <td>0.440000</td>\n",
       "      <td>423.000000</td>\n",
       "      <td>5.587500</td>\n",
       "      <td>0.667500</td>\n",
       "      <td>1682.000000</td>\n",
       "    </tr>\n",
       "    <tr>\n",
       "      <th>max</th>\n",
       "      <td>15.250000</td>\n",
       "      <td>5.680000</td>\n",
       "      <td>6906.000000</td>\n",
       "      <td>6.680000</td>\n",
       "      <td>4.000000</td>\n",
       "      <td>2762.000000</td>\n",
       "      <td>10.350000</td>\n",
       "      <td>3.110000</td>\n",
       "      <td>9668.000000</td>\n",
       "    </tr>\n",
       "  </tbody>\n",
       "</table>\n",
       "</div>"
      ],
      "text/plain": [
       "          Male-%  Male-S.E.  Male-estimate   Female-%  Female-S.E.  \\\n",
       "count  30.000000  30.000000      30.000000  30.000000    30.000000   \n",
       "mean    5.840667   1.112667     920.133333   2.254000     0.646667   \n",
       "std     3.175372   1.110874    1610.636343   1.969584     1.007213   \n",
       "min     0.000000   0.000000       0.000000   0.000000     0.000000   \n",
       "25%     3.822500   0.502500      57.750000   0.442500     0.190000   \n",
       "50%     5.605000   0.760000     192.500000   1.675000     0.290000   \n",
       "75%     7.465000   1.475000    1243.500000   3.745000     0.440000   \n",
       "max    15.250000   5.680000    6906.000000   6.680000     4.000000   \n",
       "\n",
       "       Female-estimate    Total-%  Total-S.E.  Total-estimate  \n",
       "count        30.000000  30.000000   30.000000       30.000000  \n",
       "mean        368.333333   3.962333    0.671000     1289.033333  \n",
       "std         667.518840   2.425230    0.732946     2275.267919  \n",
       "min           0.000000   0.000000    0.000000        0.000000  \n",
       "25%          21.000000   2.242500    0.300000       92.250000  \n",
       "50%          63.000000   3.930000    0.395000      267.500000  \n",
       "75%         423.000000   5.587500    0.667500     1682.000000  \n",
       "max        2762.000000  10.350000    3.110000     9668.000000  "
      ]
     },
     "execution_count": 41,
     "metadata": {},
     "output_type": "execute_result"
    }
   ],
   "source": [
    "df.describe()"
   ]
  },
  {
   "cell_type": "code",
   "execution_count": 42,
   "metadata": {
    "slideshow": {
     "slide_type": "slide"
    }
   },
   "outputs": [
    {
     "data": {
      "image/png": "[encoded data removed]",
      "text/plain": [
       "<Figure size 1080x360 with 1 Axes>"
      ]
     },
     "metadata": {
      "needs_background": "light"
     },
     "output_type": "display_data"
    }
   ],
   "source": [
    "fig, ax = plt.subplots(figsize=(15,5))\n",
    "_ = dfc.plot.bar(ax=ax)\n",
    "_ = ax.set_xticklabels(zip(dfc['characteristic'], dfc['race-ethnicity']))"
   ]
  },
  {
   "cell_type": "markdown",
   "metadata": {
    "slideshow": {
     "slide_type": "slide"
    }
   },
   "source": [
    "That's a bit busy, let's just pull out 'White'"
   ]
  },
  {
   "cell_type": "code",
   "execution_count": 43,
   "metadata": {
    "slideshow": {
     "slide_type": "slide"
    }
   },
   "outputs": [
    {
     "data": {
      "text/html": [
       "<div>\n",
       "<style scoped>\n",
       "    .dataframe tbody tr th:only-of-type {\n",
       "        vertical-align: middle;\n",
       "    }\n",
       "\n",
       "    .dataframe tbody tr th {\n",
       "        vertical-align: top;\n",
       "    }\n",
       "\n",
       "    .dataframe thead th {\n",
       "        text-align: right;\n",
       "    }\n",
       "</style>\n",
       "<table border=\"1\" class=\"dataframe\">\n",
       "  <thead>\n",
       "    <tr style=\"text-align: right;\">\n",
       "      <th></th>\n",
       "      <th>characteristic</th>\n",
       "      <th>Male-%</th>\n",
       "      <th>Male-S.E.</th>\n",
       "      <th>Male-estimate</th>\n",
       "      <th>Female-%</th>\n",
       "      <th>Female-S.E.</th>\n",
       "      <th>Female-estimate</th>\n",
       "      <th>Total-%</th>\n",
       "      <th>Total-S.E.</th>\n",
       "      <th>Total-estimate</th>\n",
       "      <th>race-ethnicity</th>\n",
       "    </tr>\n",
       "  </thead>\n",
       "  <tbody>\n",
       "    <tr>\n",
       "      <th>6</th>\n",
       "      <td>18–29</td>\n",
       "      <td>10.19</td>\n",
       "      <td>0.81</td>\n",
       "      <td>1405</td>\n",
       "      <td>5.56</td>\n",
       "      <td>0.54</td>\n",
       "      <td>777</td>\n",
       "      <td>7.86</td>\n",
       "      <td>0.50</td>\n",
       "      <td>2182</td>\n",
       "      <td>White</td>\n",
       "    </tr>\n",
       "    <tr>\n",
       "      <th>7</th>\n",
       "      <td>30–44</td>\n",
       "      <td>10.10</td>\n",
       "      <td>0.63</td>\n",
       "      <td>2166</td>\n",
       "      <td>4.13</td>\n",
       "      <td>0.38</td>\n",
       "      <td>902</td>\n",
       "      <td>7.09</td>\n",
       "      <td>0.40</td>\n",
       "      <td>3068</td>\n",
       "      <td>White</td>\n",
       "    </tr>\n",
       "    <tr>\n",
       "      <th>8</th>\n",
       "      <td>45–64</td>\n",
       "      <td>5.97</td>\n",
       "      <td>0.51</td>\n",
       "      <td>1425</td>\n",
       "      <td>2.02</td>\n",
       "      <td>0.26</td>\n",
       "      <td>499</td>\n",
       "      <td>3.96</td>\n",
       "      <td>0.30</td>\n",
       "      <td>1925</td>\n",
       "      <td>White</td>\n",
       "    </tr>\n",
       "    <tr>\n",
       "      <th>9</th>\n",
       "      <td>65+</td>\n",
       "      <td>2.38</td>\n",
       "      <td>0.35</td>\n",
       "      <td>279</td>\n",
       "      <td>0.36</td>\n",
       "      <td>0.10</td>\n",
       "      <td>58</td>\n",
       "      <td>1.21</td>\n",
       "      <td>0.16</td>\n",
       "      <td>336</td>\n",
       "      <td>White</td>\n",
       "    </tr>\n",
       "  </tbody>\n",
       "</table>\n",
       "</div>"
      ],
      "text/plain": [
       "  characteristic  Male-%  Male-S.E.  Male-estimate  Female-%  Female-S.E.  \\\n",
       "6          18–29   10.19       0.81           1405      5.56         0.54   \n",
       "7          30–44   10.10       0.63           2166      4.13         0.38   \n",
       "8          45–64    5.97       0.51           1425      2.02         0.26   \n",
       "9            65+    2.38       0.35            279      0.36         0.10   \n",
       "\n",
       "   Female-estimate  Total-%  Total-S.E.  Total-estimate race-ethnicity  \n",
       "6              777     7.86        0.50            2182          White  \n",
       "7              902     7.09        0.40            3068          White  \n",
       "8              499     3.96        0.30            1925          White  \n",
       "9               58     1.21        0.16             336          White  "
      ]
     },
     "execution_count": 43,
     "metadata": {},
     "output_type": "execute_result"
    }
   ],
   "source": [
    "white = dfc[dfc['race-ethnicity'].str.match(\"White\")]\n",
    "white"
   ]
  },
  {
   "cell_type": "code",
   "execution_count": 44,
   "metadata": {
    "slideshow": {
     "slide_type": "slide"
    }
   },
   "outputs": [
    {
     "data": {
      "image/png": "[encoded data removed]",
      "text/plain": [
       "<Figure size 432x288 with 1 Axes>"
      ]
     },
     "metadata": {
      "needs_background": "light"
     },
     "output_type": "display_data"
    }
   ],
   "source": [
    "fig, ax = plt.subplots()\n",
    "_ = white.plot.bar(ax =ax)\n",
    "_ = ax.set_xticklabels(white['characteristic'])"
   ]
  },
  {
   "cell_type": "markdown",
   "metadata": {
    "slideshow": {
     "slide_type": "slide"
    }
   },
   "source": [
    "# Why are half the columns missing?\n",
    "comparing apples to oranges to cats"
   ]
  },
  {
   "cell_type": "code",
   "execution_count": 45,
   "metadata": {
    "slideshow": {
     "slide_type": "slide"
    }
   },
   "outputs": [
    {
     "data": {
      "text/plain": [
       "Index(['characteristic', 'Male-%', 'Male-S.E.', 'Male-estimate', 'Female-%',\n",
       "       'Female-S.E.', 'Female-estimate', 'Total-%', 'Total-S.E.',\n",
       "       'Total-estimate', 'race-ethnicity'],\n",
       "      dtype='object')"
      ]
     },
     "execution_count": 45,
     "metadata": {},
     "output_type": "execute_result"
    }
   ],
   "source": [
    "dfc.columns"
   ]
  },
  {
   "cell_type": "code",
   "execution_count": 46,
   "metadata": {
    "slideshow": {
     "slide_type": "slide"
    }
   },
   "outputs": [
    {
     "data": {
      "text/html": [
       "<div>\n",
       "<style scoped>\n",
       "    .dataframe tbody tr th:only-of-type {\n",
       "        vertical-align: middle;\n",
       "    }\n",
       "\n",
       "    .dataframe tbody tr th {\n",
       "        vertical-align: top;\n",
       "    }\n",
       "\n",
       "    .dataframe thead th {\n",
       "        text-align: right;\n",
       "    }\n",
       "</style>\n",
       "<table border=\"1\" class=\"dataframe\">\n",
       "  <thead>\n",
       "    <tr style=\"text-align: right;\">\n",
       "      <th></th>\n",
       "      <th>characteristic</th>\n",
       "      <th>race-ethnicity</th>\n",
       "      <th>Male-%</th>\n",
       "      <th>Female-%</th>\n",
       "    </tr>\n",
       "  </thead>\n",
       "  <tbody>\n",
       "    <tr>\n",
       "      <th>6</th>\n",
       "      <td>18–29</td>\n",
       "      <td>White</td>\n",
       "      <td>10.19</td>\n",
       "      <td>5.56</td>\n",
       "    </tr>\n",
       "    <tr>\n",
       "      <th>7</th>\n",
       "      <td>30–44</td>\n",
       "      <td>White</td>\n",
       "      <td>10.10</td>\n",
       "      <td>4.13</td>\n",
       "    </tr>\n",
       "    <tr>\n",
       "      <th>8</th>\n",
       "      <td>45–64</td>\n",
       "      <td>White</td>\n",
       "      <td>5.97</td>\n",
       "      <td>2.02</td>\n",
       "    </tr>\n",
       "    <tr>\n",
       "      <th>9</th>\n",
       "      <td>65+</td>\n",
       "      <td>White</td>\n",
       "      <td>2.38</td>\n",
       "      <td>0.36</td>\n",
       "    </tr>\n",
       "    <tr>\n",
       "      <th>11</th>\n",
       "      <td>18–29</td>\n",
       "      <td>Black</td>\n",
       "      <td>6.92</td>\n",
       "      <td>2.10</td>\n",
       "    </tr>\n",
       "    <tr>\n",
       "      <th>12</th>\n",
       "      <td>30–44</td>\n",
       "      <td>Black</td>\n",
       "      <td>7.04</td>\n",
       "      <td>1.51</td>\n",
       "    </tr>\n",
       "    <tr>\n",
       "      <th>13</th>\n",
       "      <td>45–64</td>\n",
       "      <td>Black</td>\n",
       "      <td>4.48</td>\n",
       "      <td>1.25</td>\n",
       "    </tr>\n",
       "    <tr>\n",
       "      <th>14</th>\n",
       "      <td>65+</td>\n",
       "      <td>Black</td>\n",
       "      <td>1.79</td>\n",
       "      <td>0.12</td>\n",
       "    </tr>\n",
       "    <tr>\n",
       "      <th>16</th>\n",
       "      <td>18–29</td>\n",
       "      <td>Native American(b)</td>\n",
       "      <td>15.25</td>\n",
       "      <td>6.68</td>\n",
       "    </tr>\n",
       "    <tr>\n",
       "      <th>17</th>\n",
       "      <td>30–44</td>\n",
       "      <td>Native American(b)</td>\n",
       "      <td>7.67</td>\n",
       "      <td>6.52</td>\n",
       "    </tr>\n",
       "    <tr>\n",
       "      <th>18</th>\n",
       "      <td>45–64</td>\n",
       "      <td>Native American(b)</td>\n",
       "      <td>4.85</td>\n",
       "      <td>0.00</td>\n",
       "    </tr>\n",
       "    <tr>\n",
       "      <th>19</th>\n",
       "      <td>65+</td>\n",
       "      <td>Native American(b)</td>\n",
       "      <td>3.59</td>\n",
       "      <td>4.12</td>\n",
       "    </tr>\n",
       "    <tr>\n",
       "      <th>21</th>\n",
       "      <td>18–29</td>\n",
       "      <td>Asian(c)</td>\n",
       "      <td>4.77</td>\n",
       "      <td>3.89</td>\n",
       "    </tr>\n",
       "    <tr>\n",
       "      <th>22</th>\n",
       "      <td>30–44</td>\n",
       "      <td>Asian(c)</td>\n",
       "      <td>4.22</td>\n",
       "      <td>0.23</td>\n",
       "    </tr>\n",
       "    <tr>\n",
       "      <th>23</th>\n",
       "      <td>45–64</td>\n",
       "      <td>Asian(c)</td>\n",
       "      <td>1.13</td>\n",
       "      <td>0.20</td>\n",
       "    </tr>\n",
       "    <tr>\n",
       "      <th>24</th>\n",
       "      <td>65+</td>\n",
       "      <td>Asian(c)</td>\n",
       "      <td>0.00</td>\n",
       "      <td>0.00</td>\n",
       "    </tr>\n",
       "    <tr>\n",
       "      <th>26</th>\n",
       "      <td>18–29</td>\n",
       "      <td>Hispanic/Latino</td>\n",
       "      <td>9.08</td>\n",
       "      <td>3.04</td>\n",
       "    </tr>\n",
       "    <tr>\n",
       "      <th>27</th>\n",
       "      <td>30–44</td>\n",
       "      <td>Hispanic/Latino</td>\n",
       "      <td>4.88</td>\n",
       "      <td>1.46</td>\n",
       "    </tr>\n",
       "    <tr>\n",
       "      <th>28</th>\n",
       "      <td>45–64</td>\n",
       "      <td>Hispanic/Latino</td>\n",
       "      <td>4.35</td>\n",
       "      <td>0.63</td>\n",
       "    </tr>\n",
       "    <tr>\n",
       "      <th>29</th>\n",
       "      <td>65+</td>\n",
       "      <td>Hispanic/Latino</td>\n",
       "      <td>3.69</td>\n",
       "      <td>0.00</td>\n",
       "    </tr>\n",
       "  </tbody>\n",
       "</table>\n",
       "</div>"
      ],
      "text/plain": [
       "   characteristic      race-ethnicity  Male-%  Female-%\n",
       "6           18–29               White   10.19      5.56\n",
       "7           30–44               White   10.10      4.13\n",
       "8           45–64               White    5.97      2.02\n",
       "9             65+               White    2.38      0.36\n",
       "11          18–29               Black    6.92      2.10\n",
       "12          30–44               Black    7.04      1.51\n",
       "13          45–64               Black    4.48      1.25\n",
       "14            65+               Black    1.79      0.12\n",
       "16          18–29  Native American(b)   15.25      6.68\n",
       "17          30–44  Native American(b)    7.67      6.52\n",
       "18          45–64  Native American(b)    4.85      0.00\n",
       "19            65+  Native American(b)    3.59      4.12\n",
       "21          18–29            Asian(c)    4.77      3.89\n",
       "22          30–44            Asian(c)    4.22      0.23\n",
       "23          45–64            Asian(c)    1.13      0.20\n",
       "24            65+            Asian(c)    0.00      0.00\n",
       "26          18–29     Hispanic/Latino    9.08      3.04\n",
       "27          30–44     Hispanic/Latino    4.88      1.46\n",
       "28          45–64     Hispanic/Latino    4.35      0.63\n",
       "29            65+     Hispanic/Latino    3.69      0.00"
      ]
     },
     "execution_count": 46,
     "metadata": {},
     "output_type": "execute_result"
    }
   ],
   "source": [
    "percent = dfc[['characteristic', 'race-ethnicity','Male-%', 'Female-%']]\n",
    "percent"
   ]
  },
  {
   "cell_type": "code",
   "execution_count": 50,
   "metadata": {
    "slideshow": {
     "slide_type": "slide"
    }
   },
   "outputs": [
    {
     "data": {
      "image/png": "[encoded data removed]",
      "text/plain": [
       "<Figure size 432x288 with 1 Axes>"
      ]
     },
     "metadata": {
      "needs_background": "light"
     },
     "output_type": "display_data"
    }
   ],
   "source": [
    "# Lets look at this subset\n",
    "fig, ax = plt.subplots()\n",
    "_ = ax.set_title(\"Alcohol abuse rates by white people\")\n",
    "_ = percent[percent['race-ethnicity'].str.match('White')].plot.bar(ax=ax)\n",
    "_ = ax.set_xticklabels(percent['characteristic'])\n",
    "_ = ax.grid()"
   ]
  },
  {
   "cell_type": "code",
   "execution_count": 51,
   "metadata": {
    "slideshow": {
     "slide_type": "slide"
    }
   },
   "outputs": [
    {
     "data": {
      "image/png": "[encoded data removed]",
      "text/plain": [
       "<Figure size 432x288 with 1 Axes>"
      ]
     },
     "metadata": {
      "needs_background": "light"
     },
     "output_type": "display_data"
    }
   ],
   "source": [
    "# Lets look at this subset\n",
    "fig, ax = plt.subplots()\n",
    "_ = ax.set_title(\"Alcohol abuse rates by white people\")\n",
    "_ = percent[percent['race-ethnicity'].str.match('White')].plot.bar(ax=ax, stacked=True)\n",
    "_ = ax.set_xticklabels(percent['characteristic'])\n",
    "_ = ax.grid()"
   ]
  },
  {
   "cell_type": "code",
   "execution_count": 53,
   "metadata": {},
   "outputs": [
    {
     "data": {
      "image/png": "[encoded data removed]",
      "text/plain": [
       "<Figure size 720x360 with 2 Axes>"
      ]
     },
     "metadata": {
      "needs_background": "light"
     },
     "output_type": "display_data"
    }
   ],
   "source": [
    "fig, (ax1, ax2) = plt.subplots(ncols=2, figsize=(10,5))\n",
    "_ = ax1.set_title(\"Alcohol abuse rates by white people\")\n",
    "_ = percent[percent['race-ethnicity'].str.match('White')].plot.bar(ax=ax1)\n",
    "_ = ax1.set_xticklabels(percent['characteristic'])\n",
    "_ = ax1.grid()\n",
    "\n",
    "_ = ax2.set_title(\"Alcohol abuse rates by white people\")\n",
    "_ = percent[percent['race-ethnicity'].str.match('White')].plot.bar(ax=ax2, stacked=True)\n",
    "_ = ax2.set_xticklabels(percent['characteristic'])\n",
    "_ = ax2.grid()"
   ]
  },
  {
   "cell_type": "markdown",
   "metadata": {
    "slideshow": {
     "slide_type": "slide"
    }
   },
   "source": [
    "# Practice:\n",
    "1. Try a different race-ethnicity & a different set of columns\n",
    "2. Try an age group"
   ]
  },
  {
   "cell_type": "markdown",
   "metadata": {
    "slideshow": {
     "slide_type": "slide"
    }
   },
   "source": [
    "# Can we see characteristic by race?"
   ]
  },
  {
   "cell_type": "code",
   "execution_count": null,
   "metadata": {
    "slideshow": {
     "slide_type": "slide"
    }
   },
   "outputs": [],
   "source": [
    "table = df.pivot(index='characteristic', columns='race-ethnicity', \n",
    "                    values=['Male-%', 'Female-%', 'Total-%'])\n"
   ]
  },
  {
   "cell_type": "code",
   "execution_count": null,
   "metadata": {
    "slideshow": {
     "slide_type": "slide"
    }
   },
   "outputs": [],
   "source": [
    "table"
   ]
  },
  {
   "cell_type": "code",
   "execution_count": null,
   "metadata": {
    "slideshow": {
     "slide_type": "slide"
    }
   },
   "outputs": [],
   "source": [
    "_ = table['Male-%'].plot.bar()"
   ]
  },
  {
   "cell_type": "code",
   "execution_count": null,
   "metadata": {
    "slideshow": {
     "slide_type": "slide"
    }
   },
   "outputs": [],
   "source": [
    "# clean it up a bit using stacked bar plots\n",
    "_ = table['Male-%'].plot.bar(stacked=True)"
   ]
  },
  {
   "cell_type": "code",
   "execution_count": null,
   "metadata": {
    "slideshow": {
     "slide_type": "slide"
    }
   },
   "outputs": [],
   "source": [
    "# Switch the grouping by flipping the table\n",
    "table['Male-%'].T"
   ]
  },
  {
   "cell_type": "code",
   "execution_count": null,
   "metadata": {
    "slideshow": {
     "slide_type": "slide"
    }
   },
   "outputs": [],
   "source": [
    "_ = table['Male-%'].T.plot.bar(stacked=True)"
   ]
  },
  {
   "cell_type": "markdown",
   "metadata": {
    "slideshow": {
     "slide_type": "slide"
    }
   },
   "source": [
    "# Practice:\n",
    "1. See how women differ\n",
    "2. Try a different column set"
   ]
  },
  {
   "cell_type": "markdown",
   "metadata": {
    "slideshow": {
     "slide_type": "slide"
    }
   },
   "source": [
    "# Let's do some math!"
   ]
  },
  {
   "cell_type": "code",
   "execution_count": null,
   "metadata": {
    "slideshow": {
     "slide_type": "slide"
    }
   },
   "outputs": [],
   "source": [
    "# Let's use columwise summation (axis=1) to confirm that the male and female estimates sum to the total\n",
    "dfc[['Male-estimate', 'Female-estimate']].sum(axis=1)"
   ]
  },
  {
   "cell_type": "code",
   "execution_count": null,
   "metadata": {},
   "outputs": [],
   "source": [
    "#let's see where it's off a bit\n",
    "dfc[~(dfc[['Male-estimate', 'Female-estimate']].sum(axis=1) == dfc['Total-estimate'])]"
   ]
  },
  {
   "cell_type": "code",
   "execution_count": null,
   "metadata": {
    "slideshow": {
     "slide_type": "slide"
    }
   },
   "outputs": [],
   "source": [
    "# mean per column:\n",
    "dfc.mean()"
   ]
  },
  {
   "cell_type": "code",
   "execution_count": null,
   "metadata": {
    "slideshow": {
     "slide_type": "slide"
    }
   },
   "outputs": [],
   "source": [
    "# full summary stats\n",
    "dfc.describe()"
   ]
  },
  {
   "cell_type": "code",
   "execution_count": null,
   "metadata": {
    "slideshow": {
     "slide_type": "slide"
    }
   },
   "outputs": [],
   "source": [
    "# Standard deviation\n",
    "dfc.groupby(['race-ethnicity']).std()"
   ]
  },
  {
   "cell_type": "code",
   "execution_count": null,
   "metadata": {
    "slideshow": {
     "slide_type": "slide"
    }
   },
   "outputs": [],
   "source": [
    "# What if we want the mean for each race-ethnicity?\n",
    "estimates = dfc.groupby(['race-ethnicity'])[['Male-estimate', 'Female-estimate', 'Total-estimate']].sum()"
   ]
  },
  {
   "cell_type": "code",
   "execution_count": null,
   "metadata": {
    "slideshow": {
     "slide_type": "slide"
    }
   },
   "outputs": [],
   "source": [
    "estimates"
   ]
  },
  {
   "cell_type": "code",
   "execution_count": null,
   "metadata": {
    "slideshow": {
     "slide_type": "slide"
    }
   },
   "outputs": [],
   "source": [
    "# remove total so we're not double counting on the visualization\n",
    "est_sex = estimates[['Male-estimate', 'Female-estimate']]\n",
    "_ = est_sex.plot.bar(stacked=True)"
   ]
  },
  {
   "cell_type": "code",
   "execution_count": null,
   "metadata": {
    "slideshow": {
     "slide_type": "slide"
    }
   },
   "outputs": [],
   "source": [
    "#pictures need lots of polishing, this is just exploratory\n",
    "_ = est_sex.plot.pie(subplots=True, figsize=(10,5))"
   ]
  },
  {
   "cell_type": "code",
   "execution_count": null,
   "metadata": {
    "slideshow": {
     "slide_type": "slide"
    }
   },
   "outputs": [],
   "source": [
    "_ = est_sex.T.plot.bar(stacked=True)"
   ]
  },
  {
   "cell_type": "code",
   "execution_count": null,
   "metadata": {
    "slideshow": {
     "slide_type": "slide"
    }
   },
   "outputs": [],
   "source": [
    "# let's look at gender, which means removing totals\n",
    "_ = est_sex.T['White'].plot.pie()"
   ]
  },
  {
   "cell_type": "markdown",
   "metadata": {
    "slideshow": {
     "slide_type": "slide"
    }
   },
   "source": [
    "# Practice\n",
    "Try plotting a different race-ethnicity"
   ]
  },
  {
   "cell_type": "code",
   "execution_count": null,
   "metadata": {
    "slideshow": {
     "slide_type": "slide"
    }
   },
   "outputs": [],
   "source": [
    "# Let's use a boxplot to visualize the different grou\n",
    "import seaborn as sns\n",
    "sns.boxplot(x = 'race-ethnicity', y = 'Male-estimate', data=dfc)"
   ]
  },
  {
   "cell_type": "markdown",
   "metadata": {
    "slideshow": {
     "slide_type": "slide"
    }
   },
   "source": [
    "# Practice \n",
    "Get the mean for each demographic/characteristic (ignore race)"
   ]
  },
  {
   "cell_type": "markdown",
   "metadata": {
    "slideshow": {
     "slide_type": "slide"
    }
   },
   "source": [
    "# Practice Project:\n",
    "1. Open the dependency file\n",
    "2. Compare dependency & abuse rates (with figures): have summaries for each race, sex, & demographic"
   ]
  },
  {
   "cell_type": "markdown",
   "metadata": {
    "slideshow": {
     "slide_type": "slide"
    }
   },
   "source": [
    "# How do we join two datasets?\n",
    "![table merge where 1st row is scanned and on match with element in second row, new row is created with elements of both](figs/L06/merge.gif)\n",
    "\n",
    "Source [Randy Au, Can we stop with the SQL JOINs venn diagrams insanity?](https://towardsdatascience.com/can-we-stop-with-the-sql-joins-venn-diagrams-insanity-16791d9250c3?sk=f8bfa36658362ee6d54951681967a45b)\n"
   ]
  },
  {
   "cell_type": "code",
   "execution_count": null,
   "metadata": {
    "slideshow": {
     "slide_type": "slide"
    }
   },
   "outputs": [],
   "source": [
    "df2 = pd.read_csv(\"../data/dependency.csv\")"
   ]
  },
  {
   "cell_type": "code",
   "execution_count": null,
   "metadata": {
    "slideshow": {
     "slide_type": "slide"
    }
   },
   "outputs": [],
   "source": [
    "df2.head()"
   ]
  },
  {
   "cell_type": "code",
   "execution_count": null,
   "metadata": {
    "slideshow": {
     "slide_type": "slide"
    }
   },
   "outputs": [],
   "source": [
    "# need both characteristic and race-ethnicty for row uniquiness\n",
    "pd.merge(df, df2, on=['characteristic', 'race-ethnicity'])"
   ]
  },
  {
   "cell_type": "code",
   "execution_count": null,
   "metadata": {
    "slideshow": {
     "slide_type": "slide"
    }
   },
   "outputs": [],
   "source": [
    "#lets use better identifiers than x, y\n",
    "data = pd.merge(df, df2, on=['characteristic', 'race-ethnicity'], suffixes=('-abuse', '-dependency'))"
   ]
  },
  {
   "cell_type": "code",
   "execution_count": null,
   "metadata": {
    "slideshow": {
     "slide_type": "slide"
    }
   },
   "outputs": [],
   "source": [
    "data.head()"
   ]
  },
  {
   "cell_type": "code",
   "execution_count": null,
   "metadata": {
    "slideshow": {
     "slide_type": "slide"
    }
   },
   "outputs": [],
   "source": [
    "# let's get just estimate data\n",
    "ecol = [est for est in data.columns if 'estimate' in est]\n",
    "ecol"
   ]
  },
  {
   "cell_type": "code",
   "execution_count": null,
   "metadata": {
    "slideshow": {
     "slide_type": "slide"
    }
   },
   "outputs": [],
   "source": [
    "estdf = data[['characteristic', 'race-ethnicity']+ecol]"
   ]
  },
  {
   "cell_type": "code",
   "execution_count": null,
   "metadata": {
    "slideshow": {
     "slide_type": "slide"
    }
   },
   "outputs": [],
   "source": [
    "estdf.head()"
   ]
  },
  {
   "cell_type": "markdown",
   "metadata": {},
   "source": [
    "# Practice\n",
    "1. For each race/demo/sex, find if the abuse or dependency is higher, and the difference between the two\n",
    "2. Visualize the difference"
   ]
  },
  {
   "cell_type": "code",
   "execution_count": null,
   "metadata": {},
   "outputs": [],
   "source": []
  }
 ],
 "metadata": {
  "celltoolbar": "Slideshow",
  "kernelspec": {
   "display_name": "Python 3",
   "language": "python",
   "name": "python3"
  },
  "language_info": {
   "codemirror_mode": {
    "name": "ipython",
    "version": 3
   },
   "file_extension": ".py",
   "mimetype": "text/x-python",
   "name": "python",
   "nbconvert_exporter": "python",
   "pygments_lexer": "ipython3",
   "version": "3.7.2"
  },
  "varInspector": {
   "cols": {
    "lenName": 16,
    "lenType": 16,
    "lenVar": 40
   },
   "kernels_config": {
    "python": {
     "delete_cmd_postfix": "",
     "delete_cmd_prefix": "del ",
     "library": "var_list.py",
     "varRefreshCmd": "print(var_dic_list())"
    },
    "r": {
     "delete_cmd_postfix": ") ",
     "delete_cmd_prefix": "rm(",
     "library": "var_list.r",
     "varRefreshCmd": "cat(var_dic_list()) "
    }
   },
   "position": {
    "height": "251.85px",
    "left": "389px",
    "right": "206.2px",
    "top": "45px",
    "width": "556.8px"
   },
   "types_to_exclude": [
    "module",
    "function",
    "builtin_function_or_method",
    "instance",
    "_Feature"
   ],
   "window_display": false
  }
 },
 "nbformat": 4,
 "nbformat_minor": 2
}
