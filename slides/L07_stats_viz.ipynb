{
 "cells": [
  {
   "cell_type": "markdown",
   "metadata": {
    "slideshow": {
     "slide_type": "slide"
    }
   },
   "source": [
    "# Data Exploration"
   ]
  },
  {
   "cell_type": "markdown",
   "metadata": {
    "slideshow": {
     "slide_type": "slide"
    }
   },
   "source": [
    "## Objectives\n",
    "1. Visualizing data\n",
    "1. Computing summary statistics\n",
    "1. Aggregating data via pivot tables\n",
    "2. Combining multiple tables on shared attributes"
   ]
  },
  {
   "cell_type": "markdown",
   "metadata": {
    "slideshow": {
     "slide_type": "slide"
    }
   },
   "source": [
    "# Load Data Using Pandas\n",
    "\n",
    "Pandas is a Python library (set of functions somebody else wrote) for doing data analysis. \n",
    "\n",
    "https://pandas.pydata.org/Pandas_Cheat_Sheet.pdf"
   ]
  },
  {
   "cell_type": "code",
   "execution_count": 1,
   "metadata": {
    "slideshow": {
     "slide_type": "slide"
    }
   },
   "outputs": [
    {
     "data": {
      "text/plain": [
       "'0.24.1'"
      ]
     },
     "execution_count": 1,
     "metadata": {},
     "output_type": "execute_result"
    }
   ],
   "source": [
    "import pandas as pd #import is how we load libraries\n",
    "pd.__version__"
   ]
  },
  {
   "cell_type": "code",
   "execution_count": 4,
   "metadata": {
    "slideshow": {
     "slide_type": "slide"
    }
   },
   "outputs": [],
   "source": [
    "# ../data/abuse.csv is where I store the file - change to your location\n",
    "# file is stored in df variable\n",
    "df = pd.read_csv(\"../data/abuse.csv\")"
   ]
  },
  {
   "cell_type": "code",
   "execution_count": 5,
   "metadata": {
    "slideshow": {
     "slide_type": "slide"
    }
   },
   "outputs": [
    {
     "data": {
      "text/html": [
       "<div>\n",
       "<style scoped>\n",
       "    .dataframe tbody tr th:only-of-type {\n",
       "        vertical-align: middle;\n",
       "    }\n",
       "\n",
       "    .dataframe tbody tr th {\n",
       "        vertical-align: top;\n",
       "    }\n",
       "\n",
       "    .dataframe thead th {\n",
       "        text-align: right;\n",
       "    }\n",
       "</style>\n",
       "<table border=\"1\" class=\"dataframe\">\n",
       "  <thead>\n",
       "    <tr style=\"text-align: right;\">\n",
       "      <th></th>\n",
       "      <th>characteristic</th>\n",
       "      <th>Male-%</th>\n",
       "      <th>Male-S.E.</th>\n",
       "      <th>Male-estimate</th>\n",
       "      <th>Female-%</th>\n",
       "      <th>Female-S.E.</th>\n",
       "      <th>Female-estimate</th>\n",
       "      <th>Total-%</th>\n",
       "      <th>Total-S.E.</th>\n",
       "      <th>Total-estimate</th>\n",
       "      <th>race-ethnicity</th>\n",
       "    </tr>\n",
       "  </thead>\n",
       "  <tbody>\n",
       "    <tr>\n",
       "      <th>0</th>\n",
       "      <td>Total</td>\n",
       "      <td>6.93</td>\n",
       "      <td>0.28</td>\n",
       "      <td>6906</td>\n",
       "      <td>2.55</td>\n",
       "      <td>0.16</td>\n",
       "      <td>2762</td>\n",
       "      <td>4.65</td>\n",
       "      <td>0.18</td>\n",
       "      <td>9668</td>\n",
       "      <td>Total</td>\n",
       "    </tr>\n",
       "    <tr>\n",
       "      <th>1</th>\n",
       "      <td>18–29</td>\n",
       "      <td>9.35</td>\n",
       "      <td>0.61</td>\n",
       "      <td>2110</td>\n",
       "      <td>4.57</td>\n",
       "      <td>0.39</td>\n",
       "      <td>1041</td>\n",
       "      <td>6.95</td>\n",
       "      <td>0.39</td>\n",
       "      <td>3151</td>\n",
       "      <td>Total</td>\n",
       "    </tr>\n",
       "    <tr>\n",
       "      <th>2</th>\n",
       "      <td>30–44</td>\n",
       "      <td>8.69</td>\n",
       "      <td>0.49</td>\n",
       "      <td>2742</td>\n",
       "      <td>3.31</td>\n",
       "      <td>0.28</td>\n",
       "      <td>1080</td>\n",
       "      <td>5.95</td>\n",
       "      <td>0.31</td>\n",
       "      <td>3822</td>\n",
       "      <td>Total</td>\n",
       "    </tr>\n",
       "    <tr>\n",
       "      <th>3</th>\n",
       "      <td>45–64</td>\n",
       "      <td>5.50</td>\n",
       "      <td>0.43</td>\n",
       "      <td>1719</td>\n",
       "      <td>1.70</td>\n",
       "      <td>0.20</td>\n",
       "      <td>566</td>\n",
       "      <td>3.54</td>\n",
       "      <td>0.25</td>\n",
       "      <td>2286</td>\n",
       "      <td>Total</td>\n",
       "    </tr>\n",
       "    <tr>\n",
       "      <th>4</th>\n",
       "      <td>65+</td>\n",
       "      <td>2.36</td>\n",
       "      <td>0.32</td>\n",
       "      <td>335</td>\n",
       "      <td>0.38</td>\n",
       "      <td>0.11</td>\n",
       "      <td>75</td>\n",
       "      <td>1.21</td>\n",
       "      <td>0.15</td>\n",
       "      <td>410</td>\n",
       "      <td>Total</td>\n",
       "    </tr>\n",
       "  </tbody>\n",
       "</table>\n",
       "</div>"
      ],
      "text/plain": [
       "  characteristic  Male-%  Male-S.E.  Male-estimate  Female-%  Female-S.E.  \\\n",
       "0          Total    6.93       0.28           6906      2.55         0.16   \n",
       "1          18–29    9.35       0.61           2110      4.57         0.39   \n",
       "2          30–44    8.69       0.49           2742      3.31         0.28   \n",
       "3          45–64    5.50       0.43           1719      1.70         0.20   \n",
       "4            65+    2.36       0.32            335      0.38         0.11   \n",
       "\n",
       "   Female-estimate  Total-%  Total-S.E.  Total-estimate race-ethnicity  \n",
       "0             2762     4.65        0.18            9668          Total  \n",
       "1             1041     6.95        0.39            3151          Total  \n",
       "2             1080     5.95        0.31            3822          Total  \n",
       "3              566     3.54        0.25            2286          Total  \n",
       "4               75     1.21        0.15             410          Total  "
      ]
     },
     "execution_count": 5,
     "metadata": {},
     "output_type": "execute_result"
    }
   ],
   "source": [
    "df.head()"
   ]
  },
  {
   "cell_type": "code",
   "execution_count": 7,
   "metadata": {},
   "outputs": [
    {
     "data": {
      "text/plain": [
       "dtype('O')"
      ]
     },
     "execution_count": 7,
     "metadata": {},
     "output_type": "execute_result"
    }
   ],
   "source": [
    "df['characteristic'].dtype"
   ]
  },
  {
   "cell_type": "code",
   "execution_count": 8,
   "metadata": {},
   "outputs": [
    {
     "data": {
      "text/plain": [
       "<pandas.core.strings.StringMethods at 0x7f1682cde4e0>"
      ]
     },
     "execution_count": 8,
     "metadata": {},
     "output_type": "execute_result"
    }
   ],
   "source": [
    "# lets' treat this as text data: \n",
    "# https://pandas.pydata.org/pandas-docs/stable/user_guide/text.html\n",
    "df['characteristic'].str"
   ]
  },
  {
   "cell_type": "code",
   "execution_count": 12,
   "metadata": {},
   "outputs": [
    {
     "data": {
      "text/plain": [
       "0     True\n",
       "1    False\n",
       "2    False\n",
       "3    False\n",
       "4    False\n",
       "Name: characteristic, dtype: bool"
      ]
     },
     "execution_count": 12,
     "metadata": {},
     "output_type": "execute_result"
    }
   ],
   "source": [
    "# tell me if this measurement in this column is equal to total\n",
    "df['characteristic'].str.match(\"Total\")\n",
    "# use head to sho first 5\n",
    "df['characteristic'].str.match(\"Total\").head()\n"
   ]
  },
  {
   "cell_type": "code",
   "execution_count": 15,
   "metadata": {},
   "outputs": [
    {
     "data": {
      "text/plain": [
       "0    True\n",
       "1    True\n",
       "2    True\n",
       "3    True\n",
       "4    True\n",
       "dtype: bool"
      ]
     },
     "execution_count": 15,
     "metadata": {},
     "output_type": "execute_result"
    }
   ],
   "source": [
    "# Let's remove any accurance of total to avoid double counts\n",
    "# | - or , either cell in row has total\n",
    "total_rows = (df['characteristic'].str.match(\"Total\") |\n",
    "              df['race-ethnicity'].str.match(\"Total\"))\n",
    "total_rows.head()"
   ]
  },
  {
   "cell_type": "code",
   "execution_count": 16,
   "metadata": {
    "slideshow": {
     "slide_type": "slide"
    }
   },
   "outputs": [],
   "source": [
    "# Let's remove any accurance of total to avoid double counts\n",
    "# ~ is negation, total_rows: row is True when Total is present\n",
    "dfc = df[~total_rows]"
   ]
  },
  {
   "cell_type": "code",
   "execution_count": 17,
   "metadata": {
    "slideshow": {
     "slide_type": "slide"
    }
   },
   "outputs": [
    {
     "data": {
      "text/html": [
       "<div>\n",
       "<style scoped>\n",
       "    .dataframe tbody tr th:only-of-type {\n",
       "        vertical-align: middle;\n",
       "    }\n",
       "\n",
       "    .dataframe tbody tr th {\n",
       "        vertical-align: top;\n",
       "    }\n",
       "\n",
       "    .dataframe thead th {\n",
       "        text-align: right;\n",
       "    }\n",
       "</style>\n",
       "<table border=\"1\" class=\"dataframe\">\n",
       "  <thead>\n",
       "    <tr style=\"text-align: right;\">\n",
       "      <th></th>\n",
       "      <th>characteristic</th>\n",
       "      <th>Male-%</th>\n",
       "      <th>Male-S.E.</th>\n",
       "      <th>Male-estimate</th>\n",
       "      <th>Female-%</th>\n",
       "      <th>Female-S.E.</th>\n",
       "      <th>Female-estimate</th>\n",
       "      <th>Total-%</th>\n",
       "      <th>Total-S.E.</th>\n",
       "      <th>Total-estimate</th>\n",
       "      <th>race-ethnicity</th>\n",
       "    </tr>\n",
       "  </thead>\n",
       "  <tbody>\n",
       "    <tr>\n",
       "      <th>6</th>\n",
       "      <td>18–29</td>\n",
       "      <td>10.19</td>\n",
       "      <td>0.81</td>\n",
       "      <td>1405</td>\n",
       "      <td>5.56</td>\n",
       "      <td>0.54</td>\n",
       "      <td>777</td>\n",
       "      <td>7.86</td>\n",
       "      <td>0.50</td>\n",
       "      <td>2182</td>\n",
       "      <td>White</td>\n",
       "    </tr>\n",
       "    <tr>\n",
       "      <th>7</th>\n",
       "      <td>30–44</td>\n",
       "      <td>10.10</td>\n",
       "      <td>0.63</td>\n",
       "      <td>2166</td>\n",
       "      <td>4.13</td>\n",
       "      <td>0.38</td>\n",
       "      <td>902</td>\n",
       "      <td>7.09</td>\n",
       "      <td>0.40</td>\n",
       "      <td>3068</td>\n",
       "      <td>White</td>\n",
       "    </tr>\n",
       "    <tr>\n",
       "      <th>8</th>\n",
       "      <td>45–64</td>\n",
       "      <td>5.97</td>\n",
       "      <td>0.51</td>\n",
       "      <td>1425</td>\n",
       "      <td>2.02</td>\n",
       "      <td>0.26</td>\n",
       "      <td>499</td>\n",
       "      <td>3.96</td>\n",
       "      <td>0.30</td>\n",
       "      <td>1925</td>\n",
       "      <td>White</td>\n",
       "    </tr>\n",
       "    <tr>\n",
       "      <th>9</th>\n",
       "      <td>65+</td>\n",
       "      <td>2.38</td>\n",
       "      <td>0.35</td>\n",
       "      <td>279</td>\n",
       "      <td>0.36</td>\n",
       "      <td>0.10</td>\n",
       "      <td>58</td>\n",
       "      <td>1.21</td>\n",
       "      <td>0.16</td>\n",
       "      <td>336</td>\n",
       "      <td>White</td>\n",
       "    </tr>\n",
       "    <tr>\n",
       "      <th>11</th>\n",
       "      <td>18–29</td>\n",
       "      <td>6.92</td>\n",
       "      <td>1.28</td>\n",
       "      <td>166</td>\n",
       "      <td>2.10</td>\n",
       "      <td>0.45</td>\n",
       "      <td>68</td>\n",
       "      <td>4.28</td>\n",
       "      <td>0.67</td>\n",
       "      <td>254</td>\n",
       "      <td>Black</td>\n",
       "    </tr>\n",
       "  </tbody>\n",
       "</table>\n",
       "</div>"
      ],
      "text/plain": [
       "   characteristic  Male-%  Male-S.E.  Male-estimate  Female-%  Female-S.E.  \\\n",
       "6           18–29   10.19       0.81           1405      5.56         0.54   \n",
       "7           30–44   10.10       0.63           2166      4.13         0.38   \n",
       "8           45–64    5.97       0.51           1425      2.02         0.26   \n",
       "9             65+    2.38       0.35            279      0.36         0.10   \n",
       "11          18–29    6.92       1.28            166      2.10         0.45   \n",
       "\n",
       "    Female-estimate  Total-%  Total-S.E.  Total-estimate race-ethnicity  \n",
       "6               777     7.86        0.50            2182          White  \n",
       "7               902     7.09        0.40            3068          White  \n",
       "8               499     3.96        0.30            1925          White  \n",
       "9                58     1.21        0.16             336          White  \n",
       "11               68     4.28        0.67             254          Black  "
      ]
     },
     "execution_count": 17,
     "metadata": {},
     "output_type": "execute_result"
    }
   ],
   "source": [
    "dfc.head()"
   ]
  },
  {
   "cell_type": "markdown",
   "metadata": {
    "slideshow": {
     "slide_type": "slide"
    }
   },
   "source": [
    "# How many people do we have total of each race?\n",
    "1. `groupby` - aggregate\n",
    "2. `sum` - reduce\n",
    "3. More info: https://pandas.pydata.org/pandas-docs/stable/user_guide/reshaping.html"
   ]
  },
  {
   "cell_type": "code",
   "execution_count": 23,
   "metadata": {
    "slideshow": {
     "slide_type": "slide"
    }
   },
   "outputs": [
    {
     "data": {
      "text/plain": [
       "('Asian(c)',\n",
       "    characteristic  Male-%  Male-S.E.  Male-estimate  Female-%  Female-S.E.  \\\n",
       " 21          18–29    4.77       1.81             63      3.89         1.38   \n",
       " 22          30–44    4.22       1.54             64      0.23         0.22   \n",
       " 23          45–64    1.13       0.78             13      0.20         0.20   \n",
       " 24            65+    0.00       0.00              0      0.00         0.00   \n",
       " \n",
       "     Female-estimate  Total-%  Total-S.E.  Total-estimate race-ethnicity  \n",
       " 21               47     4.35        1.25             110       Asian(c)  \n",
       " 22                4     2.18        0.79              68       Asian(c)  \n",
       " 23                3     0.61        0.32              16       Asian(c)  \n",
       " 24                0     0.00        0.00               0       Asian(c)  )"
      ]
     },
     "execution_count": 23,
     "metadata": {},
     "output_type": "execute_result"
    }
   ],
   "source": [
    "ragg = dfc.groupby('race-ethnicity')\n",
    "# All rows in first group\n",
    "list(ragg)[0]"
   ]
  },
  {
   "cell_type": "code",
   "execution_count": 25,
   "metadata": {},
   "outputs": [
    {
     "data": {
      "text/html": [
       "<div>\n",
       "<style scoped>\n",
       "    .dataframe tbody tr th:only-of-type {\n",
       "        vertical-align: middle;\n",
       "    }\n",
       "\n",
       "    .dataframe tbody tr th {\n",
       "        vertical-align: top;\n",
       "    }\n",
       "\n",
       "    .dataframe thead th {\n",
       "        text-align: right;\n",
       "    }\n",
       "</style>\n",
       "<table border=\"1\" class=\"dataframe\">\n",
       "  <thead>\n",
       "    <tr style=\"text-align: right;\">\n",
       "      <th></th>\n",
       "      <th>Male-%</th>\n",
       "      <th>Male-S.E.</th>\n",
       "      <th>Male-estimate</th>\n",
       "      <th>Female-%</th>\n",
       "      <th>Female-S.E.</th>\n",
       "      <th>Female-estimate</th>\n",
       "      <th>Total-%</th>\n",
       "      <th>Total-S.E.</th>\n",
       "      <th>Total-estimate</th>\n",
       "    </tr>\n",
       "    <tr>\n",
       "      <th>race-ethnicity</th>\n",
       "      <th></th>\n",
       "      <th></th>\n",
       "      <th></th>\n",
       "      <th></th>\n",
       "      <th></th>\n",
       "      <th></th>\n",
       "      <th></th>\n",
       "      <th></th>\n",
       "      <th></th>\n",
       "    </tr>\n",
       "  </thead>\n",
       "  <tbody>\n",
       "    <tr>\n",
       "      <th>Asian(c)</th>\n",
       "      <td>10.12</td>\n",
       "      <td>4.13</td>\n",
       "      <td>140</td>\n",
       "      <td>4.32</td>\n",
       "      <td>1.80</td>\n",
       "      <td>54</td>\n",
       "      <td>7.14</td>\n",
       "      <td>2.36</td>\n",
       "      <td>194</td>\n",
       "    </tr>\n",
       "    <tr>\n",
       "      <th>Black</th>\n",
       "      <td>20.23</td>\n",
       "      <td>3.56</td>\n",
       "      <td>555</td>\n",
       "      <td>4.98</td>\n",
       "      <td>1.24</td>\n",
       "      <td>182</td>\n",
       "      <td>11.67</td>\n",
       "      <td>1.78</td>\n",
       "      <td>755</td>\n",
       "    </tr>\n",
       "    <tr>\n",
       "      <th>Hispanic/Latino</th>\n",
       "      <td>22.00</td>\n",
       "      <td>4.12</td>\n",
       "      <td>759</td>\n",
       "      <td>5.13</td>\n",
       "      <td>1.32</td>\n",
       "      <td>194</td>\n",
       "      <td>13.50</td>\n",
       "      <td>2.05</td>\n",
       "      <td>954</td>\n",
       "    </tr>\n",
       "    <tr>\n",
       "      <th>Native American(b)</th>\n",
       "      <td>31.36</td>\n",
       "      <td>13.29</td>\n",
       "      <td>157</td>\n",
       "      <td>17.32</td>\n",
       "      <td>10.35</td>\n",
       "      <td>97</td>\n",
       "      <td>23.90</td>\n",
       "      <td>9.01</td>\n",
       "      <td>254</td>\n",
       "    </tr>\n",
       "    <tr>\n",
       "      <th>White</th>\n",
       "      <td>28.64</td>\n",
       "      <td>2.30</td>\n",
       "      <td>5275</td>\n",
       "      <td>12.07</td>\n",
       "      <td>1.28</td>\n",
       "      <td>2236</td>\n",
       "      <td>20.12</td>\n",
       "      <td>1.36</td>\n",
       "      <td>7511</td>\n",
       "    </tr>\n",
       "  </tbody>\n",
       "</table>\n",
       "</div>"
      ],
      "text/plain": [
       "                    Male-%  Male-S.E.  Male-estimate  Female-%  Female-S.E.  \\\n",
       "race-ethnicity                                                                \n",
       "Asian(c)             10.12       4.13            140      4.32         1.80   \n",
       "Black                20.23       3.56            555      4.98         1.24   \n",
       "Hispanic/Latino      22.00       4.12            759      5.13         1.32   \n",
       "Native American(b)   31.36      13.29            157     17.32        10.35   \n",
       "White                28.64       2.30           5275     12.07         1.28   \n",
       "\n",
       "                    Female-estimate  Total-%  Total-S.E.  Total-estimate  \n",
       "race-ethnicity                                                            \n",
       "Asian(c)                         54     7.14        2.36             194  \n",
       "Black                           182    11.67        1.78             755  \n",
       "Hispanic/Latino                 194    13.50        2.05             954  \n",
       "Native American(b)               97    23.90        9.01             254  \n",
       "White                          2236    20.12        1.36            7511  "
      ]
     },
     "execution_count": 25,
     "metadata": {},
     "output_type": "execute_result"
    }
   ],
   "source": [
    "# sums all the rows in a group\n",
    "rsum = ragg.sum()\n",
    "rsum"
   ]
  },
  {
   "cell_type": "markdown",
   "metadata": {
    "slideshow": {
     "slide_type": "slide"
    }
   },
   "source": [
    "## Can we visualize that?"
   ]
  },
  {
   "cell_type": "markdown",
   "metadata": {
    "slideshow": {
     "slide_type": "slide"
    }
   },
   "source": [
    "## Let's talk pictures in Python\n",
    "There are many visualization libraries, but we will primarily use [matplotlib](https://matplotlib.org/index.html). We can use matplotlib directly or through Pandas.\n",
    "\n",
    "![annotated figure with matplotlib terms for each aspect](figs/L06/anatomy_mpl.png)\n"
   ]
  },
  {
   "cell_type": "code",
   "execution_count": 28,
   "metadata": {},
   "outputs": [
    {
     "data": {
      "text/plain": [
       "Index(['Asian(c)', 'Black', 'Hispanic/Latino', 'Native American(b)', 'White'], dtype='object', name='race-ethnicity')"
      ]
     },
     "execution_count": 28,
     "metadata": {},
     "output_type": "execute_result"
    }
   ],
   "source": [
    "rsum.index"
   ]
  },
  {
   "cell_type": "code",
   "execution_count": 31,
   "metadata": {
    "slideshow": {
     "slide_type": "slide"
    }
   },
   "outputs": [
    {
     "data": {
      "image/png": "[encoded data removed]",
      "text/plain": [
       "<Figure size 720x360 with 1 Axes>"
      ]
     },
     "metadata": {
      "needs_background": "light"
     },
     "output_type": "display_data"
    }
   ],
   "source": [
    "%matplotlib inline \n",
    "\n",
    "import matplotlib.pyplot as plt\n",
    "\n",
    "#create an image, make it pretty wide: figsize=(width, height)\n",
    "fig, ax = plt.subplots(figsize=(10,5)) \n",
    "# using matplotlib's bar function (directly, ax.bar(x values, heights)\n",
    "_ = ax.bar(rsum.index, rsum['Total-estimate'])\n",
    "#_ suppresses output"
   ]
  },
  {
   "cell_type": "code",
   "execution_count": 33,
   "metadata": {
    "slideshow": {
     "slide_type": "slide"
    }
   },
   "outputs": [
    {
     "data": {
      "image/png": "[encoded data removed]",
      "text/plain": [
       "<Figure size 432x288 with 1 Axes>"
      ]
     },
     "metadata": {
      "needs_background": "light"
     },
     "output_type": "display_data"
    }
   ],
   "source": [
    "# Alternatively, we can use a Pandas wrapper on matplotlib to generate a bar\n",
    "# Pandas-quicker, Matplotlib-more customization\n",
    "_ = rsum['Total-estimate'].plot.bar()"
   ]
  },
  {
   "cell_type": "code",
   "execution_count": 34,
   "metadata": {},
   "outputs": [
    {
     "data": {
      "image/png": "[encoded data removed]",
      "text/plain": [
       "<Figure size 432x288 with 1 Axes>"
      ]
     },
     "metadata": {},
     "output_type": "display_data"
    }
   ],
   "source": [
    "_ = rsum['Total-estimate'].plot.pie()"
   ]
  },
  {
   "cell_type": "markdown",
   "metadata": {
    "slideshow": {
     "slide_type": "slide"
    }
   },
   "source": [
    "# Practice: Get aggregates by characteristic (age)\n",
    "1. Total\n",
    "2. Male\n",
    "3. Female\n",
    "4."
   ]
  },
  {
   "cell_type": "markdown",
   "metadata": {
    "slideshow": {
     "slide_type": "slide"
    }
   },
   "source": [
    "# Can we see characteristic by race?"
   ]
  },
  {
   "cell_type": "code",
   "execution_count": 35,
   "metadata": {
    "slideshow": {
     "slide_type": "slide"
    }
   },
   "outputs": [],
   "source": [
    "table = df.pivot(index='characteristic', columns='race-ethnicity', \n",
    "                    values=['Male-%', 'Female-%', 'Total-%'])\n"
   ]
  },
  {
   "cell_type": "code",
   "execution_count": 36,
   "metadata": {
    "slideshow": {
     "slide_type": "slide"
    }
   },
   "outputs": [
    {
     "data": {
      "text/html": [
       "<div>\n",
       "<style scoped>\n",
       "    .dataframe tbody tr th:only-of-type {\n",
       "        vertical-align: middle;\n",
       "    }\n",
       "\n",
       "    .dataframe tbody tr th {\n",
       "        vertical-align: top;\n",
       "    }\n",
       "\n",
       "    .dataframe thead tr th {\n",
       "        text-align: left;\n",
       "    }\n",
       "\n",
       "    .dataframe thead tr:last-of-type th {\n",
       "        text-align: right;\n",
       "    }\n",
       "</style>\n",
       "<table border=\"1\" class=\"dataframe\">\n",
       "  <thead>\n",
       "    <tr>\n",
       "      <th></th>\n",
       "      <th colspan=\"6\" halign=\"left\">Male-%</th>\n",
       "      <th colspan=\"6\" halign=\"left\">Female-%</th>\n",
       "      <th colspan=\"6\" halign=\"left\">Total-%</th>\n",
       "    </tr>\n",
       "    <tr>\n",
       "      <th>race-ethnicity</th>\n",
       "      <th>Asian(c)</th>\n",
       "      <th>Black</th>\n",
       "      <th>Hispanic/Latino</th>\n",
       "      <th>Native American(b)</th>\n",
       "      <th>Total</th>\n",
       "      <th>White</th>\n",
       "      <th>Asian(c)</th>\n",
       "      <th>Black</th>\n",
       "      <th>Hispanic/Latino</th>\n",
       "      <th>Native American(b)</th>\n",
       "      <th>Total</th>\n",
       "      <th>White</th>\n",
       "      <th>Asian(c)</th>\n",
       "      <th>Black</th>\n",
       "      <th>Hispanic/Latino</th>\n",
       "      <th>Native American(b)</th>\n",
       "      <th>Total</th>\n",
       "      <th>White</th>\n",
       "    </tr>\n",
       "    <tr>\n",
       "      <th>characteristic</th>\n",
       "      <th></th>\n",
       "      <th></th>\n",
       "      <th></th>\n",
       "      <th></th>\n",
       "      <th></th>\n",
       "      <th></th>\n",
       "      <th></th>\n",
       "      <th></th>\n",
       "      <th></th>\n",
       "      <th></th>\n",
       "      <th></th>\n",
       "      <th></th>\n",
       "      <th></th>\n",
       "      <th></th>\n",
       "      <th></th>\n",
       "      <th></th>\n",
       "      <th></th>\n",
       "      <th></th>\n",
       "    </tr>\n",
       "  </thead>\n",
       "  <tbody>\n",
       "    <tr>\n",
       "      <th>18–29</th>\n",
       "      <td>4.77</td>\n",
       "      <td>6.92</td>\n",
       "      <td>9.08</td>\n",
       "      <td>15.25</td>\n",
       "      <td>9.35</td>\n",
       "      <td>10.19</td>\n",
       "      <td>3.89</td>\n",
       "      <td>2.10</td>\n",
       "      <td>3.04</td>\n",
       "      <td>6.68</td>\n",
       "      <td>4.57</td>\n",
       "      <td>5.56</td>\n",
       "      <td>4.35</td>\n",
       "      <td>4.28</td>\n",
       "      <td>6.28</td>\n",
       "      <td>10.35</td>\n",
       "      <td>6.95</td>\n",
       "      <td>7.86</td>\n",
       "    </tr>\n",
       "    <tr>\n",
       "      <th>30–44</th>\n",
       "      <td>4.22</td>\n",
       "      <td>7.04</td>\n",
       "      <td>4.88</td>\n",
       "      <td>7.67</td>\n",
       "      <td>8.69</td>\n",
       "      <td>10.10</td>\n",
       "      <td>0.23</td>\n",
       "      <td>1.51</td>\n",
       "      <td>1.46</td>\n",
       "      <td>6.52</td>\n",
       "      <td>3.31</td>\n",
       "      <td>4.13</td>\n",
       "      <td>2.18</td>\n",
       "      <td>3.95</td>\n",
       "      <td>3.23</td>\n",
       "      <td>7.07</td>\n",
       "      <td>5.95</td>\n",
       "      <td>7.09</td>\n",
       "    </tr>\n",
       "    <tr>\n",
       "      <th>45–64</th>\n",
       "      <td>1.13</td>\n",
       "      <td>4.48</td>\n",
       "      <td>4.35</td>\n",
       "      <td>4.85</td>\n",
       "      <td>5.50</td>\n",
       "      <td>5.97</td>\n",
       "      <td>0.20</td>\n",
       "      <td>1.25</td>\n",
       "      <td>0.63</td>\n",
       "      <td>0.00</td>\n",
       "      <td>1.70</td>\n",
       "      <td>2.02</td>\n",
       "      <td>0.61</td>\n",
       "      <td>2.66</td>\n",
       "      <td>2.43</td>\n",
       "      <td>2.57</td>\n",
       "      <td>3.54</td>\n",
       "      <td>3.96</td>\n",
       "    </tr>\n",
       "    <tr>\n",
       "      <th>65+</th>\n",
       "      <td>0.00</td>\n",
       "      <td>1.79</td>\n",
       "      <td>3.69</td>\n",
       "      <td>3.59</td>\n",
       "      <td>2.36</td>\n",
       "      <td>2.38</td>\n",
       "      <td>0.00</td>\n",
       "      <td>0.12</td>\n",
       "      <td>0.00</td>\n",
       "      <td>4.12</td>\n",
       "      <td>0.38</td>\n",
       "      <td>0.36</td>\n",
       "      <td>0.00</td>\n",
       "      <td>0.78</td>\n",
       "      <td>1.56</td>\n",
       "      <td>3.91</td>\n",
       "      <td>1.21</td>\n",
       "      <td>1.21</td>\n",
       "    </tr>\n",
       "    <tr>\n",
       "      <th>Total</th>\n",
       "      <td>3.20</td>\n",
       "      <td>5.71</td>\n",
       "      <td>6.21</td>\n",
       "      <td>7.47</td>\n",
       "      <td>6.93</td>\n",
       "      <td>7.45</td>\n",
       "      <td>1.13</td>\n",
       "      <td>1.41</td>\n",
       "      <td>1.65</td>\n",
       "      <td>4.18</td>\n",
       "      <td>2.55</td>\n",
       "      <td>2.92</td>\n",
       "      <td>2.13</td>\n",
       "      <td>3.29</td>\n",
       "      <td>3.97</td>\n",
       "      <td>5.75</td>\n",
       "      <td>4.65</td>\n",
       "      <td>5.10</td>\n",
       "    </tr>\n",
       "  </tbody>\n",
       "</table>\n",
       "</div>"
      ],
      "text/plain": [
       "                 Male-%                                                        \\\n",
       "race-ethnicity Asian(c) Black Hispanic/Latino Native American(b) Total  White   \n",
       "characteristic                                                                  \n",
       "18–29              4.77  6.92            9.08              15.25  9.35  10.19   \n",
       "30–44              4.22  7.04            4.88               7.67  8.69  10.10   \n",
       "45–64              1.13  4.48            4.35               4.85  5.50   5.97   \n",
       "65+                0.00  1.79            3.69               3.59  2.36   2.38   \n",
       "Total              3.20  5.71            6.21               7.47  6.93   7.45   \n",
       "\n",
       "               Female-%                                                       \\\n",
       "race-ethnicity Asian(c) Black Hispanic/Latino Native American(b) Total White   \n",
       "characteristic                                                                 \n",
       "18–29              3.89  2.10            3.04               6.68  4.57  5.56   \n",
       "30–44              0.23  1.51            1.46               6.52  3.31  4.13   \n",
       "45–64              0.20  1.25            0.63               0.00  1.70  2.02   \n",
       "65+                0.00  0.12            0.00               4.12  0.38  0.36   \n",
       "Total              1.13  1.41            1.65               4.18  2.55  2.92   \n",
       "\n",
       "                Total-%                                                       \n",
       "race-ethnicity Asian(c) Black Hispanic/Latino Native American(b) Total White  \n",
       "characteristic                                                                \n",
       "18–29              4.35  4.28            6.28              10.35  6.95  7.86  \n",
       "30–44              2.18  3.95            3.23               7.07  5.95  7.09  \n",
       "45–64              0.61  2.66            2.43               2.57  3.54  3.96  \n",
       "65+                0.00  0.78            1.56               3.91  1.21  1.21  \n",
       "Total              2.13  3.29            3.97               5.75  4.65  5.10  "
      ]
     },
     "execution_count": 36,
     "metadata": {},
     "output_type": "execute_result"
    }
   ],
   "source": [
    "table"
   ]
  },
  {
   "cell_type": "code",
   "execution_count": null,
   "metadata": {
    "slideshow": {
     "slide_type": "slide"
    }
   },
   "outputs": [],
   "source": [
    "_ = table['Male-%'].plot.bar()"
   ]
  },
  {
   "cell_type": "code",
   "execution_count": null,
   "metadata": {
    "slideshow": {
     "slide_type": "slide"
    }
   },
   "outputs": [],
   "source": [
    "# clean it up a bit using stacked bar plots\n",
    "_ = table['Male-%'].plot.bar(stacked=True)"
   ]
  },
  {
   "cell_type": "code",
   "execution_count": null,
   "metadata": {
    "slideshow": {
     "slide_type": "slide"
    }
   },
   "outputs": [],
   "source": [
    "# Switch the grouping by flipping the table\n",
    "table['Male-%'].T"
   ]
  },
  {
   "cell_type": "code",
   "execution_count": null,
   "metadata": {
    "slideshow": {
     "slide_type": "slide"
    }
   },
   "outputs": [],
   "source": [
    "_ = table['Male-%'].T.plot.bar(stacked=True)"
   ]
  },
  {
   "cell_type": "markdown",
   "metadata": {
    "slideshow": {
     "slide_type": "slide"
    }
   },
   "source": [
    "# Practice:\n",
    "1. See how women differ\n",
    "2. Try a different column set"
   ]
  },
  {
   "cell_type": "markdown",
   "metadata": {
    "slideshow": {
     "slide_type": "slide"
    }
   },
   "source": [
    "# Let's do some math!"
   ]
  },
  {
   "cell_type": "code",
   "execution_count": null,
   "metadata": {
    "slideshow": {
     "slide_type": "slide"
    }
   },
   "outputs": [],
   "source": [
    "# Let's use columwise summation (axis=1) to confirm that the male and female estimates sum to the total\n",
    "dfc[['Male-estimate', 'Female-estimate']].sum(axis=1)"
   ]
  },
  {
   "cell_type": "code",
   "execution_count": null,
   "metadata": {},
   "outputs": [],
   "source": [
    "#let's see where it's off a bit\n",
    "dfc[~(dfc[['Male-estimate', 'Female-estimate']].sum(axis=1) == dfc['Total-estimate'])]"
   ]
  },
  {
   "cell_type": "code",
   "execution_count": null,
   "metadata": {
    "slideshow": {
     "slide_type": "slide"
    }
   },
   "outputs": [],
   "source": [
    "# mean per column:\n",
    "dfc.mean()"
   ]
  },
  {
   "cell_type": "code",
   "execution_count": null,
   "metadata": {
    "slideshow": {
     "slide_type": "slide"
    }
   },
   "outputs": [],
   "source": [
    "# full summary stats\n",
    "dfc.describe()"
   ]
  },
  {
   "cell_type": "code",
   "execution_count": null,
   "metadata": {
    "slideshow": {
     "slide_type": "slide"
    }
   },
   "outputs": [],
   "source": [
    "# Standard deviation\n",
    "dfc.groupby(['race-ethnicity']).std()"
   ]
  },
  {
   "cell_type": "code",
   "execution_count": null,
   "metadata": {
    "slideshow": {
     "slide_type": "slide"
    }
   },
   "outputs": [],
   "source": [
    "# What if we want the mean for each race-ethnicity?\n",
    "estimates = dfc.groupby(['race-ethnicity'])[['Male-estimate', 'Female-estimate', 'Total-estimate']].sum()"
   ]
  },
  {
   "cell_type": "code",
   "execution_count": null,
   "metadata": {
    "slideshow": {
     "slide_type": "slide"
    }
   },
   "outputs": [],
   "source": [
    "estimates"
   ]
  },
  {
   "cell_type": "code",
   "execution_count": null,
   "metadata": {
    "slideshow": {
     "slide_type": "slide"
    }
   },
   "outputs": [],
   "source": [
    "# remove total so we're not double counting on the visualization\n",
    "est_sex = estimates[['Male-estimate', 'Female-estimate']]\n",
    "_ = est_sex.plot.bar(stacked=True)"
   ]
  },
  {
   "cell_type": "code",
   "execution_count": null,
   "metadata": {
    "slideshow": {
     "slide_type": "slide"
    }
   },
   "outputs": [],
   "source": [
    "#pictures need lots of polishing, this is just exploratory\n",
    "_ = est_sex.plot.pie(subplots=True, figsize=(10,5))"
   ]
  },
  {
   "cell_type": "code",
   "execution_count": null,
   "metadata": {
    "slideshow": {
     "slide_type": "slide"
    }
   },
   "outputs": [],
   "source": [
    "_ = est_sex.T.plot.bar(stacked=True)"
   ]
  },
  {
   "cell_type": "code",
   "execution_count": null,
   "metadata": {
    "slideshow": {
     "slide_type": "slide"
    }
   },
   "outputs": [],
   "source": [
    "# let's look at gender, which means removing totals\n",
    "_ = est_sex.T['White'].plot.pie()"
   ]
  },
  {
   "cell_type": "markdown",
   "metadata": {
    "slideshow": {
     "slide_type": "slide"
    }
   },
   "source": [
    "# Practice\n",
    "Try plotting a different race-ethnicity"
   ]
  },
  {
   "cell_type": "code",
   "execution_count": null,
   "metadata": {
    "slideshow": {
     "slide_type": "slide"
    }
   },
   "outputs": [],
   "source": [
    "# Let's use a boxplot to visualize the different groupings\n",
    "# using the seaborn visualization library to provide stats graphs\n",
    "import seaborn as sns\n",
    "sns.boxplot(x = 'race-ethnicity', y = 'Male-estimate', data=dfc)"
   ]
  },
  {
   "cell_type": "markdown",
   "metadata": {
    "slideshow": {
     "slide_type": "slide"
    }
   },
   "source": [
    "# Practice \n",
    "Get the mean for each demographic/characteristic (aggregate over race)"
   ]
  },
  {
   "cell_type": "markdown",
   "metadata": {
    "slideshow": {
     "slide_type": "slide"
    }
   },
   "source": [
    "# How do we join two datasets?\n",
    "![table merge where 1st row is scanned and on match with element in second row, new row is created with elements of both](figs/L06/merge.gif)\n",
    "\n",
    "Source [Randy Au, Can we stop with the SQL JOINs venn diagrams insanity?](https://towardsdatascience.com/can-we-stop-with-the-sql-joins-venn-diagrams-insanity-16791d9250c3?sk=f8bfa36658362ee6d54951681967a45b)\n"
   ]
  },
  {
   "cell_type": "code",
   "execution_count": null,
   "metadata": {
    "slideshow": {
     "slide_type": "slide"
    }
   },
   "outputs": [],
   "source": [
    "df2 = pd.read_csv(\"../data/dependency.csv\")"
   ]
  },
  {
   "cell_type": "code",
   "execution_count": null,
   "metadata": {
    "slideshow": {
     "slide_type": "slide"
    }
   },
   "outputs": [],
   "source": [
    "df2.head()"
   ]
  },
  {
   "cell_type": "code",
   "execution_count": null,
   "metadata": {
    "slideshow": {
     "slide_type": "slide"
    }
   },
   "outputs": [],
   "source": [
    "# need both characteristic and race-ethnicty for row uniquiness\n",
    "pd.merge(df, df2, on=['characteristic', 'race-ethnicity'])"
   ]
  },
  {
   "cell_type": "code",
   "execution_count": null,
   "metadata": {
    "slideshow": {
     "slide_type": "slide"
    }
   },
   "outputs": [],
   "source": [
    "#lets use better identifiers than x, y\n",
    "data = pd.merge(df, df2, on=['characteristic', 'race-ethnicity'], suffixes=('-abuse', '-dependency'))"
   ]
  },
  {
   "cell_type": "code",
   "execution_count": null,
   "metadata": {
    "slideshow": {
     "slide_type": "slide"
    }
   },
   "outputs": [],
   "source": [
    "data.head()"
   ]
  },
  {
   "cell_type": "code",
   "execution_count": null,
   "metadata": {
    "slideshow": {
     "slide_type": "slide"
    }
   },
   "outputs": [],
   "source": [
    "# let's get just estimate data\n",
    "ecol = [est for est in data.columns if 'estimate' in est]\n",
    "ecol"
   ]
  },
  {
   "cell_type": "code",
   "execution_count": null,
   "metadata": {
    "slideshow": {
     "slide_type": "slide"
    }
   },
   "outputs": [],
   "source": [
    "estdf = data[['characteristic', 'race-ethnicity']+ecol]"
   ]
  },
  {
   "cell_type": "code",
   "execution_count": null,
   "metadata": {
    "slideshow": {
     "slide_type": "slide"
    }
   },
   "outputs": [],
   "source": [
    "estdf.head()"
   ]
  },
  {
   "cell_type": "markdown",
   "metadata": {
    "slideshow": {
     "slide_type": "slide"
    }
   },
   "source": [
    "# Practice\n",
    "1. For each race/demo/sex, find if the abuse or dependency is higher, and the difference between the two\n",
    "2. Visualize the difference"
   ]
  }
 ],
 "metadata": {
  "celltoolbar": "Slideshow",
  "kernelspec": {
   "display_name": "Python 3",
   "language": "python",
   "name": "python3"
  },
  "language_info": {
   "codemirror_mode": {
    "name": "ipython",
    "version": 3
   },
   "file_extension": ".py",
   "mimetype": "text/x-python",
   "name": "python",
   "nbconvert_exporter": "python",
   "pygments_lexer": "ipython3",
   "version": "3.7.2"
  },
  "varInspector": {
   "cols": {
    "lenName": 16,
    "lenType": 16,
    "lenVar": 40
   },
   "kernels_config": {
    "python": {
     "delete_cmd_postfix": "",
     "delete_cmd_prefix": "del ",
     "library": "var_list.py",
     "varRefreshCmd": "print(var_dic_list())"
    },
    "r": {
     "delete_cmd_postfix": ") ",
     "delete_cmd_prefix": "rm(",
     "library": "var_list.r",
     "varRefreshCmd": "cat(var_dic_list()) "
    }
   },
   "position": {
    "height": "251.85px",
    "left": "389px",
    "right": "206.2px",
    "top": "45px",
    "width": "556.8px"
   },
   "types_to_exclude": [
    "module",
    "function",
    "builtin_function_or_method",
    "instance",
    "_Feature"
   ],
   "window_display": false
  }
 },
 "nbformat": 4,
 "nbformat_minor": 2
}
